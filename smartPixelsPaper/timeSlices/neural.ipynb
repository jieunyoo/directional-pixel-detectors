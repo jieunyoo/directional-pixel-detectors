{
 "cells": [
  {
   "cell_type": "code",
   "execution_count": 1,
   "metadata": {
    "executionInfo": {
     "elapsed": 325,
     "status": "ok",
     "timestamp": 1661339602853,
     "user": {
      "displayName": "Jieun Yoo",
      "userId": "18119058923405700980"
     },
     "user_tz": 240
    },
    "id": "rBtxrTBefH0P"
   },
   "outputs": [],
   "source": [
    "import numpy as np\n",
    "import pandas as pd\n",
    "from pandas import read_csv\n",
    "import math\n",
    "import matplotlib.pyplot as plt"
   ]
  },
  {
   "cell_type": "code",
   "execution_count": 2,
   "metadata": {
    "executionInfo": {
     "elapsed": 2292,
     "status": "ok",
     "timestamp": 1661339605144,
     "user": {
      "displayName": "Jieun Yoo",
      "userId": "18119058923405700980"
     },
     "user_tz": 240
    },
    "id": "ZJrHnJOWfNWI"
   },
   "outputs": [
    {
     "name": "stderr",
     "output_type": "stream",
     "text": [
      "2022-12-08 12:33:19.927857: I tensorflow/core/platform/cpu_feature_guard.cc:193] This TensorFlow binary is optimized with oneAPI Deep Neural Network Library (oneDNN) to use the following CPU instructions in performance-critical operations:  SSE4.1 SSE4.2 AVX AVX2 FMA\n",
      "To enable them in other operations, rebuild TensorFlow with the appropriate compiler flags.\n"
     ]
    }
   ],
   "source": [
    "from sklearn.model_selection import train_test_split\n",
    "from sklearn.metrics import mean_squared_error\n",
    "from sklearn.preprocessing import StandardScaler\n",
    "from sklearn.metrics import confusion_matrix\n",
    "from sklearn.metrics import classification_report\n",
    "import tensorflow as tf\n",
    "from tensorflow.keras import datasets, layers, models\n",
    "import keras\n",
    "from keras.models import Sequential\n",
    "\n",
    "\n",
    "from keras.models import Model\n",
    "#from tensorflow.python.keras.models import Input\n",
    "#from tensorflow.python.keras.models import Model\n",
    "#from tensorflow.keras.layers import InputLayer\n",
    "from tensorflow.keras import Input\n",
    "from tensorflow.keras import Model\n",
    "\n",
    "from keras.layers import Concatenate, concatenate\n",
    "from keras.layers import Dense, Dropout, Flatten\n",
    "from keras.layers import Conv2D, MaxPooling2D\n",
    "from keras.callbacks import CSVLogger\n",
    "from keras.callbacks import EarlyStopping"
   ]
  },
  {
   "cell_type": "code",
   "execution_count": 3,
   "metadata": {
    "executionInfo": {
     "elapsed": 21355,
     "status": "ok",
     "timestamp": 1661339626497,
     "user": {
      "displayName": "Jieun Yoo",
      "userId": "18119058923405700980"
     },
     "user_tz": 240
    },
    "id": "-lHseIdtfO7T"
   },
   "outputs": [],
   "source": [
    "df1 = pd.read_csv('/uscms/home/jieun201/nobackup/YOURWORKINGAREA/dec8_ds8_ts/InputTrain_noYlocal.csv') #this is only 'image'\n",
    "df2 = pd.read_csv('/uscms/home/jieun201/nobackup/YOURWORKINGAREA/dec8_ds8_ts/TrainSetLabel.csv')\n",
    "df3 = pd.read_csv('/uscms/home/jieun201/nobackup/YOURWORKINGAREA/dec8_ds8_ts/InputTest_noYlocal.csv')\n",
    "df4 = pd. read_csv('/uscms/home/jieun201/nobackup/YOURWORKINGAREA/dec8_ds8_ts/TestSetLabel.csv')\n",
    "\n",
    "df5 = pd.read_csv('/uscms/home/jieun201/nobackup/YOURWORKINGAREA/dec8_ds8_ts/y-localTrain.csv') #ylocalTrain\n",
    "df6 = pd.read_csv('/uscms/home/jieun201/nobackup/YOURWORKINGAREA/dec8_ds8_ts/y-localTest.csv') #ylocaltest"
   ]
  },
  {
   "cell_type": "code",
   "execution_count": 4,
   "metadata": {
    "colab": {
     "base_uri": "https://localhost:8080/",
     "height": 424
    },
    "executionInfo": {
     "elapsed": 331,
     "status": "ok",
     "timestamp": 1661339626819,
     "user": {
      "displayName": "Jieun Yoo",
      "userId": "18119058923405700980"
     },
     "user_tz": 240
    },
    "id": "XJduteLzhZL0",
    "outputId": "ea82c597-0779-4b9c-dcf3-3f8995dcc70c"
   },
   "outputs": [
    {
     "data": {
      "text/html": [
       "<div>\n",
       "<style scoped>\n",
       "    .dataframe tbody tr th:only-of-type {\n",
       "        vertical-align: middle;\n",
       "    }\n",
       "\n",
       "    .dataframe tbody tr th {\n",
       "        vertical-align: top;\n",
       "    }\n",
       "\n",
       "    .dataframe thead th {\n",
       "        text-align: right;\n",
       "    }\n",
       "</style>\n",
       "<table border=\"1\" class=\"dataframe\">\n",
       "  <thead>\n",
       "    <tr style=\"text-align: right;\">\n",
       "      <th></th>\n",
       "      <th>0</th>\n",
       "      <th>1</th>\n",
       "      <th>2</th>\n",
       "      <th>3</th>\n",
       "      <th>4</th>\n",
       "      <th>5</th>\n",
       "      <th>6</th>\n",
       "      <th>7</th>\n",
       "      <th>8</th>\n",
       "      <th>9</th>\n",
       "      <th>...</th>\n",
       "      <th>94</th>\n",
       "      <th>95</th>\n",
       "      <th>96</th>\n",
       "      <th>97</th>\n",
       "      <th>98</th>\n",
       "      <th>99</th>\n",
       "      <th>100</th>\n",
       "      <th>101</th>\n",
       "      <th>102</th>\n",
       "      <th>103</th>\n",
       "    </tr>\n",
       "  </thead>\n",
       "  <tbody>\n",
       "    <tr>\n",
       "      <th>0</th>\n",
       "      <td>0.0</td>\n",
       "      <td>0.0</td>\n",
       "      <td>0.0</td>\n",
       "      <td>0.0</td>\n",
       "      <td>1067.2</td>\n",
       "      <td>1217.3</td>\n",
       "      <td>2505.4</td>\n",
       "      <td>-925.0</td>\n",
       "      <td>0.0</td>\n",
       "      <td>0.0</td>\n",
       "      <td>...</td>\n",
       "      <td>4997.0</td>\n",
       "      <td>5316.4</td>\n",
       "      <td>5831.1</td>\n",
       "      <td>1948.4</td>\n",
       "      <td>-2.8</td>\n",
       "      <td>0.0</td>\n",
       "      <td>0.0</td>\n",
       "      <td>0.0</td>\n",
       "      <td>0.0</td>\n",
       "      <td>0.0</td>\n",
       "    </tr>\n",
       "    <tr>\n",
       "      <th>1</th>\n",
       "      <td>0.0</td>\n",
       "      <td>0.0</td>\n",
       "      <td>0.0</td>\n",
       "      <td>412.9</td>\n",
       "      <td>257.2</td>\n",
       "      <td>1192.5</td>\n",
       "      <td>-373.2</td>\n",
       "      <td>0.0</td>\n",
       "      <td>0.0</td>\n",
       "      <td>0.0</td>\n",
       "      <td>...</td>\n",
       "      <td>2064.0</td>\n",
       "      <td>2332.4</td>\n",
       "      <td>1344.4</td>\n",
       "      <td>-32.5</td>\n",
       "      <td>0.0</td>\n",
       "      <td>0.0</td>\n",
       "      <td>0.0</td>\n",
       "      <td>0.0</td>\n",
       "      <td>0.0</td>\n",
       "      <td>0.0</td>\n",
       "    </tr>\n",
       "    <tr>\n",
       "      <th>2</th>\n",
       "      <td>0.0</td>\n",
       "      <td>0.0</td>\n",
       "      <td>0.0</td>\n",
       "      <td>0.0</td>\n",
       "      <td>0.0</td>\n",
       "      <td>16.8</td>\n",
       "      <td>122.0</td>\n",
       "      <td>1968.0</td>\n",
       "      <td>339.0</td>\n",
       "      <td>-109.4</td>\n",
       "      <td>...</td>\n",
       "      <td>0.0</td>\n",
       "      <td>411.0</td>\n",
       "      <td>1633.0</td>\n",
       "      <td>1385.2</td>\n",
       "      <td>4510.0</td>\n",
       "      <td>211.3</td>\n",
       "      <td>0.0</td>\n",
       "      <td>0.0</td>\n",
       "      <td>0.0</td>\n",
       "      <td>0.0</td>\n",
       "    </tr>\n",
       "    <tr>\n",
       "      <th>3</th>\n",
       "      <td>0.0</td>\n",
       "      <td>0.0</td>\n",
       "      <td>0.0</td>\n",
       "      <td>0.0</td>\n",
       "      <td>-153.9</td>\n",
       "      <td>3021.3</td>\n",
       "      <td>-283.8</td>\n",
       "      <td>-1.1</td>\n",
       "      <td>0.0</td>\n",
       "      <td>0.0</td>\n",
       "      <td>...</td>\n",
       "      <td>2053.4</td>\n",
       "      <td>2420.6</td>\n",
       "      <td>5096.3</td>\n",
       "      <td>-135.6</td>\n",
       "      <td>0.0</td>\n",
       "      <td>0.0</td>\n",
       "      <td>0.0</td>\n",
       "      <td>0.0</td>\n",
       "      <td>0.0</td>\n",
       "      <td>0.0</td>\n",
       "    </tr>\n",
       "    <tr>\n",
       "      <th>4</th>\n",
       "      <td>0.0</td>\n",
       "      <td>0.0</td>\n",
       "      <td>0.0</td>\n",
       "      <td>0.0</td>\n",
       "      <td>52.5</td>\n",
       "      <td>584.6</td>\n",
       "      <td>730.5</td>\n",
       "      <td>546.5</td>\n",
       "      <td>1463.6</td>\n",
       "      <td>-398.4</td>\n",
       "      <td>...</td>\n",
       "      <td>1320.0</td>\n",
       "      <td>10265.0</td>\n",
       "      <td>2528.0</td>\n",
       "      <td>1603.9</td>\n",
       "      <td>1548.7</td>\n",
       "      <td>1687.7</td>\n",
       "      <td>-47.9</td>\n",
       "      <td>0.0</td>\n",
       "      <td>0.0</td>\n",
       "      <td>0.0</td>\n",
       "    </tr>\n",
       "    <tr>\n",
       "      <th>...</th>\n",
       "      <td>...</td>\n",
       "      <td>...</td>\n",
       "      <td>...</td>\n",
       "      <td>...</td>\n",
       "      <td>...</td>\n",
       "      <td>...</td>\n",
       "      <td>...</td>\n",
       "      <td>...</td>\n",
       "      <td>...</td>\n",
       "      <td>...</td>\n",
       "      <td>...</td>\n",
       "      <td>...</td>\n",
       "      <td>...</td>\n",
       "      <td>...</td>\n",
       "      <td>...</td>\n",
       "      <td>...</td>\n",
       "      <td>...</td>\n",
       "      <td>...</td>\n",
       "      <td>...</td>\n",
       "      <td>...</td>\n",
       "      <td>...</td>\n",
       "    </tr>\n",
       "    <tr>\n",
       "      <th>652155</th>\n",
       "      <td>0.0</td>\n",
       "      <td>-249.2</td>\n",
       "      <td>980.2</td>\n",
       "      <td>3135.5</td>\n",
       "      <td>-3.6</td>\n",
       "      <td>388.3</td>\n",
       "      <td>1757.0</td>\n",
       "      <td>240.6</td>\n",
       "      <td>32.9</td>\n",
       "      <td>0.0</td>\n",
       "      <td>...</td>\n",
       "      <td>8012.8</td>\n",
       "      <td>2120.0</td>\n",
       "      <td>8278.4</td>\n",
       "      <td>4458.7</td>\n",
       "      <td>-35.9</td>\n",
       "      <td>0.0</td>\n",
       "      <td>0.0</td>\n",
       "      <td>0.0</td>\n",
       "      <td>0.0</td>\n",
       "      <td>0.0</td>\n",
       "    </tr>\n",
       "    <tr>\n",
       "      <th>652156</th>\n",
       "      <td>0.0</td>\n",
       "      <td>0.0</td>\n",
       "      <td>0.0</td>\n",
       "      <td>0.0</td>\n",
       "      <td>0.0</td>\n",
       "      <td>4.8</td>\n",
       "      <td>-734.3</td>\n",
       "      <td>11384.7</td>\n",
       "      <td>-1522.8</td>\n",
       "      <td>0.0</td>\n",
       "      <td>...</td>\n",
       "      <td>0.0</td>\n",
       "      <td>686.0</td>\n",
       "      <td>8268.2</td>\n",
       "      <td>7327.9</td>\n",
       "      <td>15370.1</td>\n",
       "      <td>-500.8</td>\n",
       "      <td>0.0</td>\n",
       "      <td>0.0</td>\n",
       "      <td>0.0</td>\n",
       "      <td>0.0</td>\n",
       "    </tr>\n",
       "    <tr>\n",
       "      <th>652157</th>\n",
       "      <td>0.0</td>\n",
       "      <td>0.0</td>\n",
       "      <td>0.0</td>\n",
       "      <td>0.0</td>\n",
       "      <td>0.0</td>\n",
       "      <td>-296.2</td>\n",
       "      <td>6767.9</td>\n",
       "      <td>907.0</td>\n",
       "      <td>919.2</td>\n",
       "      <td>114.2</td>\n",
       "      <td>...</td>\n",
       "      <td>0.0</td>\n",
       "      <td>-15.3</td>\n",
       "      <td>741.0</td>\n",
       "      <td>45888.2</td>\n",
       "      <td>-305.7</td>\n",
       "      <td>-0.3</td>\n",
       "      <td>0.0</td>\n",
       "      <td>0.0</td>\n",
       "      <td>0.0</td>\n",
       "      <td>0.0</td>\n",
       "    </tr>\n",
       "    <tr>\n",
       "      <th>652158</th>\n",
       "      <td>0.0</td>\n",
       "      <td>0.0</td>\n",
       "      <td>0.0</td>\n",
       "      <td>0.0</td>\n",
       "      <td>0.0</td>\n",
       "      <td>414.0</td>\n",
       "      <td>-46.3</td>\n",
       "      <td>3383.1</td>\n",
       "      <td>-787.0</td>\n",
       "      <td>-0.4</td>\n",
       "      <td>...</td>\n",
       "      <td>165.0</td>\n",
       "      <td>2367.0</td>\n",
       "      <td>3158.1</td>\n",
       "      <td>2621.3</td>\n",
       "      <td>3982.0</td>\n",
       "      <td>-143.4</td>\n",
       "      <td>0.0</td>\n",
       "      <td>0.0</td>\n",
       "      <td>0.0</td>\n",
       "      <td>0.0</td>\n",
       "    </tr>\n",
       "    <tr>\n",
       "      <th>652159</th>\n",
       "      <td>0.0</td>\n",
       "      <td>0.0</td>\n",
       "      <td>0.0</td>\n",
       "      <td>0.0</td>\n",
       "      <td>0.0</td>\n",
       "      <td>-131.0</td>\n",
       "      <td>1861.4</td>\n",
       "      <td>-57.0</td>\n",
       "      <td>78.7</td>\n",
       "      <td>-5.1</td>\n",
       "      <td>...</td>\n",
       "      <td>0.0</td>\n",
       "      <td>0.0</td>\n",
       "      <td>825.0</td>\n",
       "      <td>6675.7</td>\n",
       "      <td>-83.9</td>\n",
       "      <td>0.0</td>\n",
       "      <td>0.0</td>\n",
       "      <td>0.0</td>\n",
       "      <td>0.0</td>\n",
       "      <td>0.0</td>\n",
       "    </tr>\n",
       "  </tbody>\n",
       "</table>\n",
       "<p>652160 rows × 104 columns</p>\n",
       "</div>"
      ],
      "text/plain": [
       "          0      1      2       3       4       5       6        7       8  \\\n",
       "0       0.0    0.0    0.0     0.0  1067.2  1217.3  2505.4   -925.0     0.0   \n",
       "1       0.0    0.0    0.0   412.9   257.2  1192.5  -373.2      0.0     0.0   \n",
       "2       0.0    0.0    0.0     0.0     0.0    16.8   122.0   1968.0   339.0   \n",
       "3       0.0    0.0    0.0     0.0  -153.9  3021.3  -283.8     -1.1     0.0   \n",
       "4       0.0    0.0    0.0     0.0    52.5   584.6   730.5    546.5  1463.6   \n",
       "...     ...    ...    ...     ...     ...     ...     ...      ...     ...   \n",
       "652155  0.0 -249.2  980.2  3135.5    -3.6   388.3  1757.0    240.6    32.9   \n",
       "652156  0.0    0.0    0.0     0.0     0.0     4.8  -734.3  11384.7 -1522.8   \n",
       "652157  0.0    0.0    0.0     0.0     0.0  -296.2  6767.9    907.0   919.2   \n",
       "652158  0.0    0.0    0.0     0.0     0.0   414.0   -46.3   3383.1  -787.0   \n",
       "652159  0.0    0.0    0.0     0.0     0.0  -131.0  1861.4    -57.0    78.7   \n",
       "\n",
       "            9  ...      94       95      96       97       98      99   100  \\\n",
       "0         0.0  ...  4997.0   5316.4  5831.1   1948.4     -2.8     0.0   0.0   \n",
       "1         0.0  ...  2064.0   2332.4  1344.4    -32.5      0.0     0.0   0.0   \n",
       "2      -109.4  ...     0.0    411.0  1633.0   1385.2   4510.0   211.3   0.0   \n",
       "3         0.0  ...  2053.4   2420.6  5096.3   -135.6      0.0     0.0   0.0   \n",
       "4      -398.4  ...  1320.0  10265.0  2528.0   1603.9   1548.7  1687.7 -47.9   \n",
       "...       ...  ...     ...      ...     ...      ...      ...     ...   ...   \n",
       "652155    0.0  ...  8012.8   2120.0  8278.4   4458.7    -35.9     0.0   0.0   \n",
       "652156    0.0  ...     0.0    686.0  8268.2   7327.9  15370.1  -500.8   0.0   \n",
       "652157  114.2  ...     0.0    -15.3   741.0  45888.2   -305.7    -0.3   0.0   \n",
       "652158   -0.4  ...   165.0   2367.0  3158.1   2621.3   3982.0  -143.4   0.0   \n",
       "652159   -5.1  ...     0.0      0.0   825.0   6675.7    -83.9     0.0   0.0   \n",
       "\n",
       "        101  102  103  \n",
       "0       0.0  0.0  0.0  \n",
       "1       0.0  0.0  0.0  \n",
       "2       0.0  0.0  0.0  \n",
       "3       0.0  0.0  0.0  \n",
       "4       0.0  0.0  0.0  \n",
       "...     ...  ...  ...  \n",
       "652155  0.0  0.0  0.0  \n",
       "652156  0.0  0.0  0.0  \n",
       "652157  0.0  0.0  0.0  \n",
       "652158  0.0  0.0  0.0  \n",
       "652159  0.0  0.0  0.0  \n",
       "\n",
       "[652160 rows x 104 columns]"
      ]
     },
     "execution_count": 4,
     "metadata": {},
     "output_type": "execute_result"
    }
   ],
   "source": [
    "df1"
   ]
  },
  {
   "cell_type": "code",
   "execution_count": 5,
   "metadata": {
    "colab": {
     "base_uri": "https://localhost:8080/",
     "height": 424
    },
    "executionInfo": {
     "elapsed": 6,
     "status": "ok",
     "timestamp": 1661339626820,
     "user": {
      "displayName": "Jieun Yoo",
      "userId": "18119058923405700980"
     },
     "user_tz": 240
    },
    "id": "mUTLaB30fsZD",
    "outputId": "8ee51310-1d0a-4af5-c539-9438f1eac5ff"
   },
   "outputs": [
    {
     "data": {
      "text/html": [
       "<div>\n",
       "<style scoped>\n",
       "    .dataframe tbody tr th:only-of-type {\n",
       "        vertical-align: middle;\n",
       "    }\n",
       "\n",
       "    .dataframe tbody tr th {\n",
       "        vertical-align: top;\n",
       "    }\n",
       "\n",
       "    .dataframe thead th {\n",
       "        text-align: right;\n",
       "    }\n",
       "</style>\n",
       "<table border=\"1\" class=\"dataframe\">\n",
       "  <thead>\n",
       "    <tr style=\"text-align: right;\">\n",
       "      <th></th>\n",
       "      <th>0</th>\n",
       "      <th>1</th>\n",
       "      <th>2</th>\n",
       "      <th>3</th>\n",
       "      <th>4</th>\n",
       "      <th>5</th>\n",
       "      <th>6</th>\n",
       "      <th>7</th>\n",
       "      <th>8</th>\n",
       "      <th>9</th>\n",
       "      <th>...</th>\n",
       "      <th>94</th>\n",
       "      <th>95</th>\n",
       "      <th>96</th>\n",
       "      <th>97</th>\n",
       "      <th>98</th>\n",
       "      <th>99</th>\n",
       "      <th>100</th>\n",
       "      <th>101</th>\n",
       "      <th>102</th>\n",
       "      <th>103</th>\n",
       "    </tr>\n",
       "  </thead>\n",
       "  <tbody>\n",
       "    <tr>\n",
       "      <th>0</th>\n",
       "      <td>0.0</td>\n",
       "      <td>0.0</td>\n",
       "      <td>0.0</td>\n",
       "      <td>0.0</td>\n",
       "      <td>0.0</td>\n",
       "      <td>232.1</td>\n",
       "      <td>796.1</td>\n",
       "      <td>1083.5</td>\n",
       "      <td>-219.7</td>\n",
       "      <td>0.0</td>\n",
       "      <td>...</td>\n",
       "      <td>0.0</td>\n",
       "      <td>117.0</td>\n",
       "      <td>3214.7</td>\n",
       "      <td>4528.1</td>\n",
       "      <td>853.3</td>\n",
       "      <td>-1.3</td>\n",
       "      <td>0.0</td>\n",
       "      <td>0.0</td>\n",
       "      <td>0.0</td>\n",
       "      <td>0.0</td>\n",
       "    </tr>\n",
       "    <tr>\n",
       "      <th>1</th>\n",
       "      <td>0.0</td>\n",
       "      <td>0.0</td>\n",
       "      <td>0.0</td>\n",
       "      <td>385.9</td>\n",
       "      <td>1351.7</td>\n",
       "      <td>5826.4</td>\n",
       "      <td>4842.7</td>\n",
       "      <td>-1550.9</td>\n",
       "      <td>0.0</td>\n",
       "      <td>0.0</td>\n",
       "      <td>...</td>\n",
       "      <td>11754.8</td>\n",
       "      <td>7074.8</td>\n",
       "      <td>15228.7</td>\n",
       "      <td>5432.4</td>\n",
       "      <td>-0.9</td>\n",
       "      <td>0.0</td>\n",
       "      <td>0.0</td>\n",
       "      <td>0.0</td>\n",
       "      <td>0.0</td>\n",
       "      <td>0.0</td>\n",
       "    </tr>\n",
       "    <tr>\n",
       "      <th>2</th>\n",
       "      <td>0.0</td>\n",
       "      <td>0.0</td>\n",
       "      <td>0.0</td>\n",
       "      <td>0.0</td>\n",
       "      <td>0.0</td>\n",
       "      <td>479.7</td>\n",
       "      <td>5505.2</td>\n",
       "      <td>880.9</td>\n",
       "      <td>29.3</td>\n",
       "      <td>0.0</td>\n",
       "      <td>...</td>\n",
       "      <td>0.0</td>\n",
       "      <td>-0.4</td>\n",
       "      <td>12958.9</td>\n",
       "      <td>23231.1</td>\n",
       "      <td>-257.6</td>\n",
       "      <td>-0.1</td>\n",
       "      <td>0.0</td>\n",
       "      <td>0.0</td>\n",
       "      <td>0.0</td>\n",
       "      <td>0.0</td>\n",
       "    </tr>\n",
       "    <tr>\n",
       "      <th>3</th>\n",
       "      <td>0.0</td>\n",
       "      <td>0.0</td>\n",
       "      <td>0.0</td>\n",
       "      <td>0.0</td>\n",
       "      <td>2319.7</td>\n",
       "      <td>1153.8</td>\n",
       "      <td>7671.1</td>\n",
       "      <td>-2229.8</td>\n",
       "      <td>0.0</td>\n",
       "      <td>0.0</td>\n",
       "      <td>...</td>\n",
       "      <td>8465.0</td>\n",
       "      <td>16018.2</td>\n",
       "      <td>13137.5</td>\n",
       "      <td>7692.6</td>\n",
       "      <td>-133.0</td>\n",
       "      <td>0.0</td>\n",
       "      <td>0.0</td>\n",
       "      <td>0.0</td>\n",
       "      <td>0.0</td>\n",
       "      <td>0.0</td>\n",
       "    </tr>\n",
       "    <tr>\n",
       "      <th>4</th>\n",
       "      <td>0.0</td>\n",
       "      <td>0.0</td>\n",
       "      <td>-1.5</td>\n",
       "      <td>133.4</td>\n",
       "      <td>3955.7</td>\n",
       "      <td>121.4</td>\n",
       "      <td>-42.5</td>\n",
       "      <td>-0.3</td>\n",
       "      <td>0.0</td>\n",
       "      <td>0.0</td>\n",
       "      <td>...</td>\n",
       "      <td>7505.3</td>\n",
       "      <td>11671.5</td>\n",
       "      <td>-47.6</td>\n",
       "      <td>0.0</td>\n",
       "      <td>0.0</td>\n",
       "      <td>0.0</td>\n",
       "      <td>0.0</td>\n",
       "      <td>0.0</td>\n",
       "      <td>0.0</td>\n",
       "      <td>0.0</td>\n",
       "    </tr>\n",
       "    <tr>\n",
       "      <th>...</th>\n",
       "      <td>...</td>\n",
       "      <td>...</td>\n",
       "      <td>...</td>\n",
       "      <td>...</td>\n",
       "      <td>...</td>\n",
       "      <td>...</td>\n",
       "      <td>...</td>\n",
       "      <td>...</td>\n",
       "      <td>...</td>\n",
       "      <td>...</td>\n",
       "      <td>...</td>\n",
       "      <td>...</td>\n",
       "      <td>...</td>\n",
       "      <td>...</td>\n",
       "      <td>...</td>\n",
       "      <td>...</td>\n",
       "      <td>...</td>\n",
       "      <td>...</td>\n",
       "      <td>...</td>\n",
       "      <td>...</td>\n",
       "      <td>...</td>\n",
       "    </tr>\n",
       "    <tr>\n",
       "      <th>163035</th>\n",
       "      <td>0.0</td>\n",
       "      <td>0.0</td>\n",
       "      <td>0.0</td>\n",
       "      <td>0.0</td>\n",
       "      <td>0.0</td>\n",
       "      <td>695.4</td>\n",
       "      <td>2784.7</td>\n",
       "      <td>268.3</td>\n",
       "      <td>-486.5</td>\n",
       "      <td>0.0</td>\n",
       "      <td>...</td>\n",
       "      <td>0.0</td>\n",
       "      <td>41.0</td>\n",
       "      <td>4990.2</td>\n",
       "      <td>11465.6</td>\n",
       "      <td>-142.8</td>\n",
       "      <td>0.0</td>\n",
       "      <td>0.0</td>\n",
       "      <td>0.0</td>\n",
       "      <td>0.0</td>\n",
       "      <td>0.0</td>\n",
       "    </tr>\n",
       "    <tr>\n",
       "      <th>163036</th>\n",
       "      <td>0.0</td>\n",
       "      <td>0.0</td>\n",
       "      <td>0.0</td>\n",
       "      <td>0.0</td>\n",
       "      <td>0.0</td>\n",
       "      <td>115.6</td>\n",
       "      <td>10711.3</td>\n",
       "      <td>267.4</td>\n",
       "      <td>-40.4</td>\n",
       "      <td>-0.8</td>\n",
       "      <td>...</td>\n",
       "      <td>0.0</td>\n",
       "      <td>-53.4</td>\n",
       "      <td>11766.6</td>\n",
       "      <td>37260.9</td>\n",
       "      <td>-452.3</td>\n",
       "      <td>0.0</td>\n",
       "      <td>0.0</td>\n",
       "      <td>0.0</td>\n",
       "      <td>0.0</td>\n",
       "      <td>0.0</td>\n",
       "    </tr>\n",
       "    <tr>\n",
       "      <th>163037</th>\n",
       "      <td>0.0</td>\n",
       "      <td>0.0</td>\n",
       "      <td>0.0</td>\n",
       "      <td>0.0</td>\n",
       "      <td>475.6</td>\n",
       "      <td>409.2</td>\n",
       "      <td>1125.3</td>\n",
       "      <td>-495.6</td>\n",
       "      <td>0.0</td>\n",
       "      <td>0.0</td>\n",
       "      <td>...</td>\n",
       "      <td>1626.0</td>\n",
       "      <td>1888.9</td>\n",
       "      <td>2607.4</td>\n",
       "      <td>1077.6</td>\n",
       "      <td>-1.0</td>\n",
       "      <td>0.0</td>\n",
       "      <td>0.0</td>\n",
       "      <td>0.0</td>\n",
       "      <td>0.0</td>\n",
       "      <td>0.0</td>\n",
       "    </tr>\n",
       "    <tr>\n",
       "      <th>163038</th>\n",
       "      <td>0.0</td>\n",
       "      <td>0.0</td>\n",
       "      <td>0.0</td>\n",
       "      <td>529.9</td>\n",
       "      <td>5772.6</td>\n",
       "      <td>230.9</td>\n",
       "      <td>-317.1</td>\n",
       "      <td>0.0</td>\n",
       "      <td>0.0</td>\n",
       "      <td>0.0</td>\n",
       "      <td>...</td>\n",
       "      <td>11049.8</td>\n",
       "      <td>17849.2</td>\n",
       "      <td>-243.5</td>\n",
       "      <td>0.0</td>\n",
       "      <td>0.0</td>\n",
       "      <td>0.0</td>\n",
       "      <td>0.0</td>\n",
       "      <td>0.0</td>\n",
       "      <td>0.0</td>\n",
       "      <td>0.0</td>\n",
       "    </tr>\n",
       "    <tr>\n",
       "      <th>163039</th>\n",
       "      <td>0.0</td>\n",
       "      <td>0.0</td>\n",
       "      <td>0.0</td>\n",
       "      <td>0.0</td>\n",
       "      <td>0.0</td>\n",
       "      <td>830.1</td>\n",
       "      <td>9608.0</td>\n",
       "      <td>-42.8</td>\n",
       "      <td>-445.5</td>\n",
       "      <td>0.0</td>\n",
       "      <td>...</td>\n",
       "      <td>0.0</td>\n",
       "      <td>10672.2</td>\n",
       "      <td>23159.1</td>\n",
       "      <td>17280.2</td>\n",
       "      <td>-456.9</td>\n",
       "      <td>0.0</td>\n",
       "      <td>0.0</td>\n",
       "      <td>0.0</td>\n",
       "      <td>0.0</td>\n",
       "      <td>0.0</td>\n",
       "    </tr>\n",
       "  </tbody>\n",
       "</table>\n",
       "<p>163040 rows × 104 columns</p>\n",
       "</div>"
      ],
      "text/plain": [
       "          0    1    2      3       4       5        6       7      8    9  \\\n",
       "0       0.0  0.0  0.0    0.0     0.0   232.1    796.1  1083.5 -219.7  0.0   \n",
       "1       0.0  0.0  0.0  385.9  1351.7  5826.4   4842.7 -1550.9    0.0  0.0   \n",
       "2       0.0  0.0  0.0    0.0     0.0   479.7   5505.2   880.9   29.3  0.0   \n",
       "3       0.0  0.0  0.0    0.0  2319.7  1153.8   7671.1 -2229.8    0.0  0.0   \n",
       "4       0.0  0.0 -1.5  133.4  3955.7   121.4    -42.5    -0.3    0.0  0.0   \n",
       "...     ...  ...  ...    ...     ...     ...      ...     ...    ...  ...   \n",
       "163035  0.0  0.0  0.0    0.0     0.0   695.4   2784.7   268.3 -486.5  0.0   \n",
       "163036  0.0  0.0  0.0    0.0     0.0   115.6  10711.3   267.4  -40.4 -0.8   \n",
       "163037  0.0  0.0  0.0    0.0   475.6   409.2   1125.3  -495.6    0.0  0.0   \n",
       "163038  0.0  0.0  0.0  529.9  5772.6   230.9   -317.1     0.0    0.0  0.0   \n",
       "163039  0.0  0.0  0.0    0.0     0.0   830.1   9608.0   -42.8 -445.5  0.0   \n",
       "\n",
       "        ...       94       95       96       97     98   99  100  101  102  \\\n",
       "0       ...      0.0    117.0   3214.7   4528.1  853.3 -1.3  0.0  0.0  0.0   \n",
       "1       ...  11754.8   7074.8  15228.7   5432.4   -0.9  0.0  0.0  0.0  0.0   \n",
       "2       ...      0.0     -0.4  12958.9  23231.1 -257.6 -0.1  0.0  0.0  0.0   \n",
       "3       ...   8465.0  16018.2  13137.5   7692.6 -133.0  0.0  0.0  0.0  0.0   \n",
       "4       ...   7505.3  11671.5    -47.6      0.0    0.0  0.0  0.0  0.0  0.0   \n",
       "...     ...      ...      ...      ...      ...    ...  ...  ...  ...  ...   \n",
       "163035  ...      0.0     41.0   4990.2  11465.6 -142.8  0.0  0.0  0.0  0.0   \n",
       "163036  ...      0.0    -53.4  11766.6  37260.9 -452.3  0.0  0.0  0.0  0.0   \n",
       "163037  ...   1626.0   1888.9   2607.4   1077.6   -1.0  0.0  0.0  0.0  0.0   \n",
       "163038  ...  11049.8  17849.2   -243.5      0.0    0.0  0.0  0.0  0.0  0.0   \n",
       "163039  ...      0.0  10672.2  23159.1  17280.2 -456.9  0.0  0.0  0.0  0.0   \n",
       "\n",
       "        103  \n",
       "0       0.0  \n",
       "1       0.0  \n",
       "2       0.0  \n",
       "3       0.0  \n",
       "4       0.0  \n",
       "...     ...  \n",
       "163035  0.0  \n",
       "163036  0.0  \n",
       "163037  0.0  \n",
       "163038  0.0  \n",
       "163039  0.0  \n",
       "\n",
       "[163040 rows x 104 columns]"
      ]
     },
     "execution_count": 5,
     "metadata": {},
     "output_type": "execute_result"
    }
   ],
   "source": [
    "df3"
   ]
  },
  {
   "cell_type": "code",
   "execution_count": 6,
   "metadata": {
    "colab": {
     "base_uri": "https://localhost:8080/"
    },
    "executionInfo": {
     "elapsed": 6,
     "status": "ok",
     "timestamp": 1661339626820,
     "user": {
      "displayName": "Jieun Yoo",
      "userId": "18119058923405700980"
     },
     "user_tz": 240
    },
    "id": "_Xe7oV-mf0kn",
    "outputId": "8cb9eeb9-53b4-479c-f038-4d22c3335977"
   },
   "outputs": [
    {
     "name": "stdout",
     "output_type": "stream",
     "text": [
      "(652160, 8, 13) (163040, 8, 13) (652160, 1) (163040, 1)\n",
      "(652160, 1) (163040, 1)\n"
     ]
    }
   ],
   "source": [
    "X_train = df1.values\n",
    "X_test = df3.values\n",
    "\n",
    "y_train = df2.values #labels\n",
    "y_test = df4.values #labels\n",
    "#X_train, X_test, y_train, y_test = train_test_split(X,y,test_size = 0.20, random_state = 0)\n",
    "\n",
    "n = 652160  #number in train set, need to reshape 'image'\n",
    "nn = 163040 #number in test set, need to also reshape 'image'\n",
    "\n",
    "X_train = np.reshape(X_train, (n,8,13))\n",
    "X_test = np.reshape(X_test, (nn,8,13))\n",
    "\n",
    "print(X_train.shape, X_test.shape, y_train.shape, y_test.shape)\n",
    "\n",
    "X_train_ylocal = df5.values\n",
    "X_test_ylocal = df6.values\n",
    "print(X_train_ylocal.shape, X_test_ylocal.shape)"
   ]
  },
  {
   "cell_type": "code",
   "execution_count": 7,
   "metadata": {
    "executionInfo": {
     "elapsed": 1991,
     "status": "ok",
     "timestamp": 1661339628807,
     "user": {
      "displayName": "Jieun Yoo",
      "userId": "18119058923405700980"
     },
     "user_tz": 240
    },
    "id": "gsIbAMTMf9nL"
   },
   "outputs": [],
   "source": [
    "scaler = StandardScaler()\n",
    "X_train = scaler.fit_transform(X_train.reshape(-1, X_train.shape[-1])).reshape(X_train.shape)\n",
    "X_test = scaler.transform(X_test.reshape(-1, X_test.shape[-1])).reshape(X_test.shape)\n",
    "\n",
    "\n",
    "X_train_ylocal = scaler.fit_transform(X_train_ylocal.reshape(-1, X_train_ylocal.shape[-1])).reshape(X_train_ylocal.shape)\n",
    "X_test_ylocal =scaler.fit_transform(X_test_ylocal.reshape(-1, X_test_ylocal.shape[-1])).reshape(X_test_ylocal.shape)"
   ]
  },
  {
   "cell_type": "code",
   "execution_count": 8,
   "metadata": {
    "colab": {
     "base_uri": "https://localhost:8080/"
    },
    "executionInfo": {
     "elapsed": 3388,
     "status": "ok",
     "timestamp": 1661339632193,
     "user": {
      "displayName": "Jieun Yoo",
      "userId": "18119058923405700980"
     },
     "user_tz": 240
    },
    "id": "S5yQs97Bf_CV",
    "outputId": "1616ba6c-fcea-4f70-93a4-e8017e0404ff"
   },
   "outputs": [
    {
     "name": "stdout",
     "output_type": "stream",
     "text": [
      "Model: \"model\"\n",
      "__________________________________________________________________________________________________\n",
      " Layer (type)                   Output Shape         Param #     Connected to                     \n",
      "==================================================================================================\n",
      " input_1 (InputLayer)           [(None, 8, 13, 1)]   0           []                               \n",
      "                                                                                                  \n",
      " conv2d (Conv2D)                (None, 6, 11, 16)    160         ['input_1[0][0]']                \n",
      "                                                                                                  \n",
      " conv2d_1 (Conv2D)              (None, 4, 9, 64)     9280        ['conv2d[0][0]']                 \n",
      "                                                                                                  \n",
      " flatten (Flatten)              (None, 2304)         0           ['conv2d_1[0][0]']               \n",
      "                                                                                                  \n",
      " input_2 (InputLayer)           [(None, 1)]          0           []                               \n",
      "                                                                                                  \n",
      " concatenate (Concatenate)      (None, 2305)         0           ['flatten[0][0]',                \n",
      "                                                                  'input_2[0][0]']                \n",
      "                                                                                                  \n",
      " dense (Dense)                  (None, 32)           73792       ['concatenate[0][0]']            \n",
      "                                                                                                  \n",
      " dropout (Dropout)              (None, 32)           0           ['dense[0][0]']                  \n",
      "                                                                                                  \n",
      " dense_1 (Dense)                (None, 3)            99          ['dropout[0][0]']                \n",
      "                                                                                                  \n",
      "==================================================================================================\n",
      "Total params: 83,331\n",
      "Trainable params: 83,331\n",
      "Non-trainable params: 0\n",
      "__________________________________________________________________________________________________\n"
     ]
    },
    {
     "name": "stderr",
     "output_type": "stream",
     "text": [
      "2022-12-08 12:33:32.095707: I tensorflow/stream_executor/cuda/cuda_gpu_executor.cc:980] successful NUMA node read from SysFS had negative value (-1), but there must be at least one NUMA node, so returning NUMA node zero\n",
      "2022-12-08 12:33:32.135347: I tensorflow/stream_executor/cuda/cuda_gpu_executor.cc:980] successful NUMA node read from SysFS had negative value (-1), but there must be at least one NUMA node, so returning NUMA node zero\n",
      "2022-12-08 12:33:32.135721: I tensorflow/stream_executor/cuda/cuda_gpu_executor.cc:980] successful NUMA node read from SysFS had negative value (-1), but there must be at least one NUMA node, so returning NUMA node zero\n",
      "2022-12-08 12:33:32.136931: I tensorflow/core/platform/cpu_feature_guard.cc:193] This TensorFlow binary is optimized with oneAPI Deep Neural Network Library (oneDNN) to use the following CPU instructions in performance-critical operations:  SSE4.1 SSE4.2 AVX AVX2 FMA\n",
      "To enable them in other operations, rebuild TensorFlow with the appropriate compiler flags.\n",
      "2022-12-08 12:33:32.144632: I tensorflow/stream_executor/cuda/cuda_gpu_executor.cc:980] successful NUMA node read from SysFS had negative value (-1), but there must be at least one NUMA node, so returning NUMA node zero\n",
      "2022-12-08 12:33:32.145006: I tensorflow/stream_executor/cuda/cuda_gpu_executor.cc:980] successful NUMA node read from SysFS had negative value (-1), but there must be at least one NUMA node, so returning NUMA node zero\n",
      "2022-12-08 12:33:32.145334: I tensorflow/stream_executor/cuda/cuda_gpu_executor.cc:980] successful NUMA node read from SysFS had negative value (-1), but there must be at least one NUMA node, so returning NUMA node zero\n",
      "2022-12-08 12:33:32.769548: I tensorflow/stream_executor/cuda/cuda_gpu_executor.cc:980] successful NUMA node read from SysFS had negative value (-1), but there must be at least one NUMA node, so returning NUMA node zero\n",
      "2022-12-08 12:33:32.769971: I tensorflow/stream_executor/cuda/cuda_gpu_executor.cc:980] successful NUMA node read from SysFS had negative value (-1), but there must be at least one NUMA node, so returning NUMA node zero\n",
      "2022-12-08 12:33:32.770294: I tensorflow/stream_executor/cuda/cuda_gpu_executor.cc:980] successful NUMA node read from SysFS had negative value (-1), but there must be at least one NUMA node, so returning NUMA node zero\n",
      "2022-12-08 12:33:32.770560: I tensorflow/core/common_runtime/gpu/gpu_device.cc:1616] Created device /job:localhost/replica:0/task:0/device:GPU:0 with 18113 MB memory:  -> device: 0, name: NVIDIA A100 80GB PCIe MIG 2g.20gb, pci bus id: 0000:06:00.0, compute capability: 8.0\n"
     ]
    }
   ],
   "source": [
    "input1 = Input(shape=(8,13,1))\n",
    "conv1 = Conv2D(16, (3, 3), strides=(1, 1), activation='relu')(input1)\n",
    "conv2 = Conv2D(64, (3, 3), strides=(1, 1), activation='relu')(conv1)\n",
    "flattenLayer = Flatten()(conv2)\n",
    "input2 = Input(shape=(1,))\n",
    "merge = concatenate([flattenLayer, input2])\n",
    "dense1 = Dense(32, activation='relu')(merge)\n",
    "dropout1 = Dropout(0.1)(dense1)\n",
    "#dense2 = Dense(1, activation='sigmoid')(dropout1)\n",
    "dense2 = Dense(3)(dropout1)\n",
    "model = Model(inputs =[input1, input2], outputs=dense2)\n",
    "model.summary()"
   ]
  },
  {
   "cell_type": "code",
   "execution_count": 9,
   "metadata": {
    "colab": {
     "base_uri": "https://localhost:8080/"
    },
    "executionInfo": {
     "elapsed": 201324,
     "status": "ok",
     "timestamp": 1661339833512,
     "user": {
      "displayName": "Jieun Yoo",
      "userId": "18119058923405700980"
     },
     "user_tz": 240
    },
    "id": "uU83AC7VgA_I",
    "outputId": "18d79cbf-7794-40ec-ed40-bb42537befef"
   },
   "outputs": [
    {
     "name": "stdout",
     "output_type": "stream",
     "text": [
      "Epoch 1/100\n"
     ]
    },
    {
     "name": "stderr",
     "output_type": "stream",
     "text": [
      "2022-12-08 12:33:34.971867: I tensorflow/stream_executor/cuda/cuda_dnn.cc:384] Loaded cuDNN version 8401\n",
      "2022-12-08 12:33:36.493432: W tensorflow/stream_executor/gpu/asm_compiler.cc:80] Couldn't get ptxas version string: INTERNAL: Running ptxas --version returned 32512\n",
      "2022-12-08 12:33:36.757152: W tensorflow/stream_executor/gpu/redzone_allocator.cc:314] INTERNAL: ptxas exited with non-zero error code 32512, output: \n",
      "Relying on driver to perform ptx compilation. \n",
      "Modify $PATH to customize ptxas location.\n",
      "This message will be only logged once.\n",
      "2022-12-08 12:33:36.819663: I tensorflow/stream_executor/cuda/cuda_blas.cc:1614] TensorFloat-32 will be used for the matrix multiplication. This will only be logged once.\n"
     ]
    },
    {
     "name": "stdout",
     "output_type": "stream",
     "text": [
      "510/510 [==============================] - 6s 5ms/step - loss: 0.7080 - sparse_categorical_accuracy: 0.6759 - val_loss: 0.5368 - val_sparse_categorical_accuracy: 0.7649\n",
      "Epoch 2/100\n",
      "510/510 [==============================] - 2s 4ms/step - loss: 0.5092 - sparse_categorical_accuracy: 0.7779 - val_loss: 0.4740 - val_sparse_categorical_accuracy: 0.7926\n",
      "Epoch 3/100\n",
      "510/510 [==============================] - 2s 4ms/step - loss: 0.4621 - sparse_categorical_accuracy: 0.7992 - val_loss: 0.4402 - val_sparse_categorical_accuracy: 0.8081\n",
      "Epoch 4/100\n",
      "510/510 [==============================] - 2s 4ms/step - loss: 0.4409 - sparse_categorical_accuracy: 0.8081 - val_loss: 0.4257 - val_sparse_categorical_accuracy: 0.8164\n",
      "Epoch 5/100\n",
      "510/510 [==============================] - 2s 4ms/step - loss: 0.4271 - sparse_categorical_accuracy: 0.8144 - val_loss: 0.4046 - val_sparse_categorical_accuracy: 0.8263\n",
      "Epoch 6/100\n",
      "510/510 [==============================] - 2s 4ms/step - loss: 0.4162 - sparse_categorical_accuracy: 0.8192 - val_loss: 0.4040 - val_sparse_categorical_accuracy: 0.8240\n",
      "Epoch 7/100\n",
      "510/510 [==============================] - 2s 4ms/step - loss: 0.4084 - sparse_categorical_accuracy: 0.8225 - val_loss: 0.3923 - val_sparse_categorical_accuracy: 0.8304\n",
      "Epoch 8/100\n",
      "510/510 [==============================] - 2s 4ms/step - loss: 0.4018 - sparse_categorical_accuracy: 0.8256 - val_loss: 0.3910 - val_sparse_categorical_accuracy: 0.8303\n",
      "Epoch 9/100\n",
      "510/510 [==============================] - 2s 4ms/step - loss: 0.3966 - sparse_categorical_accuracy: 0.8280 - val_loss: 0.3926 - val_sparse_categorical_accuracy: 0.8287\n",
      "Epoch 10/100\n",
      "510/510 [==============================] - 2s 4ms/step - loss: 0.3946 - sparse_categorical_accuracy: 0.8289 - val_loss: 0.3794 - val_sparse_categorical_accuracy: 0.8357\n",
      "Epoch 11/100\n",
      "510/510 [==============================] - 2s 4ms/step - loss: 0.3905 - sparse_categorical_accuracy: 0.8309 - val_loss: 0.3760 - val_sparse_categorical_accuracy: 0.8366\n",
      "Epoch 12/100\n",
      "510/510 [==============================] - 2s 4ms/step - loss: 0.3858 - sparse_categorical_accuracy: 0.8334 - val_loss: 0.3867 - val_sparse_categorical_accuracy: 0.8305\n",
      "Epoch 13/100\n",
      "510/510 [==============================] - 2s 4ms/step - loss: 0.3833 - sparse_categorical_accuracy: 0.8342 - val_loss: 0.3820 - val_sparse_categorical_accuracy: 0.8332\n",
      "Epoch 14/100\n",
      "510/510 [==============================] - 2s 4ms/step - loss: 0.3799 - sparse_categorical_accuracy: 0.8359 - val_loss: 0.3712 - val_sparse_categorical_accuracy: 0.8394\n",
      "Epoch 15/100\n",
      "510/510 [==============================] - 2s 4ms/step - loss: 0.3776 - sparse_categorical_accuracy: 0.8369 - val_loss: 0.3677 - val_sparse_categorical_accuracy: 0.8411\n",
      "Epoch 16/100\n",
      "510/510 [==============================] - 2s 4ms/step - loss: 0.3774 - sparse_categorical_accuracy: 0.8368 - val_loss: 0.3664 - val_sparse_categorical_accuracy: 0.8422\n",
      "Epoch 17/100\n",
      "510/510 [==============================] - 2s 4ms/step - loss: 0.3732 - sparse_categorical_accuracy: 0.8394 - val_loss: 0.3631 - val_sparse_categorical_accuracy: 0.8429\n",
      "Epoch 18/100\n",
      "510/510 [==============================] - 2s 4ms/step - loss: 0.3721 - sparse_categorical_accuracy: 0.8393 - val_loss: 0.3644 - val_sparse_categorical_accuracy: 0.8438\n",
      "Epoch 19/100\n",
      "510/510 [==============================] - 2s 4ms/step - loss: 0.3693 - sparse_categorical_accuracy: 0.8408 - val_loss: 0.3663 - val_sparse_categorical_accuracy: 0.8412\n",
      "Epoch 20/100\n",
      "510/510 [==============================] - 2s 4ms/step - loss: 0.3684 - sparse_categorical_accuracy: 0.8417 - val_loss: 0.3692 - val_sparse_categorical_accuracy: 0.8397\n",
      "Epoch 21/100\n",
      "510/510 [==============================] - 2s 4ms/step - loss: 0.3669 - sparse_categorical_accuracy: 0.8422 - val_loss: 0.3568 - val_sparse_categorical_accuracy: 0.8470\n",
      "Epoch 22/100\n",
      "510/510 [==============================] - 2s 4ms/step - loss: 0.3654 - sparse_categorical_accuracy: 0.8433 - val_loss: 0.3577 - val_sparse_categorical_accuracy: 0.8463\n",
      "Epoch 23/100\n",
      "510/510 [==============================] - 2s 4ms/step - loss: 0.3639 - sparse_categorical_accuracy: 0.8439 - val_loss: 0.3712 - val_sparse_categorical_accuracy: 0.8401\n",
      "Epoch 24/100\n",
      "510/510 [==============================] - 2s 4ms/step - loss: 0.3625 - sparse_categorical_accuracy: 0.8442 - val_loss: 0.3576 - val_sparse_categorical_accuracy: 0.8466\n",
      "Epoch 25/100\n",
      "510/510 [==============================] - 2s 4ms/step - loss: 0.3611 - sparse_categorical_accuracy: 0.8450 - val_loss: 0.3606 - val_sparse_categorical_accuracy: 0.8443\n",
      "Epoch 26/100\n",
      "510/510 [==============================] - 2s 4ms/step - loss: 0.3601 - sparse_categorical_accuracy: 0.8453 - val_loss: 0.3547 - val_sparse_categorical_accuracy: 0.8477\n",
      "Epoch 27/100\n",
      "510/510 [==============================] - 2s 4ms/step - loss: 0.3591 - sparse_categorical_accuracy: 0.8457 - val_loss: 0.3645 - val_sparse_categorical_accuracy: 0.8431\n",
      "Epoch 28/100\n",
      "510/510 [==============================] - 2s 4ms/step - loss: 0.3580 - sparse_categorical_accuracy: 0.8463 - val_loss: 0.3548 - val_sparse_categorical_accuracy: 0.8475\n",
      "Epoch 29/100\n",
      "510/510 [==============================] - 2s 4ms/step - loss: 0.3569 - sparse_categorical_accuracy: 0.8468 - val_loss: 0.3592 - val_sparse_categorical_accuracy: 0.8463\n",
      "Epoch 30/100\n",
      "510/510 [==============================] - 2s 4ms/step - loss: 0.3558 - sparse_categorical_accuracy: 0.8474 - val_loss: 0.3562 - val_sparse_categorical_accuracy: 0.8478\n",
      "Epoch 31/100\n",
      "510/510 [==============================] - 2s 4ms/step - loss: 0.3545 - sparse_categorical_accuracy: 0.8479 - val_loss: 0.3554 - val_sparse_categorical_accuracy: 0.8477\n",
      "Epoch 32/100\n",
      "510/510 [==============================] - 2s 4ms/step - loss: 0.3528 - sparse_categorical_accuracy: 0.8484 - val_loss: 0.3520 - val_sparse_categorical_accuracy: 0.8492\n",
      "Epoch 33/100\n",
      "510/510 [==============================] - 2s 4ms/step - loss: 0.3520 - sparse_categorical_accuracy: 0.8489 - val_loss: 0.3563 - val_sparse_categorical_accuracy: 0.8474\n",
      "Epoch 34/100\n",
      "510/510 [==============================] - 2s 4ms/step - loss: 0.3509 - sparse_categorical_accuracy: 0.8496 - val_loss: 0.3567 - val_sparse_categorical_accuracy: 0.8474\n",
      "Epoch 35/100\n",
      "510/510 [==============================] - 2s 4ms/step - loss: 0.3518 - sparse_categorical_accuracy: 0.8495 - val_loss: 0.3518 - val_sparse_categorical_accuracy: 0.8493\n",
      "Epoch 36/100\n",
      "510/510 [==============================] - 2s 4ms/step - loss: 0.3501 - sparse_categorical_accuracy: 0.8500 - val_loss: 0.3558 - val_sparse_categorical_accuracy: 0.8468\n",
      "Epoch 37/100\n",
      "510/510 [==============================] - 2s 4ms/step - loss: 0.3504 - sparse_categorical_accuracy: 0.8500 - val_loss: 0.3541 - val_sparse_categorical_accuracy: 0.8479\n",
      "Epoch 38/100\n",
      "510/510 [==============================] - 2s 4ms/step - loss: 0.3479 - sparse_categorical_accuracy: 0.8515 - val_loss: 0.3549 - val_sparse_categorical_accuracy: 0.8477\n",
      "Epoch 39/100\n",
      "510/510 [==============================] - 2s 4ms/step - loss: 0.3474 - sparse_categorical_accuracy: 0.8513 - val_loss: 0.3515 - val_sparse_categorical_accuracy: 0.8497\n",
      "Epoch 40/100\n",
      "510/510 [==============================] - 2s 4ms/step - loss: 0.3458 - sparse_categorical_accuracy: 0.8522 - val_loss: 0.3516 - val_sparse_categorical_accuracy: 0.8497\n",
      "Epoch 41/100\n",
      "510/510 [==============================] - 2s 4ms/step - loss: 0.3459 - sparse_categorical_accuracy: 0.8518 - val_loss: 0.3503 - val_sparse_categorical_accuracy: 0.8495\n",
      "Epoch 42/100\n",
      "510/510 [==============================] - 2s 4ms/step - loss: 0.3447 - sparse_categorical_accuracy: 0.8525 - val_loss: 0.3490 - val_sparse_categorical_accuracy: 0.8504\n",
      "Epoch 43/100\n",
      "510/510 [==============================] - 2s 4ms/step - loss: 0.3433 - sparse_categorical_accuracy: 0.8527 - val_loss: 0.3520 - val_sparse_categorical_accuracy: 0.8491\n",
      "Epoch 44/100\n",
      "510/510 [==============================] - 2s 4ms/step - loss: 0.3444 - sparse_categorical_accuracy: 0.8528 - val_loss: 0.3529 - val_sparse_categorical_accuracy: 0.8487\n",
      "Epoch 45/100\n",
      "510/510 [==============================] - 2s 4ms/step - loss: 0.3432 - sparse_categorical_accuracy: 0.8532 - val_loss: 0.3489 - val_sparse_categorical_accuracy: 0.8509\n",
      "Epoch 46/100\n",
      "510/510 [==============================] - 2s 4ms/step - loss: 0.3429 - sparse_categorical_accuracy: 0.8529 - val_loss: 0.3533 - val_sparse_categorical_accuracy: 0.8489\n",
      "Epoch 47/100\n",
      "510/510 [==============================] - 2s 4ms/step - loss: 0.3410 - sparse_categorical_accuracy: 0.8539 - val_loss: 0.3485 - val_sparse_categorical_accuracy: 0.8520\n",
      "Epoch 48/100\n",
      "510/510 [==============================] - 2s 4ms/step - loss: 0.3416 - sparse_categorical_accuracy: 0.8539 - val_loss: 0.3571 - val_sparse_categorical_accuracy: 0.8478\n",
      "Epoch 49/100\n",
      "510/510 [==============================] - 2s 4ms/step - loss: 0.3399 - sparse_categorical_accuracy: 0.8546 - val_loss: 0.3469 - val_sparse_categorical_accuracy: 0.8520\n",
      "Epoch 50/100\n",
      "510/510 [==============================] - 2s 4ms/step - loss: 0.3399 - sparse_categorical_accuracy: 0.8544 - val_loss: 0.3483 - val_sparse_categorical_accuracy: 0.8516\n",
      "Epoch 51/100\n",
      "510/510 [==============================] - 2s 4ms/step - loss: 0.3391 - sparse_categorical_accuracy: 0.8551 - val_loss: 0.3460 - val_sparse_categorical_accuracy: 0.8517\n",
      "Epoch 52/100\n",
      "510/510 [==============================] - 2s 4ms/step - loss: 0.3388 - sparse_categorical_accuracy: 0.8556 - val_loss: 0.3520 - val_sparse_categorical_accuracy: 0.8495\n",
      "Epoch 53/100\n",
      "510/510 [==============================] - 2s 4ms/step - loss: 0.3372 - sparse_categorical_accuracy: 0.8559 - val_loss: 0.3506 - val_sparse_categorical_accuracy: 0.8506\n",
      "Epoch 54/100\n",
      "510/510 [==============================] - 2s 4ms/step - loss: 0.3375 - sparse_categorical_accuracy: 0.8560 - val_loss: 0.3494 - val_sparse_categorical_accuracy: 0.8512\n",
      "Epoch 55/100\n",
      "510/510 [==============================] - 2s 4ms/step - loss: 0.3365 - sparse_categorical_accuracy: 0.8561 - val_loss: 0.3484 - val_sparse_categorical_accuracy: 0.8508\n",
      "Epoch 56/100\n",
      "510/510 [==============================] - 2s 4ms/step - loss: 0.3356 - sparse_categorical_accuracy: 0.8573 - val_loss: 0.3458 - val_sparse_categorical_accuracy: 0.8529\n",
      "Epoch 57/100\n",
      "510/510 [==============================] - 2s 4ms/step - loss: 0.3354 - sparse_categorical_accuracy: 0.8566 - val_loss: 0.3464 - val_sparse_categorical_accuracy: 0.8523\n",
      "Epoch 58/100\n",
      "510/510 [==============================] - 2s 4ms/step - loss: 0.3346 - sparse_categorical_accuracy: 0.8570 - val_loss: 0.3506 - val_sparse_categorical_accuracy: 0.8506\n",
      "Epoch 59/100\n",
      "510/510 [==============================] - 2s 4ms/step - loss: 0.3344 - sparse_categorical_accuracy: 0.8573 - val_loss: 0.3481 - val_sparse_categorical_accuracy: 0.8514\n",
      "Epoch 60/100\n",
      "510/510 [==============================] - 2s 4ms/step - loss: 0.3332 - sparse_categorical_accuracy: 0.8575 - val_loss: 0.3533 - val_sparse_categorical_accuracy: 0.8494\n",
      "Epoch 61/100\n",
      "510/510 [==============================] - 2s 4ms/step - loss: 0.3322 - sparse_categorical_accuracy: 0.8585 - val_loss: 0.3471 - val_sparse_categorical_accuracy: 0.8519\n",
      "Epoch 62/100\n",
      "510/510 [==============================] - 2s 4ms/step - loss: 0.3321 - sparse_categorical_accuracy: 0.8587 - val_loss: 0.3461 - val_sparse_categorical_accuracy: 0.8521\n",
      "Epoch 63/100\n",
      "510/510 [==============================] - 2s 4ms/step - loss: 0.3315 - sparse_categorical_accuracy: 0.8587 - val_loss: 0.3486 - val_sparse_categorical_accuracy: 0.8510\n",
      "Epoch 64/100\n",
      "510/510 [==============================] - 2s 4ms/step - loss: 0.3303 - sparse_categorical_accuracy: 0.8593 - val_loss: 0.3501 - val_sparse_categorical_accuracy: 0.8521\n",
      "Epoch 65/100\n",
      "510/510 [==============================] - 2s 4ms/step - loss: 0.3311 - sparse_categorical_accuracy: 0.8586 - val_loss: 0.3478 - val_sparse_categorical_accuracy: 0.8518\n",
      "Epoch 66/100\n",
      "510/510 [==============================] - 2s 4ms/step - loss: 0.3305 - sparse_categorical_accuracy: 0.8589 - val_loss: 0.3537 - val_sparse_categorical_accuracy: 0.8485\n"
     ]
    }
   ],
   "source": [
    "from tensorflow.keras.optimizers import Adam\n",
    "model.compile(optimizer=Adam(),\n",
    "              loss=keras.losses.SparseCategoricalCrossentropy(from_logits=True), # default from_logits=False\n",
    "              metrics=[keras.metrics.SparseCategoricalAccuracy()])\n",
    "\n",
    "es = EarlyStopping(monitor='val_sparse_categorical_accuracy', \n",
    "                                   mode='max', # don't minimize the accuracy!\n",
    "                                   patience=10,\n",
    "                                   restore_best_weights=True)\n",
    "\n",
    "\n",
    "history = model.fit(x = (X_train,X_train_ylocal),\n",
    "                    y = y_train,\n",
    "                    callbacks=[es],\n",
    "                    epochs=100, \n",
    "                    batch_size=1024,\n",
    "                    validation_split=0.2,\n",
    "                    shuffle=True,\n",
    "                    verbose=1)\n"
   ]
  },
  {
   "cell_type": "code",
   "execution_count": 10,
   "metadata": {
    "colab": {
     "base_uri": "https://localhost:8080/",
     "height": 295
    },
    "executionInfo": {
     "elapsed": 1150,
     "status": "ok",
     "timestamp": 1661339834654,
     "user": {
      "displayName": "Jieun Yoo",
      "userId": "18119058923405700980"
     },
     "user_tz": 240
    },
    "id": "uZi8t6Jrhv15",
    "outputId": "563b8a37-42f2-4bac-89d5-97c8c4f0a7f0"
   },
   "outputs": [
    {
     "data": {
      "image/png": "[encoded data removed]",
      "text/plain": [
       "<Figure size 640x480 with 1 Axes>"
      ]
     },
     "metadata": {},
     "output_type": "display_data"
    }
   ],
   "source": [
    "history_dict = history.history\n",
    "loss_values = history_dict['loss'] \n",
    "val_loss_values = history_dict['val_loss'] \n",
    "epochs = range(1, len(loss_values) + 1) \n",
    "plt.plot(epochs, loss_values, 'bo', label='Training loss')\n",
    "plt.plot(epochs, val_loss_values, 'orange', label='Validation loss')\n",
    "plt.title('Training and validation loss')\n",
    "plt.xlabel('Epochs')\n",
    "plt.ylabel('Loss')\n",
    "plt.legend()\n",
    "plt.savefig('loss.png')"
   ]
  },
  {
   "cell_type": "code",
   "execution_count": 11,
   "metadata": {
    "colab": {
     "base_uri": "https://localhost:8080/",
     "height": 295
    },
    "executionInfo": {
     "elapsed": 1259,
     "status": "ok",
     "timestamp": 1661339835910,
     "user": {
      "displayName": "Jieun Yoo",
      "userId": "18119058923405700980"
     },
     "user_tz": 240
    },
    "id": "JjlyeeKbhx0l",
    "outputId": "5bf20a4b-3df8-41a6-cc89-0653a4070dc1"
   },
   "outputs": [
    {
     "data": {
      "image/png": "[encoded data removed]",
      "text/plain": [
       "<Figure size 640x480 with 1 Axes>"
      ]
     },
     "metadata": {},
     "output_type": "display_data"
    }
   ],
   "source": [
    "acc = history.history['sparse_categorical_accuracy']\n",
    "val_acc = history.history['val_sparse_categorical_accuracy']\n",
    "epochs = range(1, len(acc) + 1)\n",
    "plt.plot(epochs, acc, 'bo', label='Training accuracy')\n",
    "plt.plot(epochs, val_acc, 'orange', label='Validation accuracy')\n",
    "plt.title('Training and validation accuracy')\n",
    "plt.xlabel('Epochs')\n",
    "plt.ylabel('Accuracy')\n",
    "plt.legend()\n",
    "np.max(val_acc)\n",
    "plt.savefig('accuracy.png')"
   ]
  },
  {
   "cell_type": "code",
   "execution_count": 12,
   "metadata": {
    "executionInfo": {
     "elapsed": 9302,
     "status": "ok",
     "timestamp": 1661339845211,
     "user": {
      "displayName": "Jieun Yoo",
      "userId": "18119058923405700980"
     },
     "user_tz": 240
    },
    "id": "IgBP2UIGgexG"
   },
   "outputs": [
    {
     "name": "stdout",
     "output_type": "stream",
     "text": [
      "5095/5095 [==============================] - 6s 1ms/step\n"
     ]
    }
   ],
   "source": [
    "preds = model.predict(x = (X_test,X_test_ylocal))"
   ]
  },
  {
   "cell_type": "code",
   "execution_count": 13,
   "metadata": {
    "colab": {
     "base_uri": "https://localhost:8080/"
    },
    "executionInfo": {
     "elapsed": 4,
     "status": "ok",
     "timestamp": 1661339845212,
     "user": {
      "displayName": "Jieun Yoo",
      "userId": "18119058923405700980"
     },
     "user_tz": 240
    },
    "id": "mjuqlamjimLX",
    "outputId": "92e419d2-b6a5-4db6-f0b4-a03ae83530e0"
   },
   "outputs": [
    {
     "data": {
      "text/plain": [
       "array([1, 2, 0, ..., 1, 0, 2])"
      ]
     },
     "execution_count": 13,
     "metadata": {},
     "output_type": "execute_result"
    }
   ],
   "source": [
    "predictionsFiles =np.argmax(preds, axis=1)\n",
    "predictionsFiles"
   ]
  },
  {
   "cell_type": "code",
   "execution_count": 14,
   "metadata": {
    "executionInfo": {
     "elapsed": 3,
     "status": "ok",
     "timestamp": 1661339845212,
     "user": {
      "displayName": "Jieun Yoo",
      "userId": "18119058923405700980"
     },
     "user_tz": 240
    },
    "id": "fV5CqSeeh3Mt"
   },
   "outputs": [],
   "source": [
    "#predictionsFiles = np.round(model.predict(x = (X_test,X_test_ylocal)),0)"
   ]
  },
  {
   "cell_type": "code",
   "execution_count": 15,
   "metadata": {
    "executionInfo": {
     "elapsed": 2205,
     "status": "ok",
     "timestamp": 1661339847414,
     "user": {
      "displayName": "Jieun Yoo",
      "userId": "18119058923405700980"
     },
     "user_tz": 240
    },
    "id": "V-mituL1h3QD"
   },
   "outputs": [],
   "source": [
    "pd.DataFrame(predictionsFiles).to_csv(\"predictionsFiles.csv\",header='predict', index=False)"
   ]
  },
  {
   "cell_type": "code",
   "execution_count": 16,
   "metadata": {
    "executionInfo": {
     "elapsed": 739,
     "status": "ok",
     "timestamp": 1661339848150,
     "user": {
      "displayName": "Jieun Yoo",
      "userId": "18119058923405700980"
     },
     "user_tz": 240
    },
    "id": "oJjPzihQh7j6"
   },
   "outputs": [],
   "source": [
    "pd.DataFrame(y_test).to_csv(\"true.csv\",header='true', index=False)"
   ]
  },
  {
   "cell_type": "code",
   "execution_count": 17,
   "metadata": {
    "colab": {
     "base_uri": "https://localhost:8080/",
     "height": 381
    },
    "executionInfo": {
     "elapsed": 2200,
     "status": "ok",
     "timestamp": 1661339850348,
     "user": {
      "displayName": "Jieun Yoo",
      "userId": "18119058923405700980"
     },
     "user_tz": 240
    },
    "id": "u574Z6KRitH1",
    "outputId": "1e91c59c-00a3-4d73-e1a8-e43445319886"
   },
   "outputs": [
    {
     "name": "stdout",
     "output_type": "stream",
     "text": [
      "Confusion matrix:\n",
      "[[67087  6370  8063]\n",
      " [ 7440 33289    31]\n",
      " [ 5802    27 34931]]\n"
     ]
    },
    {
     "data": {
      "image/png": "[encoded data removed]",
      "text/plain": [
       "<Figure size 640x480 with 2 Axes>"
      ]
     },
     "metadata": {},
     "output_type": "display_data"
    }
   ],
   "source": [
    "from sklearn import datasets, svm, metrics\n",
    "disp = metrics.ConfusionMatrixDisplay.from_predictions(y_test, predictionsFiles)\n",
    "disp.figure_.suptitle(\"Multiclassifier Confusion Matrix\")\n",
    "print(f\"Confusion matrix:\\n{disp.confusion_matrix}\")\n",
    "plt.savefig('confusionMatrix.png')\n",
    "plt.show()"
   ]
  },
  {
   "cell_type": "code",
   "execution_count": 18,
   "metadata": {
    "colab": {
     "base_uri": "https://localhost:8080/"
    },
    "executionInfo": {
     "elapsed": 19969,
     "status": "ok",
     "timestamp": 1661339870312,
     "user": {
      "displayName": "Jieun Yoo",
      "userId": "18119058923405700980"
     },
     "user_tz": 240
    },
    "id": "E_caEUjWi55Q",
    "outputId": "8d9ae7ae-5f98-4f87-9015-bb5af70034ce"
   },
   "outputs": [
    {
     "name": "stdout",
     "output_type": "stream",
     "text": [
      "5095/5095 [==============================] - 10s 2ms/step - loss: 0.3970 - sparse_categorical_accuracy: 0.8299\n",
      "Test loss: 0.3970339298248291\n",
      "Test accuracy: 0.8299006223678589\n"
     ]
    }
   ],
   "source": [
    "score = model.evaluate( (X_test,X_test_ylocal), y_test, verbose=1)\n",
    "\n",
    "print(\"Test loss:\", score[0])\n",
    "print(\"Test accuracy:\", score[1])"
   ]
  }
 ],
 "metadata": {
  "accelerator": "GPU",
  "colab": {
   "authorship_tag": "ABX9TyMMm2KLB2N8cp5wOhaiLMzR",
   "name": "neural.ipynb",
   "provenance": []
  },
  "gpuClass": "standard",
  "kernelspec": {
   "display_name": "Python 3 (ipykernel)",
   "language": "python",
   "name": "py3-preamble"
  },
  "language_info": {
   "codemirror_mode": {
    "name": "ipython",
    "version": 3
   },
   "file_extension": ".py",
   "mimetype": "text/x-python",
   "name": "python",
   "nbconvert_exporter": "python",
   "pygments_lexer": "ipython3",
   "version": "3.9.15"
  }
 },
 "nbformat": 4,
 "nbformat_minor": 4
}
