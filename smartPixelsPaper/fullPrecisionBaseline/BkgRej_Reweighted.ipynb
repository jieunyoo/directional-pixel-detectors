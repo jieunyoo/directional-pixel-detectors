{
 "cells": [
  {
   "cell_type": "code",
   "execution_count": 1,
   "id": "a7d45d72-972a-4a72-9162-6944fe25f789",
   "metadata": {
    "tags": []
   },
   "outputs": [],
   "source": [
    "import matplotlib\n",
    "import matplotlib.pyplot as plt\n",
    "import seaborn as sns\n",
    "import os\n",
    "import pandas as pd\n",
    "import glob\n",
    "import numpy as np"
   ]
  },
  {
   "cell_type": "code",
   "execution_count": 2,
   "id": "2c361028-61f5-48bb-958b-e0188a2058cf",
   "metadata": {
    "tags": []
   },
   "outputs": [
    {
     "data": {
      "text/plain": [
       "(-2.001, -1.9]     22898\n",
       "(-1.9, -1.8]       27127\n",
       "(-1.8, -1.7]       32528\n",
       "(-1.7, -1.6]       39104\n",
       "(-1.6, -1.5]       47190\n",
       "(-1.5, -1.4]       56900\n",
       "(-1.4, -1.3]       69910\n",
       "(-1.3, -1.2]       85706\n",
       "(-1.2, -1.1]      105326\n",
       "(-1.1, -1.0]      130359\n",
       "(-1.0, -0.9]      165607\n",
       "(-0.9, -0.8]      198763\n",
       "(-0.8, -0.7]      256822\n",
       "(-0.7, -0.6]      323231\n",
       "(-0.6, -0.5]      399458\n",
       "(-0.5, -0.4]      490657\n",
       "(-0.4, -0.3]      565226\n",
       "(-0.3, -0.2]      587652\n",
       "(-0.2, -0.1]      203420\n",
       "(-0.1, 0.0]          380\n",
       "(0.0, 0.1]           380\n",
       "(0.1, 0.2]        216509\n",
       "(0.2, 0.3]        623085\n",
       "(0.3, 0.4]        592413\n",
       "(0.4, 0.5]        505111\n",
       "(0.5, 0.6]        408333\n",
       "(0.6, 0.7]        326467\n",
       "(0.7, 0.8]        259269\n",
       "(0.8, 0.9]        200540\n",
       "(0.9, 1.0]        166169\n",
       "(1.0, 1.1]        131131\n",
       "(1.1, 1.2]        105435\n",
       "(1.2, 1.3]         85022\n",
       "(1.3, 1.4]         69922\n",
       "(1.4, 1.5]         57426\n",
       "(1.5, 1.6]         47443\n",
       "(1.6, 1.7]         39366\n",
       "(1.7, 1.8]         32326\n",
       "(1.8, 1.9]         27757\n",
       "(1.9, 2.0]         22776\n",
       "Name: pt, dtype: int64"
      ]
     },
     "execution_count": 2,
     "metadata": {},
     "output_type": "execute_result"
    }
   ],
   "source": [
    "path = '/uscms/home/jieun201/nobackup/YOURWORKINGAREA/june23_ds8_labelsOnly'\n",
    "csv_files = glob.glob(path + \"/*.csv\")\n",
    "df_labels = (pd.read_csv(file) for file in csv_files)\n",
    "big_df_labels   = pd.concat(df_labels, ignore_index=True)\n",
    "path = '/uscms/home/jieun201/nobackup/YOURWORKINGAREA/june23_ds8_negativeLabelsOnly'\n",
    "csv_files2 = glob.glob(path + \"/*.csv\")\n",
    "df_labels2 = (pd.read_csv(file) for file in csv_files2)\n",
    "big_df_labels2   = pd.concat(df_labels2, ignore_index=True)\n",
    "mergePosNeg = pd.concat([big_df_labels, big_df_labels2])\n",
    "s = pd.Series(mergePosNeg['pt'])\n",
    "BigSampleValueCounts = s.value_counts(bins=[-2.0,-1.9,-1.8,-1.7,-1.6,-1.5,-1.4,-1.3,-1.2,-1.1,-1.0,-0.9,-0.8,-0.7,-0.6,-0.5,\n",
    "                                              -0.4,-0.3,-0.2,-0.1,0,0.1,0.2,0.3,0.4,0.5,0.6,0.7,0.8,0.9,1.0,1.1,1.2,1.3,1.4,\n",
    "                                              1.5,1.6,1.7,1.8,1.9,2.0]).sort_index()\n",
    "BigSampleValueCounts"
   ]
  },
  {
   "cell_type": "code",
   "execution_count": 3,
   "id": "e42c322a-7016-4179-838a-94ddfeefba90",
   "metadata": {
    "tags": []
   },
   "outputs": [
    {
     "data": {
      "text/plain": [
       "7725144"
      ]
     },
     "execution_count": 3,
     "metadata": {},
     "output_type": "execute_result"
    }
   ],
   "source": [
    "TruthTotalCounts = np.array(BigSampleValueCounts)\n",
    "Total_TruthTotalCounts = np.sum(TruthTotalCounts)\n",
    "Total_TruthTotalCounts"
   ]
  },
  {
   "cell_type": "code",
   "execution_count": 4,
   "id": "ccacd1e7-9f8f-4602-9df6-d23b77a80704",
   "metadata": {
    "tags": []
   },
   "outputs": [
    {
     "data": {
      "text/plain": [
       "array([  235,   279,   353,   452,   566,   606,   808,   908,  1157,\n",
       "        1447,  1779,  2100,  2797,  3306,  4435,  5401,  6170,  6516,\n",
       "       40674,    86,    82, 40678,  6706,  6404,  5383,  4182,  3395,\n",
       "        2762,  2133,  1759,  1396,  1123,   906,   781,   610,   495,\n",
       "         442,   349,   303,   254])"
      ]
     },
     "execution_count": 4,
     "metadata": {},
     "output_type": "execute_result"
    }
   ],
   "source": [
    "df1 = pd.read_csv('/uscms/home/jieun201/nobackup/YOURWORKINGAREA/dec6_ds8/TestSetTruePT.csv')\n",
    "df2 = pd.read_csv('/home/jieun201/redo_dec6_dec8_FP/predictionsFiles.csv')\n",
    "df3 = pd.read_csv('/home/jieun201/redo_dec6_dec8_FP/true.csv')\n",
    "df2.columns.values[0] = \"predict\"\n",
    "df3.columns.values[0] = \"true\"\n",
    "df2['predict'] = df2['predict'].astype(int)\n",
    "concatenate = pd.concat([df1,df2, df3], axis=1)\n",
    "s2 = pd.Series(concatenate['pt'])  \n",
    "BigSampleValueCounts2 = s2.value_counts(bins=[-2.0,-1.9,-1.8,-1.7,-1.6,-1.5,-1.4,-1.3,-1.2,-1.1,-1.0,-0.9,-0.8,-0.7,-0.6,-0.5,\n",
    "                                              -0.4,-0.3,-0.2,-0.1,0,0.1,0.2,0.3,0.4,0.5,0.6,0.7,0.8,0.9,1.0,1.1,1.2,1.3,1.4,\n",
    "                                              1.5,1.6,1.7,1.8,1.9,2.0]).sort_index()\n",
    "testSetTotalCounts = np.array(BigSampleValueCounts2)\n",
    "testSetTotalCounts"
   ]
  },
  {
   "cell_type": "code",
   "execution_count": 5,
   "id": "98d22f61-c5fe-4532-ac48-db0f915dc471",
   "metadata": {
    "tags": []
   },
   "outputs": [
    {
     "data": {
      "text/html": [
       "<div>\n",
       "<style scoped>\n",
       "    .dataframe tbody tr th:only-of-type {\n",
       "        vertical-align: middle;\n",
       "    }\n",
       "\n",
       "    .dataframe tbody tr th {\n",
       "        vertical-align: top;\n",
       "    }\n",
       "\n",
       "    .dataframe thead th {\n",
       "        text-align: right;\n",
       "    }\n",
       "</style>\n",
       "<table border=\"1\" class=\"dataframe\">\n",
       "  <thead>\n",
       "    <tr style=\"text-align: right;\">\n",
       "      <th></th>\n",
       "      <th>pt</th>\n",
       "      <th>predict</th>\n",
       "      <th>true</th>\n",
       "    </tr>\n",
       "  </thead>\n",
       "  <tbody>\n",
       "    <tr>\n",
       "      <th>1</th>\n",
       "      <td>0.195180</td>\n",
       "      <td>2</td>\n",
       "      <td>2</td>\n",
       "    </tr>\n",
       "    <tr>\n",
       "      <th>2</th>\n",
       "      <td>1.338710</td>\n",
       "      <td>2</td>\n",
       "      <td>0</td>\n",
       "    </tr>\n",
       "    <tr>\n",
       "      <th>3</th>\n",
       "      <td>0.180981</td>\n",
       "      <td>2</td>\n",
       "      <td>2</td>\n",
       "    </tr>\n",
       "    <tr>\n",
       "      <th>4</th>\n",
       "      <td>0.457629</td>\n",
       "      <td>0</td>\n",
       "      <td>0</td>\n",
       "    </tr>\n",
       "    <tr>\n",
       "      <th>5</th>\n",
       "      <td>0.283597</td>\n",
       "      <td>2</td>\n",
       "      <td>0</td>\n",
       "    </tr>\n",
       "    <tr>\n",
       "      <th>...</th>\n",
       "      <td>...</td>\n",
       "      <td>...</td>\n",
       "      <td>...</td>\n",
       "    </tr>\n",
       "    <tr>\n",
       "      <th>163035</th>\n",
       "      <td>0.395177</td>\n",
       "      <td>2</td>\n",
       "      <td>0</td>\n",
       "    </tr>\n",
       "    <tr>\n",
       "      <th>163036</th>\n",
       "      <td>-0.164451</td>\n",
       "      <td>1</td>\n",
       "      <td>1</td>\n",
       "    </tr>\n",
       "    <tr>\n",
       "      <th>163037</th>\n",
       "      <td>-0.456705</td>\n",
       "      <td>1</td>\n",
       "      <td>0</td>\n",
       "    </tr>\n",
       "    <tr>\n",
       "      <th>163038</th>\n",
       "      <td>-0.168745</td>\n",
       "      <td>0</td>\n",
       "      <td>1</td>\n",
       "    </tr>\n",
       "    <tr>\n",
       "      <th>163039</th>\n",
       "      <td>0.124187</td>\n",
       "      <td>2</td>\n",
       "      <td>2</td>\n",
       "    </tr>\n",
       "  </tbody>\n",
       "</table>\n",
       "<p>160218 rows × 3 columns</p>\n",
       "</div>"
      ],
      "text/plain": [
       "              pt  predict  true\n",
       "1       0.195180        2     2\n",
       "2       1.338710        2     0\n",
       "3       0.180981        2     2\n",
       "4       0.457629        0     0\n",
       "5       0.283597        2     0\n",
       "...          ...      ...   ...\n",
       "163035  0.395177        2     0\n",
       "163036 -0.164451        1     1\n",
       "163037 -0.456705        1     0\n",
       "163038 -0.168745        0     1\n",
       "163039  0.124187        2     2\n",
       "\n",
       "[160218 rows x 3 columns]"
      ]
     },
     "execution_count": 5,
     "metadata": {},
     "output_type": "execute_result"
    }
   ],
   "source": [
    "denominator = concatenate.loc[ (concatenate['pt'] < 2) & (concatenate['pt'] > -2.0)]\n",
    "denominator"
   ]
  },
  {
   "cell_type": "code",
   "execution_count": 6,
   "id": "9159c4bb-4fc8-49a7-a498-b13f2eec226d",
   "metadata": {
    "tags": []
   },
   "outputs": [
    {
     "data": {
      "text/html": [
       "<div>\n",
       "<style scoped>\n",
       "    .dataframe tbody tr th:only-of-type {\n",
       "        vertical-align: middle;\n",
       "    }\n",
       "\n",
       "    .dataframe tbody tr th {\n",
       "        vertical-align: top;\n",
       "    }\n",
       "\n",
       "    .dataframe thead th {\n",
       "        text-align: right;\n",
       "    }\n",
       "</style>\n",
       "<table border=\"1\" class=\"dataframe\">\n",
       "  <thead>\n",
       "    <tr style=\"text-align: right;\">\n",
       "      <th></th>\n",
       "      <th>pt</th>\n",
       "      <th>predict</th>\n",
       "      <th>true</th>\n",
       "    </tr>\n",
       "  </thead>\n",
       "  <tbody>\n",
       "    <tr>\n",
       "      <th>1</th>\n",
       "      <td>0.195180</td>\n",
       "      <td>2</td>\n",
       "      <td>2</td>\n",
       "    </tr>\n",
       "    <tr>\n",
       "      <th>2</th>\n",
       "      <td>1.338710</td>\n",
       "      <td>2</td>\n",
       "      <td>0</td>\n",
       "    </tr>\n",
       "    <tr>\n",
       "      <th>3</th>\n",
       "      <td>0.180981</td>\n",
       "      <td>2</td>\n",
       "      <td>2</td>\n",
       "    </tr>\n",
       "    <tr>\n",
       "      <th>5</th>\n",
       "      <td>0.283597</td>\n",
       "      <td>2</td>\n",
       "      <td>0</td>\n",
       "    </tr>\n",
       "    <tr>\n",
       "      <th>6</th>\n",
       "      <td>-0.314178</td>\n",
       "      <td>1</td>\n",
       "      <td>0</td>\n",
       "    </tr>\n",
       "    <tr>\n",
       "      <th>...</th>\n",
       "      <td>...</td>\n",
       "      <td>...</td>\n",
       "      <td>...</td>\n",
       "    </tr>\n",
       "    <tr>\n",
       "      <th>163034</th>\n",
       "      <td>-0.199993</td>\n",
       "      <td>1</td>\n",
       "      <td>1</td>\n",
       "    </tr>\n",
       "    <tr>\n",
       "      <th>163035</th>\n",
       "      <td>0.395177</td>\n",
       "      <td>2</td>\n",
       "      <td>0</td>\n",
       "    </tr>\n",
       "    <tr>\n",
       "      <th>163036</th>\n",
       "      <td>-0.164451</td>\n",
       "      <td>1</td>\n",
       "      <td>1</td>\n",
       "    </tr>\n",
       "    <tr>\n",
       "      <th>163037</th>\n",
       "      <td>-0.456705</td>\n",
       "      <td>1</td>\n",
       "      <td>0</td>\n",
       "    </tr>\n",
       "    <tr>\n",
       "      <th>163039</th>\n",
       "      <td>0.124187</td>\n",
       "      <td>2</td>\n",
       "      <td>2</td>\n",
       "    </tr>\n",
       "  </tbody>\n",
       "</table>\n",
       "<p>77571 rows × 3 columns</p>\n",
       "</div>"
      ],
      "text/plain": [
       "              pt  predict  true\n",
       "1       0.195180        2     2\n",
       "2       1.338710        2     0\n",
       "3       0.180981        2     2\n",
       "5       0.283597        2     0\n",
       "6      -0.314178        1     0\n",
       "...          ...      ...   ...\n",
       "163034 -0.199993        1     1\n",
       "163035  0.395177        2     0\n",
       "163036 -0.164451        1     1\n",
       "163037 -0.456705        1     0\n",
       "163039  0.124187        2     2\n",
       "\n",
       "[77571 rows x 3 columns]"
      ]
     },
     "execution_count": 6,
     "metadata": {},
     "output_type": "execute_result"
    }
   ],
   "source": [
    "PredictRight = denominator[(denominator['predict'] ==1) | (denominator['predict'] ==2)]\n",
    "PredictRight"
   ]
  },
  {
   "cell_type": "code",
   "execution_count": 7,
   "id": "fce50909-7d2c-43f4-984c-96af55dd1843",
   "metadata": {
    "tags": []
   },
   "outputs": [
    {
     "data": {
      "text/plain": [
       "array([   23,    28,    27,    32,    38,    61,    57,    68,   127,\n",
       "         123,   153,   221,   311,   446,   665,  1066,  1706,  2864,\n",
       "       27710,    78,    80, 32074,  3637,  2165,  1245,   731,   472,\n",
       "         314,   243,   195,   146,   108,    78,    71,    54,    35,\n",
       "          39,    24,    29,    27])"
      ]
     },
     "execution_count": 7,
     "metadata": {},
     "output_type": "execute_result"
    }
   ],
   "source": [
    "s3 = pd.Series(PredictRight['pt'])\n",
    "BigSampleValueCounts3 = s3.value_counts(bins=[-2.0,-1.9,-1.8,-1.7,-1.6,-1.5,-1.4,-1.3,-1.2,-1.1,-1.0,-0.9,-0.8,-0.7,-0.6,-0.5,\n",
    "                                              -0.4,-0.3,-0.2,-0.1,0,0.1,0.2,0.3,0.4,0.5,0.6,0.7,0.8,0.9,1.0,1.1,1.2,1.3,1.4,\n",
    "                                              1.5,1.6,1.7,1.8,1.9,2.0]).sort_index()\n",
    "testSetAs12 = np.array(BigSampleValueCounts3)\n",
    "testSetAs12 #1,2 meaning the labels"
   ]
  },
  {
   "cell_type": "code",
   "execution_count": 8,
   "id": "3f046ab1-0efc-4e39-a63d-f4657c7f4672",
   "metadata": {
    "tags": []
   },
   "outputs": [
    {
     "data": {
      "text/plain": [
       "array([97.43829787, 97.22939068, 92.14730878, 86.51327434, 83.3745583 ,\n",
       "       93.89438944, 86.52227723, 94.38986784, 91.03370787, 90.08914997,\n",
       "       93.08993817, 94.64904762, 91.82052199, 97.77102238, 90.06944758,\n",
       "       90.84558415, 91.60875203, 90.18600368,  5.00122929,  4.41860465,\n",
       "        4.63414634,  5.32250848, 92.91455413, 92.50671455, 93.83447892,\n",
       "       97.64060258, 96.16111929, 93.87002172, 94.01781528, 94.46787948,\n",
       "       93.93338109, 93.88691006, 93.84326711, 89.52880922, 94.14098361,\n",
       "       95.84444444, 89.06334842, 92.62464183, 91.60726073, 89.66929134])"
      ]
     },
     "execution_count": 8,
     "metadata": {},
     "output_type": "execute_result"
    }
   ],
   "source": [
    "makeRatio = TruthTotalCounts/testSetTotalCounts\n",
    "makeRatio\n"
   ]
  },
  {
   "cell_type": "code",
   "execution_count": 9,
   "id": "21ae3733-6bbd-4055-8bae-f4bbbb889492",
   "metadata": {},
   "outputs": [
    {
     "data": {
      "text/plain": [
       "1941038.856859268"
      ]
     },
     "execution_count": 9,
     "metadata": {},
     "output_type": "execute_result"
    }
   ],
   "source": [
    "Sum = np.dot(testSetAs12,makeRatio)\n",
    "Sum"
   ]
  },
  {
   "cell_type": "code",
   "execution_count": 10,
   "id": "83fed628-5fce-47f9-8118-a12dde3758ee",
   "metadata": {
    "tags": []
   },
   "outputs": [
    {
     "data": {
      "text/plain": [
       "0.2512624822086511"
      ]
     },
     "execution_count": 10,
     "metadata": {},
     "output_type": "execute_result"
    }
   ],
   "source": [
    "Sum/Total_TruthTotalCounts"
   ]
  },
  {
   "cell_type": "code",
   "execution_count": null,
   "id": "e37e3f74-076c-4663-ba63-22d08ef13bf8",
   "metadata": {},
   "outputs": [],
   "source": []
  }
 ],
 "metadata": {
  "kernelspec": {
   "display_name": "Python 3 (ipykernel)",
   "language": "python",
   "name": "py3-preamble"
  },
  "language_info": {
   "codemirror_mode": {
    "name": "ipython",
    "version": 3
   },
   "file_extension": ".py",
   "mimetype": "text/x-python",
   "name": "python",
   "nbconvert_exporter": "python",
   "pygments_lexer": "ipython3",
   "version": "3.9.15"
  }
 },
 "nbformat": 4,
 "nbformat_minor": 5
}
