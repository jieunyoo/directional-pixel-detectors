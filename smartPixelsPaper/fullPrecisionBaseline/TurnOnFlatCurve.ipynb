{
 "cells": [
  {
   "cell_type": "code",
   "execution_count": 1,
   "id": "68089e44-4256-4538-9939-f2fed7a1c512",
   "metadata": {},
   "outputs": [],
   "source": [
    "import pandas as pd"
   ]
  },
  {
   "cell_type": "code",
   "execution_count": 2,
   "id": "b8d70af7-2485-4fb1-ba95-d6db6113abf3",
   "metadata": {
    "tags": []
   },
   "outputs": [],
   "source": [
    "df1 = pd.read_csv('true.csv')\n",
    "headers =  [\"true\"]\n",
    "df1.columns = headers\n",
    "df2 = pd.read_csv('predictionsFiles.csv')\n",
    "headers =  [\"predicted\"]\n",
    "df2.columns = headers\n",
    "df3 = pd.concat([df1,df2],  axis=1, join=\"inner\")\n",
    "dfPT = pd.read_csv('/uscms/home/jieun201/nobackup/YOURWORKINGAREA/dec6_ds8/TestSetTruePT.csv')\n",
    "df5 = pd.concat([df1,df2,dfPT],  axis=1, join=\"inner\")\n",
    "df5.to_csv('concatenatedSample.csv',index=False)"
   ]
  },
  {
   "cell_type": "code",
   "execution_count": 3,
   "id": "5c1e55e7-6e83-4349-8f53-91b1b8527660",
   "metadata": {},
   "outputs": [],
   "source": [
    "df6=pd.read_csv('concatenatedSample.csv')"
   ]
  },
  {
   "cell_type": "code",
   "execution_count": 4,
   "id": "7e4b30ef-13ee-4a43-8d77-fe913762d18f",
   "metadata": {},
   "outputs": [
    {
     "data": {
      "text/plain": [
       "0.7813910696761531"
      ]
     },
     "execution_count": 4,
     "metadata": {},
     "output_type": "execute_result"
    }
   ],
   "source": [
    "df7 = df6.loc[ (df6['pt'] > 0.2) | (df6['pt'] < -0.2)]\n",
    "totalNumberRowsSelected = df7.shape[0] \n",
    "predictedCorrect = df7.loc[ df7['predicted'] == 0]\n",
    "numberCorrectlyPredictedAsHighPT = predictedCorrect.shape[0] #first number is number of rows\n",
    "newAccuracyMetric = numberCorrectlyPredictedAsHighPT/totalNumberRowsSelected\n",
    "newAccuracyMetric"
   ]
  },
  {
   "cell_type": "code",
   "execution_count": 5,
   "id": "64c88d9a-fc1a-478b-bc9d-f97f21006341",
   "metadata": {},
   "outputs": [
    {
     "data": {
      "text/plain": [
       "0.8856697819314642"
      ]
     },
     "execution_count": 5,
     "metadata": {},
     "output_type": "execute_result"
    }
   ],
   "source": [
    "df8 = df6.loc[ (df6['pt'] > 0.5) | (df6['pt'] < -0.5)]\n",
    "totalNumberRowsSelected_halfGeV = df8.shape[0] \n",
    "predictedCorrect_halfGeV = df8.loc[ df8['predicted'] == 0]\n",
    "numberCorrectlyPredictedAsHighPT_halfGeV = predictedCorrect_halfGeV.shape[0] #first number is number of rows\n",
    "newAccuracyMetric_halfGeV = numberCorrectlyPredictedAsHighPT_halfGeV/totalNumberRowsSelected_halfGeV\n",
    "newAccuracyMetric_halfGeV"
   ]
  },
  {
   "cell_type": "code",
   "execution_count": 6,
   "id": "c13e2a3f-47a4-4168-9fdf-aaddf8c9a4ae",
   "metadata": {},
   "outputs": [
    {
     "data": {
      "text/plain": [
       "0.9148661919960717"
      ]
     },
     "execution_count": 6,
     "metadata": {},
     "output_type": "execute_result"
    }
   ],
   "source": [
    "df9 = df6.loc[ (df6['pt'] > 1) | (df6['pt'] < -1)]\n",
    "totalNumberRowsSelected_1GeV = df9.shape[0] \n",
    "predictedCorrect_1GeV = df9.loc[df9['predicted'] == 0]\n",
    "numberCorrectlyPredictedAsHighPT_1GeV = predictedCorrect_1GeV.shape[0] \n",
    "newAccuracyMetric_1GeV = numberCorrectlyPredictedAsHighPT_1GeV/totalNumberRowsSelected_1GeV\n",
    "newAccuracyMetric_1GeV"
   ]
  },
  {
   "cell_type": "code",
   "execution_count": 7,
   "id": "4bca4ea1-8b84-4065-9ba3-fc113a196493",
   "metadata": {},
   "outputs": [
    {
     "data": {
      "text/plain": [
       "0.9319631467044649"
      ]
     },
     "execution_count": 7,
     "metadata": {},
     "output_type": "execute_result"
    }
   ],
   "source": [
    "df10 = df6.loc[ (df6['pt'] > 2) | (df6['pt'] < -2)]\n",
    "totalNumberRowsSelected_2GeV = df10.shape[0] \n",
    "predictedCorrect_2GeV = df10.loc[df10['predicted'] == 0]\n",
    "numberCorrectlyPredictedAsHighPT_2GeV = predictedCorrect_2GeV.shape[0] \n",
    "newAccuracyMetric_2GeV = numberCorrectlyPredictedAsHighPT_2GeV/totalNumberRowsSelected_2GeV\n",
    "newAccuracyMetric_2GeV"
   ]
  }
 ],
 "metadata": {
  "kernelspec": {
   "display_name": "Python 3 (ipykernel)",
   "language": "python",
   "name": "py3-preamble"
  },
  "language_info": {
   "codemirror_mode": {
    "name": "ipython",
    "version": 3
   },
   "file_extension": ".py",
   "mimetype": "text/x-python",
   "name": "python",
   "nbconvert_exporter": "python",
   "pygments_lexer": "ipython3",
   "version": "3.9.15"
  }
 },
 "nbformat": 4,
 "nbformat_minor": 5
}
