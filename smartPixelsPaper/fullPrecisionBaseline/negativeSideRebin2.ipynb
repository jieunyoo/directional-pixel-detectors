{
 "cells": [
  {
   "cell_type": "code",
   "execution_count": 1,
   "id": "bdb78c8b",
   "metadata": {},
   "outputs": [],
   "source": [
    "import matplotlib.pyplot as plt\n",
    "import numpy as np\n",
    "import pandas as pd\n",
    "from pandas import read_csv\n",
    "import math\n",
    "import seaborn as sns"
   ]
  },
  {
   "cell_type": "code",
   "execution_count": 2,
   "id": "f3ae0760",
   "metadata": {},
   "outputs": [],
   "source": [
    "df1 = pd.read_csv('/uscms/home/jieun201/nobackup/YOURWORKINGAREA/dec6_ds8/TestSetTruePT.csv')\n",
    "df2 = pd.read_csv('predictionsFiles.csv')\n",
    "df3 = pd.read_csv('true.csv')\n",
    "df2.columns.values[0] = \"predict\"\n",
    "df3.columns.values[0] = \"true\"\n",
    "df2['predict'] = df2['predict'].astype(int)"
   ]
  },
  {
   "cell_type": "code",
   "execution_count": 3,
   "id": "1db413fb",
   "metadata": {},
   "outputs": [],
   "source": [
    "concatenate = pd.concat([df1,df2, df3], axis=1)"
   ]
  },
  {
   "cell_type": "code",
   "execution_count": 4,
   "id": "e69f0330",
   "metadata": {},
   "outputs": [],
   "source": [
    "list1 = [] #this holds the number of entries in each bin\n",
    "list2 = [] #this holds the value, here counts how many entries are predicted as \"0\""
   ]
  },
  {
   "cell_type": "code",
   "execution_count": 5,
   "id": "5c31c469-a428-479f-bca6-85d3619a4c04",
   "metadata": {},
   "outputs": [],
   "source": [
    "binValidate1 = concatenate.loc[(concatenate['pt'] > -0.1) & (concatenate['pt'] <= 0.0)]\n",
    "list1.append(binValidate1.shape[0])\n",
    "list2.append( sum((binValidate1.predict == 0))/(binValidate1.shape[0]) )\n",
    "\n",
    "binValidate2 = concatenate.loc[(concatenate['pt'] > -0.2) & (concatenate['pt'] <= -0.1)]\n",
    "list1.append(binValidate1.shape[0])\n",
    "list2.append( sum((binValidate2.predict == 0))/(binValidate2.shape[0]) )\n",
    "\n",
    "binValidate3 = concatenate.loc[(concatenate['pt'] >-0.3) & (concatenate['pt'] <= -0.2)]\n",
    "list1.append( binValidate3.shape[0])\n",
    "list2.append( sum((binValidate3.predict == 0))/(binValidate3.shape[0]) )"
   ]
  },
  {
   "cell_type": "code",
   "execution_count": 6,
   "id": "c988ddd2-4f0d-4580-be48-01d8b9a11db7",
   "metadata": {},
   "outputs": [],
   "source": [
    "bin4 = concatenate.loc[  ((concatenate['pt'] > -0.4) & (concatenate['pt'] <= -0.3)  )       ]\n",
    "list1.append(bin4.shape[0])\n",
    "list2.append( sum((bin4.predict == 0))/(bin4.shape[0]))"
   ]
  },
  {
   "cell_type": "code",
   "execution_count": 7,
   "id": "588d3559",
   "metadata": {},
   "outputs": [],
   "source": [
    "bin5 = concatenate.loc[  ((concatenate['pt'] > -0.5) & (concatenate['pt'] <= -0.4)  )] \n",
    "list1.append(bin5.shape[0])\n",
    "list2.append( sum((bin5.predict == 0))/(bin5.shape[0]))"
   ]
  },
  {
   "cell_type": "code",
   "execution_count": 8,
   "id": "e02d5ad2",
   "metadata": {},
   "outputs": [],
   "source": [
    "bin6 = concatenate.loc[ ( (concatenate['pt'] > -0.6) & (concatenate['pt'] <= -0.5)   )]\n",
    "#bin6 = concatenate.loc[(concatenate['pt'] < 0.6) & (concatenate['pt'] >= 0.5)]\n",
    "list1.append(bin6.shape[0])\n",
    "list2.append( sum((bin6.predict == 0))/(bin6.shape[0]) )"
   ]
  },
  {
   "cell_type": "code",
   "execution_count": 9,
   "id": "c4bd0f56",
   "metadata": {},
   "outputs": [],
   "source": [
    "bin7 = concatenate.loc[  ( (concatenate['pt'] > -0.7) & (concatenate['pt'] <= -0.6)   )] \n",
    "#bin7 = concatenate.loc[(concatenate['pt'] < 0.7) & (concatenate['pt'] >= 0.6)]\n",
    "list1.append(bin7.shape[0])\n",
    "list2.append( sum((bin7.predict == 0))/(bin7.shape[0]) )"
   ]
  },
  {
   "cell_type": "code",
   "execution_count": 10,
   "id": "aa019235",
   "metadata": {},
   "outputs": [],
   "source": [
    "bin8 = concatenate.loc[  ( (concatenate['pt'] > -0.8) & (concatenate['pt'] <= -0.7)    )]\n",
    "#bin8 = concatenate.loc[(concatenate['pt'] < 0.8) & (concatenate['pt'] >= 0.7)]\n",
    "list1.append(bin8.shape[0])\n",
    "list2.append( sum((bin8.predict == 0))/(bin8.shape[0]) )"
   ]
  },
  {
   "cell_type": "code",
   "execution_count": 11,
   "id": "b4aadb30",
   "metadata": {},
   "outputs": [],
   "source": [
    "bin9 = concatenate.loc[  ( (concatenate['pt'] > -0.9) & (concatenate['pt'] <= -0.8)   )] \n",
    "#bin9 = concatenate.loc[(concatenate['pt'] < 0.9) & (concatenate['pt'] >= 0.8)]\n",
    "list1.append(bin9.shape[0])\n",
    "list2.append( sum((bin9.predict == 0))/(bin9.shape[0]) )"
   ]
  },
  {
   "cell_type": "code",
   "execution_count": 12,
   "id": "4cd51008",
   "metadata": {},
   "outputs": [],
   "source": [
    "bin10 = concatenate.loc[  ( (concatenate['pt'] > -1.0) & (concatenate['pt'] <= -0.9)    )]\n",
    "#bin10 = concatenate.loc[(concatenate['pt'] < 1.0) & (concatenate['pt'] >= 0.9)]\n",
    "list1.append(bin10.shape[0])\n",
    "list2.append( sum((bin10.predict == 0))/(bin10.shape[0]) )"
   ]
  },
  {
   "cell_type": "code",
   "execution_count": 13,
   "id": "a4100412",
   "metadata": {},
   "outputs": [],
   "source": [
    "bin11 = concatenate.loc[  ( (concatenate['pt'] > -1.1) & (concatenate['pt'] <= -1.0)    )]\n",
    "#bin11 = concatenate.loc[(concatenate['pt'] < 1.1) & (concatenate['pt'] >= 1.0)]\n",
    "list1.append(bin11.shape[0])\n",
    "list2.append( sum((bin11.predict == 0))/(bin11.shape[0]) )"
   ]
  },
  {
   "cell_type": "code",
   "execution_count": 14,
   "id": "0aa13844",
   "metadata": {},
   "outputs": [],
   "source": [
    "bin12 = concatenate.loc[  ( (concatenate['pt'] > -1.2) & (concatenate['pt'] <= -1.1)    )]\n",
    "#bin12 = concatenate.loc[(concatenate['pt'] < 1.2) & (concatenate['pt'] >= 1.1)]\n",
    "list1.append(bin12.shape[0])\n",
    "list2.append( sum((bin12.predict == 0))/(bin12.shape[0]) )"
   ]
  },
  {
   "cell_type": "code",
   "execution_count": 15,
   "id": "d19d024a",
   "metadata": {},
   "outputs": [],
   "source": [
    "bin13 = concatenate.loc[  ( (concatenate['pt'] > -1.3) & (concatenate['pt'] <= -1.2)    )]\n",
    "#bin13 = concatenate.loc[(concatenate['pt'] < 1.3) & (concatenate['pt'] >= 1.2)]\n",
    "list1.append(bin13.shape[0])\n",
    "list2.append( sum((bin13.predict == 0))/(bin13.shape[0]) )"
   ]
  },
  {
   "cell_type": "code",
   "execution_count": 16,
   "id": "486ddfc8",
   "metadata": {},
   "outputs": [],
   "source": [
    "bin14 = concatenate.loc[  ( (concatenate['pt'] > -1.4) & (concatenate['pt'] <= -1.3)    )]\n",
    "#bin14 = concatenate.loc[(concatenate['pt'] < 1.4) & (concatenate['pt'] >= 1.3)]\n",
    "list1.append(bin14.shape[0])\n",
    "list2.append( sum((bin14.predict == 0))/(bin14.shape[0]) )"
   ]
  },
  {
   "cell_type": "code",
   "execution_count": 17,
   "id": "54acccab",
   "metadata": {},
   "outputs": [],
   "source": [
    "bin15 = concatenate.loc[ ( (concatenate['pt'] > -1.5) & (concatenate['pt'] <= -1.4)   )] \n",
    "#bin15 = concatenate.loc[(concatenate['pt'] < 1.5) & (concatenate['pt'] >= 1.4)]\n",
    "list1.append(bin15.shape[0])\n",
    "list2.append( sum((bin15.predict == 0))/(bin15.shape[0]) )"
   ]
  },
  {
   "cell_type": "code",
   "execution_count": 18,
   "id": "848dddd1",
   "metadata": {},
   "outputs": [],
   "source": [
    "bin16 = concatenate.loc[  ( (concatenate['pt'] > -1.6) & (concatenate['pt'] <= -1.5)   )] \n",
    "#bin16 = concatenate.loc[(concatenate['pt'] < 1.6) & (concatenate['pt'] >= 1.5)]\n",
    "list1.append(bin16.shape[0])\n",
    "list2.append( sum((bin16.predict == 0))/(bin16.shape[0]) )"
   ]
  },
  {
   "cell_type": "code",
   "execution_count": 19,
   "id": "7cbdca93",
   "metadata": {},
   "outputs": [],
   "source": [
    "bin17 = concatenate.loc[  ( (concatenate['pt'] > -1.7) & (concatenate['pt'] <= -1.6)    )]\n",
    "#bin17 = concatenate.loc[(concatenate['pt'] < 1.7) & (concatenate['pt'] >= 1.6)]\n",
    "list1.append(bin17.shape[0])\n",
    "list2.append( sum((bin17.predict == 0))/(bin17.shape[0]) )"
   ]
  },
  {
   "cell_type": "code",
   "execution_count": 20,
   "id": "9e938f8d",
   "metadata": {},
   "outputs": [],
   "source": [
    "bin18 = concatenate.loc[  ( (concatenate['pt'] > -1.8) & (concatenate['pt'] <= -1.7)    )]\n",
    "#bin18 = concatenate.loc[(concatenate['pt'] < 1.8) & (concatenate['pt'] >= 1.7)]\n",
    "list1.append(bin18.shape[0])\n",
    "list2.append( sum((bin18.predict == 0))/(bin18.shape[0]) )"
   ]
  },
  {
   "cell_type": "code",
   "execution_count": 21,
   "id": "5a38e2e2",
   "metadata": {},
   "outputs": [],
   "source": [
    "bin19 = concatenate.loc[ ( (concatenate['pt'] > -1.9) & (concatenate['pt'] <= -1.8)   )] \n",
    "#bin19 = concatenate.loc[(concatenate['pt'] < 1.9) & (concatenate['pt'] >= 1.8)]\n",
    "list1.append(bin19.shape[0])\n",
    "list2.append( sum((bin19.predict == 0))/(bin19.shape[0]) )"
   ]
  },
  {
   "cell_type": "code",
   "execution_count": 22,
   "id": "616b9d08",
   "metadata": {},
   "outputs": [],
   "source": [
    "bin20 = concatenate.loc[ ( (concatenate['pt'] > -2.0) & (concatenate['pt'] <= -1.9)    )]\n",
    "#bin20 = concatenate.loc[(concatenate['pt'] < 2.0) & (concatenate['pt'] >= 1.9)]\n",
    "list1.append(bin20.shape[0])\n",
    "list2.append( sum((bin20.predict == 0))/(bin20.shape[0]) )"
   ]
  },
  {
   "cell_type": "code",
   "execution_count": 23,
   "id": "75638980",
   "metadata": {},
   "outputs": [],
   "source": [
    "bin21 = concatenate.loc[  ( (concatenate['pt'] > -2.1) & (concatenate['pt'] <= -2.0)    )]\n",
    "bin22 = concatenate.loc[  ( (concatenate['pt'] > -2.2) & (concatenate['pt'] <= -2.1)    )]\n",
    "bin23 = concatenate.loc[  ( (concatenate['pt'] > -2.3) & (concatenate['pt'] <= -2.2)    )]\n",
    "bin24 = concatenate.loc[ ( (concatenate['pt'] > -2.4) & (concatenate['pt'] <= -2.3)    )]\n",
    "bin25 = concatenate.loc[  ( (concatenate['pt'] > -2.5) & (concatenate['pt'] <= -2.4)    )]\n",
    "bin21_25 = bin21.shape[0] + bin22.shape[0]+ bin23.shape[0] + bin24.shape[0]+ bin25.shape[0]\n",
    "list1.append(bin21_25)\n",
    "list2.append((sum(bin21.predict == 0) +sum(bin22.predict == 0) + sum(bin23.predict == 0) + sum(bin24.predict == 0) + sum(bin25.predict == 0))/bin21_25) "
   ]
  },
  {
   "cell_type": "code",
   "execution_count": 24,
   "id": "8581af1c-8b1d-4cc4-9751-c97f3a563616",
   "metadata": {},
   "outputs": [],
   "source": [
    "bin26 = concatenate.loc[  ( (concatenate['pt'] > -2.6) & (concatenate['pt'] <= -2.5)    )]\n",
    "bin27 = concatenate.loc[  ( (concatenate['pt'] > -2.7) & (concatenate['pt'] <= -2.6)    )]\n",
    "bin28 = concatenate.loc[  ( (concatenate['pt'] > -2.8) & (concatenate['pt'] <= -2.7)    )]\n",
    "bin29 = concatenate.loc[   ( (concatenate['pt'] > -2.9) & (concatenate['pt'] <= -2.8)    )]\n",
    "bin30 = concatenate.loc[  ( (concatenate['pt'] > -3.0) & (concatenate['pt'] <= -2.9)    )]\n",
    "bin26_30 = bin26.shape[0] + bin27.shape[0]+ bin28.shape[0] + bin29.shape[0]+ bin30.shape[0]\n",
    "list1.append(bin26_30)\n",
    "list2.append((sum(bin26.predict == 0) +sum(bin27.predict == 0) + sum(bin28.predict == 0) + sum(bin29.predict == 0) + sum(bin30.predict == 0))/bin26_30) "
   ]
  },
  {
   "cell_type": "code",
   "execution_count": 25,
   "id": "681ff24e",
   "metadata": {},
   "outputs": [],
   "source": [
    "bin31 = concatenate.loc[  ( (concatenate['pt'] > -3.1) & (concatenate['pt'] <= -3.0)    )]\n",
    "bin32 = concatenate.loc[  ( (concatenate['pt'] > -3.2) & (concatenate['pt'] <= -3.1)    )]\n",
    "bin33 = concatenate.loc[   ( (concatenate['pt'] > -3.3) & (concatenate['pt'] <= -3.2)    )]\n",
    "bin34 = concatenate.loc[  ( (concatenate['pt'] > -3.4) & (concatenate['pt'] <= -3.3)    )]\n",
    "bin35 = concatenate.loc[  ( (concatenate['pt'] > -3.5) & (concatenate['pt'] <= -3.4)    )]\n",
    "bin31_35 = bin31.shape[0] + bin32.shape[0]+ bin33.shape[0] + bin34.shape[0]+ bin35.shape[0]\n",
    "list1.append(bin31_35)\n",
    "list2.append((sum(bin31.predict == 0) +sum(bin32.predict == 0) + sum(bin33.predict == 0) + sum(bin34.predict == 0) + sum(bin35.predict == 0))/bin31_35 ) "
   ]
  },
  {
   "cell_type": "code",
   "execution_count": 26,
   "id": "41cfbc82",
   "metadata": {},
   "outputs": [],
   "source": [
    "bin36 = concatenate.loc[  ( (concatenate['pt'] > -3.6) & (concatenate['pt'] <= -3.5)    )]\n",
    "bin37 = concatenate.loc[  ( (concatenate['pt'] > -3.7) & (concatenate['pt'] <= -3.6)    )]\n",
    "bin38 = concatenate.loc[ ( (concatenate['pt'] > -3.8) & (concatenate['pt'] <= -3.7)    )]\n",
    "bin39 = concatenate.loc[   ( (concatenate['pt'] > -3.9) & (concatenate['pt'] <= -3.8)    )]\n",
    "bin40 = concatenate.loc[ ( (concatenate['pt'] > -4.0) & (concatenate['pt'] <= -3.9)    )]\n",
    "bin36_40 = bin36.shape[0] + bin37.shape[0]+ bin38.shape[0] + bin39.shape[0]+ bin40.shape[0]\n",
    "list1.append(bin36_40)\n",
    "list2.append((sum(bin36.predict == 0) +sum(bin37.predict == 0) + sum(bin38.predict == 0) + sum(bin39.predict == 0) + sum(bin40.predict == 0))/bin36_40 ) "
   ]
  },
  {
   "cell_type": "code",
   "execution_count": 27,
   "id": "fa2258a9",
   "metadata": {},
   "outputs": [],
   "source": [
    "bin41 = concatenate.loc[  ( (concatenate['pt'] > -4.1) & (concatenate['pt'] <= -4.0)    )]\n",
    "bin42 = concatenate.loc[   ( (concatenate['pt'] > -4.2) & (concatenate['pt'] <= -4.1)    )]\n",
    "bin43 = concatenate.loc[   ( (concatenate['pt'] > -4.3) & (concatenate['pt'] <= -4.2)    )]\n",
    "bin44 = concatenate.loc[   ( (concatenate['pt'] > -4.4) & (concatenate['pt'] <= -4.3)  )]\n",
    "bin45 = concatenate.loc[   ( (concatenate['pt'] > -4.5) & (concatenate['pt'] <= -4.4)    )]\n",
    "bin41_45 = bin41.shape[0] + bin42.shape[0]+ bin43.shape[0] + bin44.shape[0]+ bin45.shape[0] \n",
    "list1.append(bin41_45)\n",
    "list2.append((sum(bin41.predict == 0) +sum(bin42.predict == 0) + sum(bin43.predict == 0) + sum(bin44.predict == 0) + sum(bin45.predict == 0))/bin41_45 ) "
   ]
  },
  {
   "cell_type": "code",
   "execution_count": 28,
   "id": "16d4e096",
   "metadata": {},
   "outputs": [],
   "source": [
    "bin46 = concatenate.loc[   ( (concatenate['pt'] > -4.6) & (concatenate['pt'] <= -4.5)    )]\n",
    "bin47 = concatenate.loc[  ( (concatenate['pt'] > -4.7) & (concatenate['pt'] <= -4.6)    )]\n",
    "bin48 = concatenate.loc[   ( (concatenate['pt'] > -4.8) & (concatenate['pt'] <= -4.7)    )]\n",
    "bin49 = concatenate.loc[   ( (concatenate['pt'] > -4.9) & (concatenate['pt'] <= -4.8)    )]\n",
    "bin50 = concatenate.loc[ ( (concatenate['pt'] > -5.0) & (concatenate['pt'] <= -4.9)    )]\n",
    "bin46_50 = bin46.shape[0] + bin47.shape[0]+ bin48.shape[0] + bin49.shape[0]+ bin50.shape[0]  \n",
    "list1.append(bin46_50)\n",
    "list2.append((sum(bin46.predict == 0) +sum(bin47.predict == 0) + sum(bin48.predict == 0) + sum(bin49.predict == 0) + sum(bin50.predict == 0))/bin46_50 ) "
   ]
  },
  {
   "cell_type": "code",
   "execution_count": 29,
   "id": "dd8c3d29-e39d-4c05-93d0-22919abdc838",
   "metadata": {},
   "outputs": [],
   "source": [
    "reversed_list2 = list2[::-1]\n",
    "#reversed_list2"
   ]
  },
  {
   "cell_type": "code",
   "execution_count": 30,
   "id": "53a6720b",
   "metadata": {},
   "outputs": [
    {
     "data": {
      "text/plain": [
       "26"
      ]
     },
     "execution_count": 30,
     "metadata": {},
     "output_type": "execute_result"
    }
   ],
   "source": [
    "len(reversed_list2)"
   ]
  },
  {
   "cell_type": "code",
   "execution_count": 31,
   "id": "c18d2ae2",
   "metadata": {},
   "outputs": [],
   "source": [
    "xvalues = [-0.1,-0.2,-0.3,-0.4,-0.5,-0.6,-0.7,-0.8,-0.9,-1.0,-1.1,-1.2,-1.3,-1.4,-1.5,-1.6,-1.7,-1.8,-1.9,-2.0,-2.5,-3.0,-3.5,-4.0,-4.5,-4.9]"
   ]
  },
  {
   "cell_type": "code",
   "execution_count": 32,
   "id": "b3196327-698f-4cc4-b170-a8b2f237691b",
   "metadata": {},
   "outputs": [
    {
     "data": {
      "text/plain": [
       "26"
      ]
     },
     "execution_count": 32,
     "metadata": {},
     "output_type": "execute_result"
    }
   ],
   "source": [
    "len(xvalues)"
   ]
  },
  {
   "cell_type": "code",
   "execution_count": 33,
   "id": "1aa5dbaf-a39d-42e3-9faa-d6a355359e37",
   "metadata": {},
   "outputs": [],
   "source": [
    "reversed_list = list1[::-1]"
   ]
  },
  {
   "cell_type": "code",
   "execution_count": 34,
   "id": "289ba9a6-c771-4693-a81f-35eee6bd8408",
   "metadata": {},
   "outputs": [
    {
     "data": {
      "text/plain": [
       "array([[0.93939394, 0.9245283 , 0.95918367, 0.93406593, 0.92307692,\n",
       "        0.93543956, 0.90212766, 0.89964158, 0.92351275, 0.92920354,\n",
       "        0.93286219, 0.89933993, 0.92945545, 0.92511013, 0.89023336,\n",
       "        0.91499654, 0.91399663, 0.8947619 , 0.88880944, 0.86509377,\n",
       "        0.85005637, 0.80262914, 0.72350081, 0.56046654, 0.31872941,\n",
       "        0.09302326]])"
      ]
     },
     "execution_count": 34,
     "metadata": {},
     "output_type": "execute_result"
    }
   ],
   "source": [
    "y_values=np.array([reversed_list2])\n",
    "y_values"
   ]
  },
  {
   "cell_type": "code",
   "execution_count": 35,
   "id": "1076cf36-99c1-4b28-8154-31444dc7a5cd",
   "metadata": {},
   "outputs": [
    {
     "data": {
      "text/plain": [
       "array([[  33,   53,   98,  182,  351,  728,  235,  279,  353,  452,  566,\n",
       "         606,  808,  908, 1157, 1447, 1779, 2100, 2797, 3306, 4435, 5401,\n",
       "        6170, 6516,   86,   86]])"
      ]
     },
     "execution_count": 35,
     "metadata": {},
     "output_type": "execute_result"
    }
   ],
   "source": [
    "x_values=np.array([reversed_list])\n",
    "x_values"
   ]
  },
  {
   "cell_type": "code",
   "execution_count": 36,
   "id": "f605d4b6-fa95-457b-8100-cd7e52077a7c",
   "metadata": {},
   "outputs": [
    {
     "data": {
      "text/plain": [
       "array([[0.04153603, 0.03628392, 0.01998733, 0.01839535, 0.01422308,\n",
       "        0.00910805, 0.0193834 , 0.01798911, 0.01414584, 0.01206402,\n",
       "        0.01051923, 0.01222234, 0.00900825, 0.00873505, 0.0091901 ,\n",
       "        0.00733152, 0.00664725, 0.00669623, 0.00594418, 0.0059415 ,\n",
       "        0.00536094, 0.00541579, 0.00569408, 0.00614866, 0.05024833,\n",
       "        0.03132165]])"
      ]
     },
     "execution_count": 36,
     "metadata": {},
     "output_type": "execute_result"
    }
   ],
   "source": [
    "first = y_values*(1-y_values)\n",
    "second = first/x_values\n",
    "errors = np.sqrt(second)\n",
    "errors"
   ]
  },
  {
   "cell_type": "code",
   "execution_count": 37,
   "id": "a5007ddc-ada0-40f0-a47a-04c0482d8eb5",
   "metadata": {},
   "outputs": [],
   "source": [
    "np.savetxt('NegativeYValuesRebin.out',y_values, delimiter=',')\n",
    "np.savetxt('errorsNegativeRebin.out', errors, delimiter=',')"
   ]
  }
 ],
 "metadata": {
  "kernelspec": {
   "display_name": "Python 3 (ipykernel)",
   "language": "python",
   "name": "py3-preamble"
  },
  "language_info": {
   "codemirror_mode": {
    "name": "ipython",
    "version": 3
   },
   "file_extension": ".py",
   "mimetype": "text/x-python",
   "name": "python",
   "nbconvert_exporter": "python",
   "pygments_lexer": "ipython3",
   "version": "3.9.15"
  }
 },
 "nbformat": 4,
 "nbformat_minor": 5
}
