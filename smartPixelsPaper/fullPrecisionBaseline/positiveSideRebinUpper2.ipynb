{
 "cells": [
  {
   "cell_type": "code",
   "execution_count": 1,
   "id": "bdb78c8b",
   "metadata": {},
   "outputs": [],
   "source": [
    "import matplotlib.pyplot as plt\n",
    "import numpy as np\n",
    "import pandas as pd\n",
    "from pandas import read_csv\n",
    "import math\n",
    "import seaborn as sns"
   ]
  },
  {
   "cell_type": "code",
   "execution_count": 2,
   "id": "f3ae0760",
   "metadata": {},
   "outputs": [],
   "source": [
    "df1 = pd.read_csv('/uscms/home/jieun201/nobackup/YOURWORKINGAREA/dec6_ds8/TestSetTruePT.csv')\n",
    "df2 = pd.read_csv('predictionsFiles.csv')\n",
    "df3 = pd.read_csv('true.csv')\n",
    "df2.columns.values[0] = \"predict\"\n",
    "df3.columns.values[0] = \"true\"\n",
    "df2['predict'] = df2['predict'].astype(int)"
   ]
  },
  {
   "cell_type": "code",
   "execution_count": 3,
   "id": "1db413fb",
   "metadata": {},
   "outputs": [
    {
     "data": {
      "text/html": [
       "<div>\n",
       "<style scoped>\n",
       "    .dataframe tbody tr th:only-of-type {\n",
       "        vertical-align: middle;\n",
       "    }\n",
       "\n",
       "    .dataframe tbody tr th {\n",
       "        vertical-align: top;\n",
       "    }\n",
       "\n",
       "    .dataframe thead th {\n",
       "        text-align: right;\n",
       "    }\n",
       "</style>\n",
       "<table border=\"1\" class=\"dataframe\">\n",
       "  <thead>\n",
       "    <tr style=\"text-align: right;\">\n",
       "      <th></th>\n",
       "      <th>pt</th>\n",
       "      <th>predict</th>\n",
       "      <th>true</th>\n",
       "    </tr>\n",
       "  </thead>\n",
       "  <tbody>\n",
       "    <tr>\n",
       "      <th>0</th>\n",
       "      <td>-2.627300</td>\n",
       "      <td>0</td>\n",
       "      <td>0</td>\n",
       "    </tr>\n",
       "    <tr>\n",
       "      <th>1</th>\n",
       "      <td>0.195180</td>\n",
       "      <td>2</td>\n",
       "      <td>2</td>\n",
       "    </tr>\n",
       "    <tr>\n",
       "      <th>2</th>\n",
       "      <td>1.338710</td>\n",
       "      <td>2</td>\n",
       "      <td>0</td>\n",
       "    </tr>\n",
       "    <tr>\n",
       "      <th>3</th>\n",
       "      <td>0.180981</td>\n",
       "      <td>2</td>\n",
       "      <td>2</td>\n",
       "    </tr>\n",
       "    <tr>\n",
       "      <th>4</th>\n",
       "      <td>0.457629</td>\n",
       "      <td>0</td>\n",
       "      <td>0</td>\n",
       "    </tr>\n",
       "    <tr>\n",
       "      <th>...</th>\n",
       "      <td>...</td>\n",
       "      <td>...</td>\n",
       "      <td>...</td>\n",
       "    </tr>\n",
       "    <tr>\n",
       "      <th>163035</th>\n",
       "      <td>0.395177</td>\n",
       "      <td>2</td>\n",
       "      <td>0</td>\n",
       "    </tr>\n",
       "    <tr>\n",
       "      <th>163036</th>\n",
       "      <td>-0.164451</td>\n",
       "      <td>1</td>\n",
       "      <td>1</td>\n",
       "    </tr>\n",
       "    <tr>\n",
       "      <th>163037</th>\n",
       "      <td>-0.456705</td>\n",
       "      <td>1</td>\n",
       "      <td>0</td>\n",
       "    </tr>\n",
       "    <tr>\n",
       "      <th>163038</th>\n",
       "      <td>-0.168745</td>\n",
       "      <td>0</td>\n",
       "      <td>1</td>\n",
       "    </tr>\n",
       "    <tr>\n",
       "      <th>163039</th>\n",
       "      <td>0.124187</td>\n",
       "      <td>2</td>\n",
       "      <td>2</td>\n",
       "    </tr>\n",
       "  </tbody>\n",
       "</table>\n",
       "<p>163040 rows × 3 columns</p>\n",
       "</div>"
      ],
      "text/plain": [
       "              pt  predict  true\n",
       "0      -2.627300        0     0\n",
       "1       0.195180        2     2\n",
       "2       1.338710        2     0\n",
       "3       0.180981        2     2\n",
       "4       0.457629        0     0\n",
       "...          ...      ...   ...\n",
       "163035  0.395177        2     0\n",
       "163036 -0.164451        1     1\n",
       "163037 -0.456705        1     0\n",
       "163038 -0.168745        0     1\n",
       "163039  0.124187        2     2\n",
       "\n",
       "[163040 rows x 3 columns]"
      ]
     },
     "execution_count": 3,
     "metadata": {},
     "output_type": "execute_result"
    }
   ],
   "source": [
    "concatenate = pd.concat([df1,df2, df3], axis=1)\n",
    "concatenate"
   ]
  },
  {
   "cell_type": "code",
   "execution_count": 4,
   "id": "e69f0330",
   "metadata": {},
   "outputs": [],
   "source": [
    "list1 = []\n",
    "list2 = []"
   ]
  },
  {
   "cell_type": "code",
   "execution_count": 5,
   "id": "5c31c469-a428-479f-bca6-85d3619a4c04",
   "metadata": {},
   "outputs": [],
   "source": [
    "binValidate1 = concatenate.loc[(concatenate['pt'] < 0.1) & (concatenate['pt'] >= 0.0)]\n",
    "list1.append(binValidate1.shape[0])\n",
    "list2.append( sum((binValidate1.predict == 0))/(binValidate1.shape[0]) )\n",
    "\n",
    "binValidate2 = concatenate.loc[(concatenate['pt'] < 0.2) & (concatenate['pt'] >= 0.1)]\n",
    "list1.append(binValidate1.shape[0])\n",
    "list2.append( sum((binValidate2.predict == 0))/(binValidate2.shape[0]) )\n",
    "\n",
    "binValidate3 = concatenate.loc[(concatenate['pt'] < 0.3) & (concatenate['pt'] >= 0.2)]\n",
    "list1.append( binValidate3.shape[0])\n",
    "list2.append( sum((binValidate3.predict == 0))/(binValidate3.shape[0]) )"
   ]
  },
  {
   "cell_type": "code",
   "execution_count": 6,
   "id": "c988ddd2-4f0d-4580-be48-01d8b9a11db7",
   "metadata": {},
   "outputs": [],
   "source": [
    "bin4 = concatenate.loc[  ((concatenate['pt'] < 0.4) & (concatenate['pt'] >= 0.3)  )       ]\n",
    "list1.append(bin4.shape[0])\n",
    "list2.append( sum((bin4.predict == 0))/(bin4.shape[0]))"
   ]
  },
  {
   "cell_type": "code",
   "execution_count": 7,
   "id": "588d3559",
   "metadata": {},
   "outputs": [],
   "source": [
    "bin5 = concatenate.loc[  ((concatenate['pt'] < 0.5) & (concatenate['pt'] >= 0.4)  )] \n",
    "list1.append(bin5.shape[0])\n",
    "list2.append( sum((bin5.predict == 0))/(bin5.shape[0]))"
   ]
  },
  {
   "cell_type": "code",
   "execution_count": 8,
   "id": "e02d5ad2",
   "metadata": {},
   "outputs": [],
   "source": [
    "#bin6 = concatenate.loc[  ((concatenate['pt'] < 0.6) & (concatenate['pt'] >= 0.5) ) | ( (concatenate['pt'] > -0.6) & (concatenate['pt'] <= -0.5)   )]\n",
    "bin6 = concatenate.loc[(concatenate['pt'] < 0.6) & (concatenate['pt'] >= 0.5)]\n",
    "list1.append(bin6.shape[0])\n",
    "list2.append( sum((bin6.predict == 0))/(bin6.shape[0]) )"
   ]
  },
  {
   "cell_type": "code",
   "execution_count": 9,
   "id": "c4bd0f56",
   "metadata": {},
   "outputs": [],
   "source": [
    "#bin7 = concatenate.loc[  ((concatenate['pt'] < 0.7) & (concatenate['pt'] >= 0.6) ) | ( (concatenate['pt'] > -0.7) & (concatenate['pt'] <= -0.6)   )] \n",
    "bin7 = concatenate.loc[(concatenate['pt'] < 0.7) & (concatenate['pt'] >= 0.6)]\n",
    "list1.append(bin7.shape[0])\n",
    "list2.append( sum((bin7.predict == 0))/(bin7.shape[0]) )"
   ]
  },
  {
   "cell_type": "code",
   "execution_count": 10,
   "id": "aa019235",
   "metadata": {},
   "outputs": [],
   "source": [
    "#bin8 = concatenate.loc[  ((concatenate['pt'] < 0.8) & (concatenate['pt'] >= 0.7) ) | ( (concatenate['pt'] > -0.8) & (concatenate['pt'] <= -0.7)    )]\n",
    "bin8 = concatenate.loc[(concatenate['pt'] < 0.8) & (concatenate['pt'] >= 0.7)]\n",
    "list1.append(bin8.shape[0])\n",
    "list2.append( sum((bin8.predict == 0))/(bin8.shape[0]) )"
   ]
  },
  {
   "cell_type": "code",
   "execution_count": 11,
   "id": "b4aadb30",
   "metadata": {},
   "outputs": [],
   "source": [
    "#bin9 = concatenate.loc[  ((concatenate['pt'] < 0.9) & (concatenate['pt'] >= 0.8) ) | ( (concatenate['pt'] > -0.9) & (concatenate['pt'] <= -0.8)   )] \n",
    "bin9 = concatenate.loc[(concatenate['pt'] < 0.9) & (concatenate['pt'] >= 0.8)]\n",
    "list1.append(bin9.shape[0])\n",
    "list2.append( sum((bin9.predict == 0))/(bin9.shape[0]) )"
   ]
  },
  {
   "cell_type": "code",
   "execution_count": 12,
   "id": "4cd51008",
   "metadata": {},
   "outputs": [],
   "source": [
    "#bin10 = concatenate.loc[  ((concatenate['pt'] < 1.0) & (concatenate['pt'] >= 0.9) ) | ( (concatenate['pt'] > -1.0) & (concatenate['pt'] <= -0.9)    )]\n",
    "bin10 = concatenate.loc[(concatenate['pt'] < 1.0) & (concatenate['pt'] >= 0.9)]\n",
    "list1.append(bin10.shape[0])\n",
    "list2.append( sum((bin10.predict == 0))/(bin10.shape[0]) )"
   ]
  },
  {
   "cell_type": "code",
   "execution_count": 13,
   "id": "a4100412",
   "metadata": {},
   "outputs": [],
   "source": [
    "#bin11 = concatenate.loc[  ((concatenate['pt'] < 1.1) & (concatenate['pt'] >= 1.0) ) | ( (concatenate['pt'] > -1.1) & (concatenate['pt'] <= -1.0)    )]\n",
    "bin11 = concatenate.loc[(concatenate['pt'] < 1.1) & (concatenate['pt'] >= 1.0)]\n",
    "list1.append(bin11.shape[0])\n",
    "list2.append( sum((bin11.predict == 0))/(bin11.shape[0]) )"
   ]
  },
  {
   "cell_type": "code",
   "execution_count": 14,
   "id": "0aa13844",
   "metadata": {},
   "outputs": [],
   "source": [
    "#bin12 = concatenate.loc[  ((concatenate['pt'] < 1.2) & (concatenate['pt'] >= 1.1) ) | ( (concatenate['pt'] > -1.2) & (concatenate['pt'] <= -1.1)    )]\n",
    "bin12 = concatenate.loc[(concatenate['pt'] < 1.2) & (concatenate['pt'] >= 1.1)]\n",
    "list1.append(bin12.shape[0])\n",
    "list2.append( sum((bin12.predict == 0))/(bin12.shape[0]) )"
   ]
  },
  {
   "cell_type": "code",
   "execution_count": 15,
   "id": "d19d024a",
   "metadata": {},
   "outputs": [],
   "source": [
    "#bin13 = concatenate.loc[  ((concatenate['pt'] < 1.3) & (concatenate['pt'] >= 1.2) ) | ( (concatenate['pt'] > -1.3) & (concatenate['pt'] <= -1.2)    )]\n",
    "bin13 = concatenate.loc[(concatenate['pt'] < 1.3) & (concatenate['pt'] >= 1.2)]\n",
    "list1.append(bin13.shape[0])\n",
    "list2.append( sum((bin13.predict == 0))/(bin13.shape[0]) )"
   ]
  },
  {
   "cell_type": "code",
   "execution_count": 16,
   "id": "486ddfc8",
   "metadata": {},
   "outputs": [],
   "source": [
    "#bin14 = concatenate.loc[  ((concatenate['pt'] < 1.4) & (concatenate['pt'] >= 1.3) ) | ( (concatenate['pt'] > -1.4) & (concatenate['pt'] <= -1.3)    )]\n",
    "bin14 = concatenate.loc[(concatenate['pt'] < 1.4) & (concatenate['pt'] >= 1.3)]\n",
    "list1.append(bin14.shape[0])\n",
    "list2.append( sum((bin14.predict == 0))/(bin14.shape[0]) )"
   ]
  },
  {
   "cell_type": "code",
   "execution_count": 17,
   "id": "54acccab",
   "metadata": {},
   "outputs": [],
   "source": [
    "#bin15 = concatenate.loc[  ((concatenate['pt'] < 1.5) & (concatenate['pt'] >= 1.4) ) | ( (concatenate['pt'] > -1.5) & (concatenate['pt'] <= -1.4)   )] \n",
    "bin15 = concatenate.loc[(concatenate['pt'] < 1.5) & (concatenate['pt'] >= 1.4)]\n",
    "list1.append(bin15.shape[0])\n",
    "list2.append( sum((bin15.predict == 0))/(bin15.shape[0]) )"
   ]
  },
  {
   "cell_type": "code",
   "execution_count": 18,
   "id": "848dddd1",
   "metadata": {},
   "outputs": [],
   "source": [
    "#bin16 = concatenate.loc[  ((concatenate['pt'] < 1.6) & (concatenate['pt'] >= 1.5) ) | ( (concatenate['pt'] > -1.6) & (concatenate['pt'] <= -1.5)   )] \n",
    "bin16 = concatenate.loc[(concatenate['pt'] < 1.6) & (concatenate['pt'] >= 1.5)]\n",
    "list1.append(bin16.shape[0])\n",
    "list2.append( sum((bin16.predict == 0))/(bin16.shape[0]) )"
   ]
  },
  {
   "cell_type": "code",
   "execution_count": 19,
   "id": "7cbdca93",
   "metadata": {},
   "outputs": [],
   "source": [
    "#bin17 = concatenate.loc[  ((concatenate['pt'] < 1.7) & (concatenate['pt'] >= 1.6) ) | ( (concatenate['pt'] > -1.7) & (concatenate['pt'] <= -1.6)    )]\n",
    "bin17 = concatenate.loc[(concatenate['pt'] < 1.7) & (concatenate['pt'] >= 1.6)]\n",
    "list1.append(bin17.shape[0])\n",
    "list2.append( sum((bin17.predict == 0))/(bin17.shape[0]) )"
   ]
  },
  {
   "cell_type": "code",
   "execution_count": 20,
   "id": "9e938f8d",
   "metadata": {},
   "outputs": [],
   "source": [
    "#bin18 = concatenate.loc[  ((concatenate['pt'] < 1.8) & (concatenate['pt'] >= 1.7) ) | ( (concatenate['pt'] > -1.8) & (concatenate['pt'] <= -1.7)    )]\n",
    "bin18 = concatenate.loc[(concatenate['pt'] < 1.8) & (concatenate['pt'] >= 1.7)]\n",
    "list1.append(bin18.shape[0])\n",
    "list2.append( sum((bin18.predict == 0))/(bin18.shape[0]) )"
   ]
  },
  {
   "cell_type": "code",
   "execution_count": 21,
   "id": "5a38e2e2",
   "metadata": {},
   "outputs": [],
   "source": [
    "#bin19 = concatenate.loc[  ((concatenate['pt'] < 1.9) & (concatenate['pt'] >= 1.8) ) | ( (concatenate['pt'] > -1.9) & (concatenate['pt'] <= -1.8)   )] \n",
    "bin19 = concatenate.loc[(concatenate['pt'] < 1.9) & (concatenate['pt'] >= 1.8)]\n",
    "list1.append(bin19.shape[0])\n",
    "list2.append( sum((bin19.predict == 0))/(bin19.shape[0]) )"
   ]
  },
  {
   "cell_type": "code",
   "execution_count": 22,
   "id": "616b9d08",
   "metadata": {},
   "outputs": [],
   "source": [
    "#bin20 = concatenate.loc[  ((concatenate['pt'] < 2.0) & (concatenate['pt'] >= 1.9) ) | ( (concatenate['pt'] > -2.0) & (concatenate['pt'] <= -1.9)    )]\n",
    "bin20 = concatenate.loc[(concatenate['pt'] < 2.0) & (concatenate['pt'] >= 1.9)]\n",
    "list1.append(bin20.shape[0])\n",
    "list2.append( sum((bin20.predict == 0))/(bin20.shape[0]) )"
   ]
  },
  {
   "cell_type": "code",
   "execution_count": 23,
   "id": "75638980",
   "metadata": {},
   "outputs": [],
   "source": [
    "bin21 = concatenate.loc[(concatenate['pt'] < 2.1) & (concatenate['pt'] >= 2.0)]\n",
    "bin22 = concatenate.loc[(concatenate['pt'] < 2.2) & (concatenate['pt'] >= 2.1)]\n",
    "bin23 = concatenate.loc[(concatenate['pt'] < 2.3) & (concatenate['pt'] >= 2.2)]\n",
    "bin24 = concatenate.loc[(concatenate['pt'] < 2.4) & (concatenate['pt'] >= 2.3)]\n",
    "bin25 = concatenate.loc[(concatenate['pt'] < 2.5) & (concatenate['pt'] >= 2.4)]\n",
    "\n",
    "bin21_25 = bin21.shape[0] + bin22.shape[0]+ bin23.shape[0] + bin24.shape[0]+ bin25.shape[0]\n",
    "list1.append(bin21_25)\n",
    "list2.append((sum(bin21.predict == 0) +sum(bin22.predict == 0) + sum(bin23.predict == 0) + sum(bin24.predict == 0) + sum(bin25.predict == 0))/bin21_25) "
   ]
  },
  {
   "cell_type": "code",
   "execution_count": 24,
   "id": "9ff6155b",
   "metadata": {},
   "outputs": [],
   "source": [
    "bin26 = concatenate.loc[(concatenate['pt'] < 2.6) & (concatenate['pt'] >= 2.5)]\n",
    "bin27 = concatenate.loc[(concatenate['pt'] < 2.7) & (concatenate['pt'] >= 2.6)]\n",
    "bin28 = concatenate.loc[(concatenate['pt'] < 2.8) & (concatenate['pt'] >= 2.7)]\n",
    "bin29 = concatenate.loc[(concatenate['pt'] < 2.9) & (concatenate['pt'] >= 2.8)]\n",
    "bin30 = concatenate.loc[(concatenate['pt'] < 3.0) & (concatenate['pt'] >= 2.9)]\n",
    "\n",
    "bin26_30 = bin26.shape[0] + bin27.shape[0]+ bin28.shape[0] + bin29.shape[0]+ bin30.shape[0]\n",
    "list1.append(bin26_30)\n",
    "list2.append((sum(bin26.predict == 0) +sum(bin27.predict == 0) + sum(bin28.predict == 0) + sum(bin29.predict == 0) + sum(bin30.predict == 0))/bin26_30) "
   ]
  },
  {
   "cell_type": "code",
   "execution_count": 25,
   "id": "43e96428-d01c-4f6b-86bd-b466955e621e",
   "metadata": {},
   "outputs": [],
   "source": [
    "bin31 = concatenate.loc[(concatenate['pt'] < 3.1) & (concatenate['pt'] >= 3.0)]\n",
    "bin32 = concatenate.loc[(concatenate['pt'] < 3.2) & (concatenate['pt'] >= 3.1)]\n",
    "bin33 = concatenate.loc[(concatenate['pt'] < 3.3) & (concatenate['pt'] >= 3.2)]\n",
    "bin34 = concatenate.loc[(concatenate['pt'] < 3.4) & (concatenate['pt'] >= 3.3)]\n",
    "bin35 = concatenate.loc[(concatenate['pt'] < 3.5) & (concatenate['pt'] >= 3.4)]\n",
    "bin31_35 = bin31.shape[0] + bin32.shape[0]+ bin33.shape[0] + bin34.shape[0]+ bin35.shape[0]\n",
    "list1.append(bin31_35)\n",
    "list2.append((sum(bin31.predict == 0) +sum(bin32.predict == 0) + sum(bin33.predict == 0) + sum(bin34.predict == 0) + sum(bin35.predict == 0))/bin31_35 ) "
   ]
  },
  {
   "cell_type": "code",
   "execution_count": 26,
   "id": "12133e8d",
   "metadata": {},
   "outputs": [],
   "source": [
    "bin36 = concatenate.loc[(concatenate['pt'] < 3.6) & (concatenate['pt'] >= 3.5)]\n",
    "bin37 = concatenate.loc[(concatenate['pt'] < 3.7) & (concatenate['pt'] >= 3.6)]\n",
    "bin38 = concatenate.loc[(concatenate['pt'] < 3.8) & (concatenate['pt'] >= 3.7)]\n",
    "bin39 = concatenate.loc[(concatenate['pt'] < 3.9) & (concatenate['pt'] >= 3.8)]\n",
    "bin40 = concatenate.loc[(concatenate['pt'] < 4.0) & (concatenate['pt'] >= 3.9)]\n",
    "bin36_40 = bin36.shape[0] + bin37.shape[0]+ bin38.shape[0] + bin39.shape[0]+ bin40.shape[0]\n",
    "list1.append(bin36_40)\n",
    "list2.append((sum(bin36.predict == 0) +sum(bin37.predict == 0) + sum(bin38.predict == 0) + sum(bin39.predict == 0) + sum(bin40.predict == 0))/bin36_40 ) "
   ]
  },
  {
   "cell_type": "code",
   "execution_count": 27,
   "id": "16d4e096",
   "metadata": {},
   "outputs": [],
   "source": [
    "bin41 = concatenate.loc[(concatenate['pt'] < 4.1) & (concatenate['pt'] >= 4.0)]\n",
    "bin42 = concatenate.loc[(concatenate['pt'] < 4.2) & (concatenate['pt'] >= 4.1)]\n",
    "bin43 = concatenate.loc[(concatenate['pt'] < 4.3) & (concatenate['pt'] >= 4.2)]\n",
    "bin44 = concatenate.loc[(concatenate['pt'] < 4.4) & (concatenate['pt'] >= 4.3)]\n",
    "bin45 = concatenate.loc[(concatenate['pt'] < 4.5) & (concatenate['pt'] >= 4.4)]\n",
    "bin41_45 = bin41.shape[0] + bin42.shape[0]+ bin43.shape[0] + bin44.shape[0]+ bin45.shape[0] \n",
    "list1.append(bin41_45)\n",
    "list2.append((sum(bin41.predict == 0) +sum(bin42.predict == 0) + sum(bin43.predict == 0) + sum(bin44.predict == 0) + sum(bin45.predict == 0))/bin41_45 ) "
   ]
  },
  {
   "cell_type": "code",
   "execution_count": 28,
   "id": "9ff662f6-6461-4521-a4ba-abe69e9f4e43",
   "metadata": {},
   "outputs": [],
   "source": [
    "bin46 = concatenate.loc[(concatenate['pt'] < 4.6) & (concatenate['pt'] >= 4.5)]\n",
    "bin47 = concatenate.loc[(concatenate['pt'] < 4.7) & (concatenate['pt'] >= 4.6)]\n",
    "bin48 = concatenate.loc[(concatenate['pt'] < 4.8) & (concatenate['pt'] >= 4.7)]\n",
    "bin49 = concatenate.loc[(concatenate['pt'] < 4.9) & (concatenate['pt'] >= 4.8)]\n",
    "bin50 = concatenate.loc[(concatenate['pt'] < 5.0) & (concatenate['pt'] >= 4.9)]\n",
    "bin46_50 = bin46.shape[0] + bin47.shape[0]+ bin48.shape[0] + bin49.shape[0]+ bin50.shape[0]  \n",
    "list1.append(bin46_50)\n",
    "list2.append((sum(bin46.predict == 0) +sum(bin47.predict == 0) + sum(bin48.predict == 0) + sum(bin49.predict == 0) + sum(bin50.predict == 0))/bin46_50 ) "
   ]
  },
  {
   "cell_type": "code",
   "execution_count": 29,
   "id": "53a6720b",
   "metadata": {},
   "outputs": [
    {
     "data": {
      "text/plain": [
       "26"
      ]
     },
     "execution_count": 29,
     "metadata": {},
     "output_type": "execute_result"
    }
   ],
   "source": [
    "len(list2)"
   ]
  },
  {
   "cell_type": "code",
   "execution_count": 30,
   "id": "1226dcbf-6f37-4af7-beca-083432722c90",
   "metadata": {},
   "outputs": [
    {
     "data": {
      "text/plain": [
       "array([[0.02439024, 0.21151482, 0.45764987, 0.66193004, 0.76871633,\n",
       "        0.82520325, 0.86097202, 0.88631427, 0.88607595, 0.88914156,\n",
       "        0.89541547, 0.90382903, 0.91390728, 0.90909091, 0.91147541,\n",
       "        0.92929293, 0.91176471, 0.93123209, 0.90429043, 0.89370079,\n",
       "        0.93562232, 0.92375367, 0.91666667, 0.93548387, 0.93333333,\n",
       "        0.93548387]])"
      ]
     },
     "execution_count": 30,
     "metadata": {},
     "output_type": "execute_result"
    }
   ],
   "source": [
    "y_values=np.array([list2])\n",
    "y_values"
   ]
  },
  {
   "cell_type": "code",
   "execution_count": 31,
   "id": "55987a53-1b86-4183-8d7f-7c9483602f00",
   "metadata": {},
   "outputs": [
    {
     "data": {
      "text/plain": [
       "array([[  82,   82, 6706, 6404, 5383, 4182, 3395, 2762, 2133, 1759, 1396,\n",
       "        1123,  906,  781,  610,  495,  442,  349,  303,  254,  699,  341,\n",
       "         168,   93,   45,   31]])"
      ]
     },
     "execution_count": 31,
     "metadata": {},
     "output_type": "execute_result"
    }
   ],
   "source": [
    "x_values=np.array([list1])\n",
    "x_values"
   ]
  },
  {
   "cell_type": "code",
   "execution_count": 32,
   "id": "afe981a3-1c27-4b86-9954-6bd7d8c0b11b",
   "metadata": {},
   "outputs": [
    {
     "data": {
      "text/plain": [
       "array([[0.01703489, 0.04509831, 0.0060838 , 0.00591131, 0.00574703,\n",
       "        0.00587293, 0.0059378 , 0.00603997, 0.00687936, 0.00748578,\n",
       "        0.00819037, 0.00879782, 0.00931902, 0.01028684, 0.0115011 ,\n",
       "        0.0115214 , 0.01349123, 0.01354594, 0.01690092, 0.01933946,\n",
       "        0.00928281, 0.01437177, 0.0213236 , 0.0254748 , 0.03718489,\n",
       "        0.04412365]])"
      ]
     },
     "execution_count": 32,
     "metadata": {},
     "output_type": "execute_result"
    }
   ],
   "source": [
    "first = y_values*(1-y_values)\n",
    "second = first/x_values\n",
    "errors = np.sqrt(second)\n",
    "errors"
   ]
  },
  {
   "cell_type": "code",
   "execution_count": 33,
   "id": "de22f256-41c1-4318-9faf-09219463c856",
   "metadata": {},
   "outputs": [],
   "source": [
    "np.savetxt('PositiveYValuesRebin.out',y_values, delimiter=',')\n",
    "np.savetxt('errorsPositiveRebin.out', errors, delimiter=',')"
   ]
  }
 ],
 "metadata": {
  "kernelspec": {
   "display_name": "Python 3 (ipykernel)",
   "language": "python",
   "name": "py3-preamble"
  },
  "language_info": {
   "codemirror_mode": {
    "name": "ipython",
    "version": 3
   },
   "file_extension": ".py",
   "mimetype": "text/x-python",
   "name": "python",
   "nbconvert_exporter": "python",
   "pygments_lexer": "ipython3",
   "version": "3.9.15"
  }
 },
 "nbformat": 4,
 "nbformat_minor": 5
}
