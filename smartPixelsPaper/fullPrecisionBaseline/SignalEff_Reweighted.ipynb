{
 "cells": [
  {
   "cell_type": "code",
   "execution_count": 1,
   "id": "a7d45d72-972a-4a72-9162-6944fe25f789",
   "metadata": {
    "tags": []
   },
   "outputs": [],
   "source": [
    "import matplotlib\n",
    "import matplotlib.pyplot as plt\n",
    "#from labellines import labelLine, labelLines\n",
    "import seaborn as sns\n",
    "import os\n",
    "import pandas as pd\n",
    "import glob\n",
    "import numpy as np"
   ]
  },
  {
   "cell_type": "code",
   "execution_count": 2,
   "id": "2c361028-61f5-48bb-958b-e0188a2058cf",
   "metadata": {
    "tags": []
   },
   "outputs": [
    {
     "data": {
      "text/plain": [
       "(-10.001, -2.0]    136244\n",
       "Name: pt, dtype: int64"
      ]
     },
     "execution_count": 2,
     "metadata": {},
     "output_type": "execute_result"
    }
   ],
   "source": [
    "path = '/uscms/home/jieun201/nobackup/YOURWORKINGAREA/june23_ds8_labelsOnly'\n",
    "csv_files = glob.glob(path + \"/*.csv\")\n",
    "df_labels = (pd.read_csv(file) for file in csv_files)\n",
    "big_df_labels   = pd.concat(df_labels, ignore_index=True)\n",
    "path = '/uscms/home/jieun201/nobackup/YOURWORKINGAREA/june23_ds8_negativeLabelsOnly'\n",
    "csv_files2 = glob.glob(path + \"/*.csv\")\n",
    "df_labels2 = (pd.read_csv(file) for file in csv_files2)\n",
    "big_df_labels2   = pd.concat(df_labels2, ignore_index=True)\n",
    "mergePosNeg = pd.concat([big_df_labels, big_df_labels2])\n",
    "s = pd.Series(mergePosNeg['pt'])\n",
    "BigSampleValueCountsNegative = s.value_counts(bins=[-10.0,-2.0]).sort_index()\n",
    "BigSampleValueCountsNegative"
   ]
  },
  {
   "cell_type": "code",
   "execution_count": 3,
   "id": "98545d24-b2d2-4cde-bb93-25db48c06e27",
   "metadata": {
    "tags": []
   },
   "outputs": [
    {
     "data": {
      "text/plain": [
       "(1.999, 10.0]    137965\n",
       "Name: pt, dtype: int64"
      ]
     },
     "execution_count": 3,
     "metadata": {},
     "output_type": "execute_result"
    }
   ],
   "source": [
    "BigSampleValueCountsPositive = s.value_counts(bins=[2.,10.0]).sort_index()\n",
    "BigSampleValueCountsPositive"
   ]
  },
  {
   "cell_type": "code",
   "execution_count": 4,
   "id": "da6916ab-f522-49ac-8d32-0d589025dc51",
   "metadata": {
    "tags": []
   },
   "outputs": [
    {
     "data": {
      "text/plain": [
       "137965"
      ]
     },
     "execution_count": 4,
     "metadata": {},
     "output_type": "execute_result"
    }
   ],
   "source": [
    "numberTruthSetPositive = np.sum(BigSampleValueCountsPositive)\n",
    "numberTruthSetPositive"
   ]
  },
  {
   "cell_type": "code",
   "execution_count": 5,
   "id": "ccacd1e7-9f8f-4602-9df6-d23b77a80704",
   "metadata": {
    "tags": []
   },
   "outputs": [
    {
     "data": {
      "text/plain": [
       "array([1445])"
      ]
     },
     "execution_count": 5,
     "metadata": {},
     "output_type": "execute_result"
    }
   ],
   "source": [
    "df1 = pd.read_csv('/uscms/home/jieun201/nobackup/YOURWORKINGAREA/dec6_ds8/TestSetTruePT.csv')\n",
    "df2 = pd.read_csv('/home/jieun201/redo_dec6_dec8_FP/predictionsFiles.csv')\n",
    "df3 = pd.read_csv('/home/jieun201/redo_dec6_dec8_FP/true.csv')\n",
    "df2.columns.values[0] = \"predict\"\n",
    "df3.columns.values[0] = \"true\"\n",
    "df2['predict'] = df2['predict'].astype(int)\n",
    "concatenate = pd.concat([df1,df2, df3], axis=1)\n",
    "s2 = pd.Series(concatenate['pt'])\n",
    "\n",
    "TestSetNegative = s2.value_counts(bins=[-10.0,-2.0]).sort_index()\n",
    "testSetTotalCountsNegative = np.array(TestSetNegative)\n",
    "testSetTotalCountsNegative"
   ]
  },
  {
   "cell_type": "code",
   "execution_count": 6,
   "id": "b89a2cca-d757-4f93-b6e1-68329433e199",
   "metadata": {
    "tags": []
   },
   "outputs": [
    {
     "data": {
      "text/plain": [
       "136244"
      ]
     },
     "execution_count": 6,
     "metadata": {},
     "output_type": "execute_result"
    }
   ],
   "source": [
    "numberTruthSetNegative = np.sum(BigSampleValueCountsNegative)\n",
    "numberTruthSetNegative"
   ]
  },
  {
   "cell_type": "code",
   "execution_count": 7,
   "id": "127156f2-7e98-4b2c-accd-a90ed3369444",
   "metadata": {
    "tags": []
   },
   "outputs": [
    {
     "data": {
      "text/plain": [
       "array([1377])"
      ]
     },
     "execution_count": 7,
     "metadata": {},
     "output_type": "execute_result"
    }
   ],
   "source": [
    "TestSetPositive = s2.value_counts(bins=[2.0,10.0]).sort_index()\n",
    "testSetTotalCountsPositive = np.array(TestSetPositive)\n",
    "testSetTotalCountsPositive"
   ]
  },
  {
   "cell_type": "code",
   "execution_count": 8,
   "id": "aa3a0917-9ce3-4140-b537-46121a984b09",
   "metadata": {
    "tags": []
   },
   "outputs": [
    {
     "data": {
      "text/html": [
       "<div>\n",
       "<style scoped>\n",
       "    .dataframe tbody tr th:only-of-type {\n",
       "        vertical-align: middle;\n",
       "    }\n",
       "\n",
       "    .dataframe tbody tr th {\n",
       "        vertical-align: top;\n",
       "    }\n",
       "\n",
       "    .dataframe thead th {\n",
       "        text-align: right;\n",
       "    }\n",
       "</style>\n",
       "<table border=\"1\" class=\"dataframe\">\n",
       "  <thead>\n",
       "    <tr style=\"text-align: right;\">\n",
       "      <th></th>\n",
       "      <th>pt</th>\n",
       "      <th>predict</th>\n",
       "      <th>true</th>\n",
       "    </tr>\n",
       "  </thead>\n",
       "  <tbody>\n",
       "    <tr>\n",
       "      <th>0</th>\n",
       "      <td>-2.62730</td>\n",
       "      <td>0</td>\n",
       "      <td>0</td>\n",
       "    </tr>\n",
       "    <tr>\n",
       "      <th>232</th>\n",
       "      <td>-2.11131</td>\n",
       "      <td>0</td>\n",
       "      <td>0</td>\n",
       "    </tr>\n",
       "    <tr>\n",
       "      <th>324</th>\n",
       "      <td>-3.51395</td>\n",
       "      <td>0</td>\n",
       "      <td>0</td>\n",
       "    </tr>\n",
       "    <tr>\n",
       "      <th>565</th>\n",
       "      <td>-2.09579</td>\n",
       "      <td>0</td>\n",
       "      <td>0</td>\n",
       "    </tr>\n",
       "    <tr>\n",
       "      <th>578</th>\n",
       "      <td>-3.02999</td>\n",
       "      <td>0</td>\n",
       "      <td>0</td>\n",
       "    </tr>\n",
       "    <tr>\n",
       "      <th>...</th>\n",
       "      <td>...</td>\n",
       "      <td>...</td>\n",
       "      <td>...</td>\n",
       "    </tr>\n",
       "    <tr>\n",
       "      <th>162123</th>\n",
       "      <td>-2.38779</td>\n",
       "      <td>0</td>\n",
       "      <td>0</td>\n",
       "    </tr>\n",
       "    <tr>\n",
       "      <th>162147</th>\n",
       "      <td>-2.28638</td>\n",
       "      <td>2</td>\n",
       "      <td>0</td>\n",
       "    </tr>\n",
       "    <tr>\n",
       "      <th>162620</th>\n",
       "      <td>-3.15824</td>\n",
       "      <td>0</td>\n",
       "      <td>0</td>\n",
       "    </tr>\n",
       "    <tr>\n",
       "      <th>162685</th>\n",
       "      <td>-2.24012</td>\n",
       "      <td>0</td>\n",
       "      <td>0</td>\n",
       "    </tr>\n",
       "    <tr>\n",
       "      <th>162967</th>\n",
       "      <td>-2.02770</td>\n",
       "      <td>0</td>\n",
       "      <td>0</td>\n",
       "    </tr>\n",
       "  </tbody>\n",
       "</table>\n",
       "<p>1445 rows × 3 columns</p>\n",
       "</div>"
      ],
      "text/plain": [
       "             pt  predict  true\n",
       "0      -2.62730        0     0\n",
       "232    -2.11131        0     0\n",
       "324    -3.51395        0     0\n",
       "565    -2.09579        0     0\n",
       "578    -3.02999        0     0\n",
       "...         ...      ...   ...\n",
       "162123 -2.38779        0     0\n",
       "162147 -2.28638        2     0\n",
       "162620 -3.15824        0     0\n",
       "162685 -2.24012        0     0\n",
       "162967 -2.02770        0     0\n",
       "\n",
       "[1445 rows x 3 columns]"
      ]
     },
     "execution_count": 8,
     "metadata": {},
     "output_type": "execute_result"
    }
   ],
   "source": [
    "TestSetPositiveSamples = concatenate.loc[ (concatenate['pt'] > 2)]\n",
    "TestSetPositiveSamples\n",
    "\n",
    "TestSetNegativeSamples = concatenate.loc[ (concatenate['pt'] < -2)]\n",
    "TestSetNegativeSamples"
   ]
  },
  {
   "cell_type": "code",
   "execution_count": 9,
   "id": "98d22f61-c5fe-4532-ac48-db0f915dc471",
   "metadata": {
    "tags": []
   },
   "outputs": [
    {
     "data": {
      "text/html": [
       "<div>\n",
       "<style scoped>\n",
       "    .dataframe tbody tr th:only-of-type {\n",
       "        vertical-align: middle;\n",
       "    }\n",
       "\n",
       "    .dataframe tbody tr th {\n",
       "        vertical-align: top;\n",
       "    }\n",
       "\n",
       "    .dataframe thead th {\n",
       "        text-align: right;\n",
       "    }\n",
       "</style>\n",
       "<table border=\"1\" class=\"dataframe\">\n",
       "  <thead>\n",
       "    <tr style=\"text-align: right;\">\n",
       "      <th></th>\n",
       "      <th>pt</th>\n",
       "      <th>predict</th>\n",
       "      <th>true</th>\n",
       "    </tr>\n",
       "  </thead>\n",
       "  <tbody>\n",
       "    <tr>\n",
       "      <th>0</th>\n",
       "      <td>-2.62730</td>\n",
       "      <td>0</td>\n",
       "      <td>0</td>\n",
       "    </tr>\n",
       "    <tr>\n",
       "      <th>232</th>\n",
       "      <td>-2.11131</td>\n",
       "      <td>0</td>\n",
       "      <td>0</td>\n",
       "    </tr>\n",
       "    <tr>\n",
       "      <th>324</th>\n",
       "      <td>-3.51395</td>\n",
       "      <td>0</td>\n",
       "      <td>0</td>\n",
       "    </tr>\n",
       "    <tr>\n",
       "      <th>565</th>\n",
       "      <td>-2.09579</td>\n",
       "      <td>0</td>\n",
       "      <td>0</td>\n",
       "    </tr>\n",
       "    <tr>\n",
       "      <th>578</th>\n",
       "      <td>-3.02999</td>\n",
       "      <td>0</td>\n",
       "      <td>0</td>\n",
       "    </tr>\n",
       "    <tr>\n",
       "      <th>...</th>\n",
       "      <td>...</td>\n",
       "      <td>...</td>\n",
       "      <td>...</td>\n",
       "    </tr>\n",
       "    <tr>\n",
       "      <th>161880</th>\n",
       "      <td>-2.18171</td>\n",
       "      <td>0</td>\n",
       "      <td>0</td>\n",
       "    </tr>\n",
       "    <tr>\n",
       "      <th>162123</th>\n",
       "      <td>-2.38779</td>\n",
       "      <td>0</td>\n",
       "      <td>0</td>\n",
       "    </tr>\n",
       "    <tr>\n",
       "      <th>162620</th>\n",
       "      <td>-3.15824</td>\n",
       "      <td>0</td>\n",
       "      <td>0</td>\n",
       "    </tr>\n",
       "    <tr>\n",
       "      <th>162685</th>\n",
       "      <td>-2.24012</td>\n",
       "      <td>0</td>\n",
       "      <td>0</td>\n",
       "    </tr>\n",
       "    <tr>\n",
       "      <th>162967</th>\n",
       "      <td>-2.02770</td>\n",
       "      <td>0</td>\n",
       "      <td>0</td>\n",
       "    </tr>\n",
       "  </tbody>\n",
       "</table>\n",
       "<p>1349 rows × 3 columns</p>\n",
       "</div>"
      ],
      "text/plain": [
       "             pt  predict  true\n",
       "0      -2.62730        0     0\n",
       "232    -2.11131        0     0\n",
       "324    -3.51395        0     0\n",
       "565    -2.09579        0     0\n",
       "578    -3.02999        0     0\n",
       "...         ...      ...   ...\n",
       "161880 -2.18171        0     0\n",
       "162123 -2.38779        0     0\n",
       "162620 -3.15824        0     0\n",
       "162685 -2.24012        0     0\n",
       "162967 -2.02770        0     0\n",
       "\n",
       "[1349 rows x 3 columns]"
      ]
     },
     "execution_count": 9,
     "metadata": {},
     "output_type": "execute_result"
    }
   ],
   "source": [
    "predictedCorrect_2GeV = TestSetPositiveSamples.loc[TestSetPositiveSamples['predict'] == 0]\n",
    "predictedCorrect_Neg2GeV = TestSetNegativeSamples.loc[TestSetNegativeSamples['predict'] == 0]\n",
    "predictedCorrect_Neg2GeV"
   ]
  },
  {
   "cell_type": "code",
   "execution_count": 10,
   "id": "9159c4bb-4fc8-49a7-a498-b13f2eec226d",
   "metadata": {
    "tags": []
   },
   "outputs": [],
   "source": [
    "LengthTestSetSamplesTotalPositive= np.sum(testSetTotalCountsPositive)\n",
    "LengthTestSetSamplesTotalNegative = np.sum(testSetTotalCountsNegative)"
   ]
  },
  {
   "cell_type": "code",
   "execution_count": 11,
   "id": "fce50909-7d2c-43f4-984c-96af55dd1843",
   "metadata": {
    "tags": []
   },
   "outputs": [
    {
     "data": {
      "text/plain": [
       "98.94262890341322"
      ]
     },
     "execution_count": 11,
     "metadata": {},
     "output_type": "execute_result"
    }
   ],
   "source": [
    "Ratio1 = numberTruthSetNegative/LengthTestSetSamplesTotalPositive\n",
    "Ratio2 = numberTruthSetPositive/LengthTestSetSamplesTotalNegative\n",
    "Ratio1"
   ]
  },
  {
   "cell_type": "code",
   "execution_count": 12,
   "id": "bb39a10e-f898-4a4a-a836-7215b1223f30",
   "metadata": {
    "tags": []
   },
   "outputs": [
    {
     "data": {
      "text/plain": [
       "1281"
      ]
     },
     "execution_count": 12,
     "metadata": {},
     "output_type": "execute_result"
    }
   ],
   "source": [
    "numberPredictedCorrectNegativeSide = predictedCorrect_Neg2GeV.shape[0]\n",
    "numberPredictedCorrectNegativeSide\n",
    "\n",
    "numberPredictedCorrectPositiveSide = predictedCorrect_2GeV.shape[0]\n",
    "numberPredictedCorrectPositiveSide"
   ]
  },
  {
   "cell_type": "code",
   "execution_count": 13,
   "id": "fdfdc835-2716-4cfb-b7e5-3b897352a943",
   "metadata": {
    "tags": []
   },
   "outputs": [
    {
     "data": {
      "text/plain": [
       "255780.2949720193"
      ]
     },
     "execution_count": 13,
     "metadata": {},
     "output_type": "execute_result"
    }
   ],
   "source": [
    "Sum = (numberPredictedCorrectNegativeSide*Ratio1) + (numberPredictedCorrectPositiveSide*Ratio2)\n",
    "Sum"
   ]
  },
  {
   "cell_type": "code",
   "execution_count": 14,
   "id": "3f046ab1-0efc-4e39-a63d-f4657c7f4672",
   "metadata": {
    "tags": []
   },
   "outputs": [
    {
     "data": {
      "text/plain": [
       "274209"
      ]
     },
     "execution_count": 14,
     "metadata": {},
     "output_type": "execute_result"
    }
   ],
   "source": [
    "TotalEventsTruthSet = numberTruthSetNegative+numberTruthSetPositive\n",
    "TotalEventsTruthSet "
   ]
  },
  {
   "cell_type": "code",
   "execution_count": 15,
   "id": "83fed628-5fce-47f9-8118-a12dde3758ee",
   "metadata": {
    "tags": []
   },
   "outputs": [
    {
     "data": {
      "text/plain": [
       "0.9327932160214264"
      ]
     },
     "execution_count": 15,
     "metadata": {},
     "output_type": "execute_result"
    }
   ],
   "source": [
    "Efficiency = Sum/TotalEventsTruthSet \n",
    "Efficiency"
   ]
  }
 ],
 "metadata": {
  "kernelspec": {
   "display_name": "Python 3 (ipykernel)",
   "language": "python",
   "name": "py3-preamble"
  },
  "language_info": {
   "codemirror_mode": {
    "name": "ipython",
    "version": 3
   },
   "file_extension": ".py",
   "mimetype": "text/x-python",
   "name": "python",
   "nbconvert_exporter": "python",
   "pygments_lexer": "ipython3",
   "version": "3.9.15"
  }
 },
 "nbformat": 4,
 "nbformat_minor": 5
}
