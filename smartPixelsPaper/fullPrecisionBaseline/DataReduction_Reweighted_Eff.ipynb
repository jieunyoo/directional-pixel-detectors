{
 "cells": [
  {
   "cell_type": "code",
   "execution_count": 1,
   "id": "6680cbec-9c42-4716-ba8f-a8ef2031438d",
   "metadata": {},
   "outputs": [],
   "source": [
    "import matplotlib\n",
    "import matplotlib.pyplot as plt\n",
    "import os\n",
    "import pandas as pd\n",
    "import glob\n",
    "import numpy as np"
   ]
  },
  {
   "cell_type": "code",
   "execution_count": 2,
   "id": "f0b0240c-f48b-4edb-8d70-3e2e34e106a7",
   "metadata": {},
   "outputs": [],
   "source": [
    "path = '/uscms/home/jieun201/nobackup/YOURWORKINGAREA/june23_ds8_labelsOnly'\n",
    "csv_files = glob.glob(path + \"/*.csv\")\n",
    "df_labels = (pd.read_csv(file) for file in csv_files)\n",
    "big_df_labels   = pd.concat(df_labels, ignore_index=True)"
   ]
  },
  {
   "cell_type": "code",
   "execution_count": 3,
   "id": "deac7d64-98d0-47a6-a194-7d671f059993",
   "metadata": {},
   "outputs": [],
   "source": [
    "#big_df_labels"
   ]
  },
  {
   "cell_type": "code",
   "execution_count": 4,
   "id": "32d997fe-6048-4161-8bbd-eee1b50986eb",
   "metadata": {},
   "outputs": [],
   "source": [
    "df1 = pd.read_csv('/uscms/home/jieun201/nobackup/YOURWORKINGAREA/dec6_ds8/TestSetTruePT.csv')\n",
    "df2 = pd.read_csv('/home/jieun201/redo_dec6_dec8_FP/predictionsFiles.csv')\n",
    "df3 = pd.read_csv('/home/jieun201/redo_dec6_dec8_FP/true.csv')\n",
    "df2.columns.values[0] = \"predict\"\n",
    "df3.columns.values[0] = \"true\"\n",
    "df2['predict'] = df2['predict'].astype(int)\n",
    "concatenate = pd.concat([df1,df2, df3], axis=1)\n",
    "concatenate\n",
    "concatenatePos = concatenate[concatenate['pt']>0]"
   ]
  },
  {
   "cell_type": "code",
   "execution_count": 5,
   "id": "8eb5eeb6-0731-4a7a-9e49-dfd1143009fc",
   "metadata": {},
   "outputs": [
    {
     "data": {
      "text/plain": [
       "array([ 2724, 18742, 20584,  4038,  5334,  4658,  5753,  4997,  4531,\n",
       "        3662,  2667,  1742,  1048,   594,   285,   126,    35])"
      ]
     },
     "execution_count": 5,
     "metadata": {},
     "output_type": "execute_result"
    }
   ],
   "source": [
    "s2 = pd.Series(df1['pt'])\n",
    "BigSampleValueCounts2 = s2.value_counts(bins=[0,0.14,0.18,0.22,0.28,0.36,0.44,0.56,0.70,0.88,1.11,1.40,1.76,2.19,2.80,3.52,4.43,10]).sort_index()\n",
    "testSetTotalCounts = np.array(BigSampleValueCounts2)\n",
    "testSetTotalCounts\n"
   ]
  },
  {
   "cell_type": "code",
   "execution_count": 6,
   "id": "f563ac3a-9639-4412-b005-d18fae07d2fe",
   "metadata": {},
   "outputs": [
    {
     "data": {
      "text/html": [
       "<div>\n",
       "<style scoped>\n",
       "    .dataframe tbody tr th:only-of-type {\n",
       "        vertical-align: middle;\n",
       "    }\n",
       "\n",
       "    .dataframe tbody tr th {\n",
       "        vertical-align: top;\n",
       "    }\n",
       "\n",
       "    .dataframe thead th {\n",
       "        text-align: right;\n",
       "    }\n",
       "</style>\n",
       "<table border=\"1\" class=\"dataframe\">\n",
       "  <thead>\n",
       "    <tr style=\"text-align: right;\">\n",
       "      <th></th>\n",
       "      <th>pt</th>\n",
       "      <th>predict</th>\n",
       "      <th>true</th>\n",
       "    </tr>\n",
       "  </thead>\n",
       "  <tbody>\n",
       "    <tr>\n",
       "      <th>1</th>\n",
       "      <td>0.195180</td>\n",
       "      <td>2</td>\n",
       "      <td>2</td>\n",
       "    </tr>\n",
       "    <tr>\n",
       "      <th>2</th>\n",
       "      <td>1.338710</td>\n",
       "      <td>2</td>\n",
       "      <td>0</td>\n",
       "    </tr>\n",
       "    <tr>\n",
       "      <th>3</th>\n",
       "      <td>0.180981</td>\n",
       "      <td>2</td>\n",
       "      <td>2</td>\n",
       "    </tr>\n",
       "    <tr>\n",
       "      <th>5</th>\n",
       "      <td>0.283597</td>\n",
       "      <td>2</td>\n",
       "      <td>0</td>\n",
       "    </tr>\n",
       "    <tr>\n",
       "      <th>7</th>\n",
       "      <td>0.293011</td>\n",
       "      <td>2</td>\n",
       "      <td>0</td>\n",
       "    </tr>\n",
       "    <tr>\n",
       "      <th>...</th>\n",
       "      <td>...</td>\n",
       "      <td>...</td>\n",
       "      <td>...</td>\n",
       "    </tr>\n",
       "    <tr>\n",
       "      <th>163021</th>\n",
       "      <td>0.186738</td>\n",
       "      <td>2</td>\n",
       "      <td>2</td>\n",
       "    </tr>\n",
       "    <tr>\n",
       "      <th>163022</th>\n",
       "      <td>0.186347</td>\n",
       "      <td>2</td>\n",
       "      <td>2</td>\n",
       "    </tr>\n",
       "    <tr>\n",
       "      <th>163027</th>\n",
       "      <td>0.199958</td>\n",
       "      <td>2</td>\n",
       "      <td>2</td>\n",
       "    </tr>\n",
       "    <tr>\n",
       "      <th>163035</th>\n",
       "      <td>0.395177</td>\n",
       "      <td>2</td>\n",
       "      <td>0</td>\n",
       "    </tr>\n",
       "    <tr>\n",
       "      <th>163039</th>\n",
       "      <td>0.124187</td>\n",
       "      <td>2</td>\n",
       "      <td>2</td>\n",
       "    </tr>\n",
       "  </tbody>\n",
       "</table>\n",
       "<p>41863 rows × 3 columns</p>\n",
       "</div>"
      ],
      "text/plain": [
       "              pt  predict  true\n",
       "1       0.195180        2     2\n",
       "2       1.338710        2     0\n",
       "3       0.180981        2     2\n",
       "5       0.283597        2     0\n",
       "7       0.293011        2     0\n",
       "...          ...      ...   ...\n",
       "163021  0.186738        2     2\n",
       "163022  0.186347        2     2\n",
       "163027  0.199958        2     2\n",
       "163035  0.395177        2     0\n",
       "163039  0.124187        2     2\n",
       "\n",
       "[41863 rows x 3 columns]"
      ]
     },
     "execution_count": 6,
     "metadata": {},
     "output_type": "execute_result"
    }
   ],
   "source": [
    "concatPosPredictRight1 = concatenatePos[(concatenatePos['predict'] ==1) | (concatenatePos['predict'] ==2)]\n",
    "concatPosPredictRight1"
   ]
  },
  {
   "cell_type": "code",
   "execution_count": 7,
   "id": "d493a306-a02a-4a73-96c5-613929b2832f",
   "metadata": {
    "tags": []
   },
   "outputs": [
    {
     "data": {
      "text/plain": [
       "<Axes: >"
      ]
     },
     "execution_count": 7,
     "metadata": {},
     "output_type": "execute_result"
    },
    {
     "data": {
      "image/png": "[encoded data removed]",
      "text/plain": [
       "<Figure size 640x480 with 1 Axes>"
      ]
     },
     "metadata": {},
     "output_type": "display_data"
    }
   ],
   "source": [
    "concatPosPredictRight1['pt'].hist()"
   ]
  },
  {
   "cell_type": "code",
   "execution_count": 8,
   "id": "47f9b63a-8ef2-4027-958b-69c01d35f8d8",
   "metadata": {},
   "outputs": [
    {
     "data": {
      "text/plain": [
       "array([ 2550, 15472, 14985,  2189,  2046,  1259,  1187,   716,   515,\n",
       "         392,   248,   139,    92,    37,    26,     8,     2])"
      ]
     },
     "execution_count": 8,
     "metadata": {},
     "output_type": "execute_result"
    }
   ],
   "source": [
    "s3 = pd.Series(concatPosPredictRight1['pt'])\n",
    "BigSampleValueCounts3 = s3.value_counts(bins=[0,0.14,0.18,0.22,0.28,0.36,0.44,0.56,0.70,0.88,1.11,1.40,1.76,2.19,2.80,3.52,4.43,10]).sort_index()\n",
    "testSetAs12 = np.array(BigSampleValueCounts3)\n",
    "testSetAs12"
   ]
  },
  {
   "cell_type": "code",
   "execution_count": 9,
   "id": "39cc70a0-7442-433b-bbb7-a0194abfeaae",
   "metadata": {
    "tags": []
   },
   "outputs": [
    {
     "data": {
      "text/plain": [
       "array([14.28571429,  5.        ,  2.77777778,  2.17391304,  1.69491525,\n",
       "        1.42857143,  1.26582278,  1.19047619,  1.14942529,  1.12359551,\n",
       "        1.11111111,  1.11111111,  1.0989011 ,  1.0989011 ,  1.08695652,\n",
       "        1.08695652,  1.08695652])"
      ]
     },
     "execution_count": 9,
     "metadata": {},
     "output_type": "execute_result"
    }
   ],
   "source": [
    "#new Ratio based on efficiency\n",
    "array1 = np.array([0.07,0.20,0.36,0.46,0.59,0.70,0.79,0.84,0.87,0.89,0.90,0.90,0.91,0.91,0.92,0.92,0.92])\n",
    "array2 = 1/array1\n",
    "array2"
   ]
  },
  {
   "cell_type": "code",
   "execution_count": 10,
   "id": "854b67cf-cd07-4f96-87d8-15a72609d365",
   "metadata": {},
   "outputs": [
    {
     "data": {
      "text/plain": [
       "169436.83985516845"
      ]
     },
     "execution_count": 10,
     "metadata": {},
     "output_type": "execute_result"
    }
   ],
   "source": [
    "Sum = np.dot(testSetAs12,array2)\n",
    "Sum"
   ]
  },
  {
   "cell_type": "code",
   "execution_count": 11,
   "id": "442313ab-2342-4a0a-898d-bedb19f8ff8c",
   "metadata": {
    "tags": []
   },
   "outputs": [
    {
     "data": {
      "text/plain": [
       "244017.09586740297"
      ]
     },
     "execution_count": 11,
     "metadata": {},
     "output_type": "execute_result"
    }
   ],
   "source": [
    "estimateHowManyTruth = np.dot(testSetTotalCounts,array2)\n",
    "estimateHowManyTruth"
   ]
  },
  {
   "cell_type": "code",
   "execution_count": 12,
   "id": "1bd7a5f6-e91f-4f9f-bf2e-bae302256617",
   "metadata": {},
   "outputs": [
    {
     "data": {
      "text/plain": [
       "0.6943646274162657"
      ]
     },
     "execution_count": 12,
     "metadata": {},
     "output_type": "execute_result"
    }
   ],
   "source": [
    "Eff = Sum/estimateHowManyTruth\n",
    "Eff"
   ]
  }
 ],
 "metadata": {
  "kernelspec": {
   "display_name": "Python 3 (ipykernel)",
   "language": "python",
   "name": "py3-preamble"
  },
  "language_info": {
   "codemirror_mode": {
    "name": "ipython",
    "version": 3
   },
   "file_extension": ".py",
   "mimetype": "text/x-python",
   "name": "python",
   "nbconvert_exporter": "python",
   "pygments_lexer": "ipython3",
   "version": "3.9.15"
  }
 },
 "nbformat": 4,
 "nbformat_minor": 5
}
