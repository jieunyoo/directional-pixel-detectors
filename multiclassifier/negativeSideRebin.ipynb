{
 "cells": [
  {
   "cell_type": "code",
   "execution_count": 1,
   "id": "bdb78c8b",
   "metadata": {},
   "outputs": [],
   "source": [
    "import matplotlib.pyplot as plt\n",
    "import numpy as np\n",
    "import pandas as pd\n",
    "from pandas import read_csv\n",
    "import math\n",
    "import seaborn as sns"
   ]
  },
  {
   "cell_type": "code",
   "execution_count": 2,
   "id": "f3ae0760",
   "metadata": {},
   "outputs": [],
   "source": [
    "#df1 is the trueTestPT - this is the true PT (it's a floating point number) from the dataset\n",
    "df1 = pd.read_csv('/home/jieun201/aug20_make3Classes_dataset/trainTestSamples/test/trueTestPT.csv')\n",
    "#df2 is the PT label (e.g., for multiclassifier 0,1,2) that is predicted \n",
    "df2 = pd.read_csv('predictionsFiles.csv')\n",
    "#df3 is the PT label (e.g., for multiclassifier 0,1,2) that is true \n",
    "df3 = pd.read_csv('aug22true.csv')\n",
    "df2.columns.values[0] = \"predict\"\n",
    "df3.columns.values[0] = \"true\"\n",
    "df2['predict'] = df2['predict'].astype(int)"
   ]
  },
  {
   "cell_type": "code",
   "execution_count": 3,
   "id": "1db413fb",
   "metadata": {},
   "outputs": [],
   "source": [
    "concatenate = pd.concat([df1,df2, df3], axis=1)"
   ]
  },
  {
   "cell_type": "code",
   "execution_count": 4,
   "id": "e69f0330",
   "metadata": {},
   "outputs": [],
   "source": [
    "list1 = [] #this holds the number of entries in each bin\n",
    "list2 = [] #this holds the value, here counts how many entries are predicted as \"0\""
   ]
  },
  {
   "cell_type": "code",
   "execution_count": 5,
   "id": "5c31c469-a428-479f-bca6-85d3619a4c04",
   "metadata": {},
   "outputs": [],
   "source": [
    "binValidate1 = concatenate.loc[(concatenate['pt'] > -0.1) & (concatenate['pt'] <= 0.0)]\n",
    "list1.append(binValidate1.shape[0])\n",
    "list2.append( sum((binValidate1.predict == 0))/(binValidate1.shape[0]) )\n",
    "\n",
    "binValidate2 = concatenate.loc[(concatenate['pt'] > -0.2) & (concatenate['pt'] <= -0.1)]\n",
    "list1.append(binValidate1.shape[0])\n",
    "list2.append( sum((binValidate2.predict == 0))/(binValidate2.shape[0]) )\n",
    "\n",
    "binValidate3 = concatenate.loc[(concatenate['pt'] >-0.3) & (concatenate['pt'] <= -0.2)]\n",
    "list1.append( binValidate3.shape[0])\n",
    "list2.append( sum((binValidate3.predict == 0))/(binValidate3.shape[0]) )"
   ]
  },
  {
   "cell_type": "code",
   "execution_count": 6,
   "id": "c988ddd2-4f0d-4580-be48-01d8b9a11db7",
   "metadata": {},
   "outputs": [],
   "source": [
    "bin4 = concatenate.loc[  ((concatenate['pt'] > -0.4) & (concatenate['pt'] <= -0.3)  )       ]\n",
    "list1.append(bin4.shape[0])\n",
    "list2.append( sum((bin4.predict == 0))/(bin4.shape[0]))"
   ]
  },
  {
   "cell_type": "code",
   "execution_count": 7,
   "id": "588d3559",
   "metadata": {},
   "outputs": [],
   "source": [
    "bin5 = concatenate.loc[  ((concatenate['pt'] > -0.5) & (concatenate['pt'] <= -0.4)  )] \n",
    "list1.append(bin5.shape[0])\n",
    "list2.append( sum((bin5.predict == 0))/(bin5.shape[0]))"
   ]
  },
  {
   "cell_type": "code",
   "execution_count": 8,
   "id": "e02d5ad2",
   "metadata": {},
   "outputs": [],
   "source": [
    "bin6 = concatenate.loc[ ( (concatenate['pt'] > -0.6) & (concatenate['pt'] <= -0.5)   )]\n",
    "#bin6 = concatenate.loc[(concatenate['pt'] < 0.6) & (concatenate['pt'] >= 0.5)]\n",
    "list1.append(bin6.shape[0])\n",
    "list2.append( sum((bin6.predict == 0))/(bin6.shape[0]) )"
   ]
  },
  {
   "cell_type": "code",
   "execution_count": 9,
   "id": "c4bd0f56",
   "metadata": {},
   "outputs": [],
   "source": [
    "bin7 = concatenate.loc[  ( (concatenate['pt'] > -0.7) & (concatenate['pt'] <= -0.6)   )] \n",
    "#bin7 = concatenate.loc[(concatenate['pt'] < 0.7) & (concatenate['pt'] >= 0.6)]\n",
    "list1.append(bin7.shape[0])\n",
    "list2.append( sum((bin7.predict == 0))/(bin7.shape[0]) )"
   ]
  },
  {
   "cell_type": "code",
   "execution_count": 10,
   "id": "aa019235",
   "metadata": {},
   "outputs": [],
   "source": [
    "bin8 = concatenate.loc[  ( (concatenate['pt'] > -0.8) & (concatenate['pt'] <= -0.7)    )]\n",
    "#bin8 = concatenate.loc[(concatenate['pt'] < 0.8) & (concatenate['pt'] >= 0.7)]\n",
    "list1.append(bin8.shape[0])\n",
    "list2.append( sum((bin8.predict == 0))/(bin8.shape[0]) )"
   ]
  },
  {
   "cell_type": "code",
   "execution_count": 11,
   "id": "b4aadb30",
   "metadata": {},
   "outputs": [],
   "source": [
    "bin9 = concatenate.loc[  ( (concatenate['pt'] > -0.9) & (concatenate['pt'] <= -0.8)   )] \n",
    "#bin9 = concatenate.loc[(concatenate['pt'] < 0.9) & (concatenate['pt'] >= 0.8)]\n",
    "list1.append(bin9.shape[0])\n",
    "list2.append( sum((bin9.predict == 0))/(bin9.shape[0]) )"
   ]
  },
  {
   "cell_type": "code",
   "execution_count": 12,
   "id": "4cd51008",
   "metadata": {},
   "outputs": [],
   "source": [
    "bin10 = concatenate.loc[  ( (concatenate['pt'] > -1.0) & (concatenate['pt'] <= -0.9)    )]\n",
    "#bin10 = concatenate.loc[(concatenate['pt'] < 1.0) & (concatenate['pt'] >= 0.9)]\n",
    "list1.append(bin10.shape[0])\n",
    "list2.append( sum((bin10.predict == 0))/(bin10.shape[0]) )"
   ]
  },
  {
   "cell_type": "code",
   "execution_count": 13,
   "id": "a4100412",
   "metadata": {},
   "outputs": [],
   "source": [
    "bin11 = concatenate.loc[  ( (concatenate['pt'] > -1.1) & (concatenate['pt'] <= -1.0)    )]\n",
    "#bin11 = concatenate.loc[(concatenate['pt'] < 1.1) & (concatenate['pt'] >= 1.0)]\n",
    "list1.append(bin11.shape[0])\n",
    "list2.append( sum((bin11.predict == 0))/(bin11.shape[0]) )"
   ]
  },
  {
   "cell_type": "code",
   "execution_count": 14,
   "id": "0aa13844",
   "metadata": {},
   "outputs": [],
   "source": [
    "bin12 = concatenate.loc[  ( (concatenate['pt'] > -1.2) & (concatenate['pt'] <= -1.1)    )]\n",
    "#bin12 = concatenate.loc[(concatenate['pt'] < 1.2) & (concatenate['pt'] >= 1.1)]\n",
    "list1.append(bin12.shape[0])\n",
    "list2.append( sum((bin12.predict == 0))/(bin12.shape[0]) )"
   ]
  },
  {
   "cell_type": "code",
   "execution_count": 15,
   "id": "d19d024a",
   "metadata": {},
   "outputs": [],
   "source": [
    "bin13 = concatenate.loc[  ( (concatenate['pt'] > -1.3) & (concatenate['pt'] <= -1.2)    )]\n",
    "#bin13 = concatenate.loc[(concatenate['pt'] < 1.3) & (concatenate['pt'] >= 1.2)]\n",
    "list1.append(bin13.shape[0])\n",
    "list2.append( sum((bin13.predict == 0))/(bin13.shape[0]) )"
   ]
  },
  {
   "cell_type": "code",
   "execution_count": 16,
   "id": "486ddfc8",
   "metadata": {},
   "outputs": [],
   "source": [
    "bin14 = concatenate.loc[  ( (concatenate['pt'] > -1.4) & (concatenate['pt'] <= -1.3)    )]\n",
    "#bin14 = concatenate.loc[(concatenate['pt'] < 1.4) & (concatenate['pt'] >= 1.3)]\n",
    "list1.append(bin14.shape[0])\n",
    "list2.append( sum((bin14.predict == 0))/(bin14.shape[0]) )"
   ]
  },
  {
   "cell_type": "code",
   "execution_count": 17,
   "id": "54acccab",
   "metadata": {},
   "outputs": [],
   "source": [
    "bin15 = concatenate.loc[ ( (concatenate['pt'] > -1.5) & (concatenate['pt'] <= -1.4)   )] \n",
    "#bin15 = concatenate.loc[(concatenate['pt'] < 1.5) & (concatenate['pt'] >= 1.4)]\n",
    "list1.append(bin15.shape[0])\n",
    "list2.append( sum((bin15.predict == 0))/(bin15.shape[0]) )"
   ]
  },
  {
   "cell_type": "code",
   "execution_count": 18,
   "id": "848dddd1",
   "metadata": {},
   "outputs": [],
   "source": [
    "bin16 = concatenate.loc[  ( (concatenate['pt'] > -1.6) & (concatenate['pt'] <= -1.5)   )] \n",
    "#bin16 = concatenate.loc[(concatenate['pt'] < 1.6) & (concatenate['pt'] >= 1.5)]\n",
    "list1.append(bin16.shape[0])\n",
    "list2.append( sum((bin16.predict == 0))/(bin16.shape[0]) )"
   ]
  },
  {
   "cell_type": "code",
   "execution_count": 19,
   "id": "7cbdca93",
   "metadata": {},
   "outputs": [],
   "source": [
    "bin17 = concatenate.loc[  ( (concatenate['pt'] > -1.7) & (concatenate['pt'] <= -1.6)    )]\n",
    "#bin17 = concatenate.loc[(concatenate['pt'] < 1.7) & (concatenate['pt'] >= 1.6)]\n",
    "list1.append(bin17.shape[0])\n",
    "list2.append( sum((bin17.predict == 0))/(bin17.shape[0]) )"
   ]
  },
  {
   "cell_type": "code",
   "execution_count": 20,
   "id": "9e938f8d",
   "metadata": {},
   "outputs": [],
   "source": [
    "bin18 = concatenate.loc[  ( (concatenate['pt'] > -1.8) & (concatenate['pt'] <= -1.7)    )]\n",
    "#bin18 = concatenate.loc[(concatenate['pt'] < 1.8) & (concatenate['pt'] >= 1.7)]\n",
    "list1.append(bin18.shape[0])\n",
    "list2.append( sum((bin18.predict == 0))/(bin18.shape[0]) )"
   ]
  },
  {
   "cell_type": "code",
   "execution_count": 21,
   "id": "5a38e2e2",
   "metadata": {},
   "outputs": [],
   "source": [
    "bin19 = concatenate.loc[ ( (concatenate['pt'] > -1.9) & (concatenate['pt'] <= -1.8)   )] \n",
    "#bin19 = concatenate.loc[(concatenate['pt'] < 1.9) & (concatenate['pt'] >= 1.8)]\n",
    "list1.append(bin19.shape[0])\n",
    "list2.append( sum((bin19.predict == 0))/(bin19.shape[0]) )"
   ]
  },
  {
   "cell_type": "code",
   "execution_count": 22,
   "id": "616b9d08",
   "metadata": {},
   "outputs": [],
   "source": [
    "bin20 = concatenate.loc[ ( (concatenate['pt'] > -2.0) & (concatenate['pt'] <= -1.9)    )]\n",
    "#bin20 = concatenate.loc[(concatenate['pt'] < 2.0) & (concatenate['pt'] >= 1.9)]\n",
    "list1.append(bin20.shape[0])\n",
    "list2.append( sum((bin20.predict == 0))/(bin20.shape[0]) )"
   ]
  },
  {
   "cell_type": "code",
   "execution_count": 23,
   "id": "3c5b4fe4",
   "metadata": {},
   "outputs": [],
   "source": [
    "bin21 = concatenate.loc[  ( (concatenate['pt'] > -2.1) & (concatenate['pt'] <= -2.0)    )]\n",
    "#bin21 = concatenate.loc[(concatenate['pt'] < 2.1) & (concatenate['pt'] >= 2.0)]\n",
    "list1.append(bin21.shape[0])\n",
    "list2.append( sum((bin21.predict == 0))/(bin21.shape[0]) )"
   ]
  },
  {
   "cell_type": "code",
   "execution_count": 24,
   "id": "6adff419",
   "metadata": {},
   "outputs": [],
   "source": [
    "bin22 = concatenate.loc[  ( (concatenate['pt'] > -2.2) & (concatenate['pt'] <= -2.1)    )]\n",
    "#bin22 = concatenate.loc[(concatenate['pt'] < 2.2) & (concatenate['pt'] >= 2.1)]\n",
    "list1.append(bin22.shape[0])\n",
    "list2.append( sum((bin22.predict == 0))/(bin22.shape[0]) )"
   ]
  },
  {
   "cell_type": "code",
   "execution_count": 25,
   "id": "a33abf95",
   "metadata": {},
   "outputs": [],
   "source": [
    "bin23 = concatenate.loc[  ( (concatenate['pt'] > -2.3) & (concatenate['pt'] <= -2.2)    )]\n",
    "#bin23 = concatenate.loc[(concatenate['pt'] < 2.3) & (concatenate['pt'] >= 2.2)]\n",
    "list1.append(bin23.shape[0])\n",
    "list2.append( sum((bin23.predict == 0))/(bin23.shape[0]) )"
   ]
  },
  {
   "cell_type": "code",
   "execution_count": 26,
   "id": "a97f0784",
   "metadata": {},
   "outputs": [],
   "source": [
    "bin24 = concatenate.loc[ ( (concatenate['pt'] > -2.4) & (concatenate['pt'] <= -2.3)    )]\n",
    "#bin24 = concatenate.loc[(concatenate['pt'] < 2.4) & (concatenate['pt'] >= 2.3)]\n",
    "list1.append(bin24.shape[0])\n",
    "list2.append( sum((bin24.predict == 0))/(bin24.shape[0]) )"
   ]
  },
  {
   "cell_type": "code",
   "execution_count": 27,
   "id": "75638980",
   "metadata": {},
   "outputs": [],
   "source": [
    "bin25 = concatenate.loc[  ( (concatenate['pt'] > -2.5) & (concatenate['pt'] <= -2.4)    )]\n",
    "#bin25 = concatenate.loc[(concatenate['pt'] < 2.5) & (concatenate['pt'] >= 2.4)]\n",
    "list1.append(bin25.shape[0])\n",
    "list2.append( sum((bin25.predict == 0))/(bin25.shape[0]) )"
   ]
  },
  {
   "cell_type": "code",
   "execution_count": 28,
   "id": "c484f364",
   "metadata": {},
   "outputs": [],
   "source": [
    "bin26 = concatenate.loc[  ( (concatenate['pt'] > -2.6) & (concatenate['pt'] <= -2.5)    )]\n",
    "#bin26 = concatenate.loc[(concatenate['pt'] < 2.6) & (concatenate['pt'] >= 2.5)]\n",
    "list1.append(bin26.shape[0])\n",
    "list2.append( sum((bin26.predict == 0))/(bin26.shape[0]) )"
   ]
  },
  {
   "cell_type": "code",
   "execution_count": 29,
   "id": "1e624d6c",
   "metadata": {},
   "outputs": [],
   "source": [
    "bin27 = concatenate.loc[  ( (concatenate['pt'] > -2.7) & (concatenate['pt'] <= -2.6)    )]\n",
    "#bin27 = concatenate.loc[(concatenate['pt'] < 2.7) & (concatenate['pt'] >= 2.6)]\n",
    "list1.append(bin27.shape[0])\n",
    "list2.append( sum((bin27.predict == 0))/(bin27.shape[0]) )"
   ]
  },
  {
   "cell_type": "code",
   "execution_count": 30,
   "id": "c4336d6c",
   "metadata": {},
   "outputs": [],
   "source": [
    "bin28 = concatenate.loc[  ( (concatenate['pt'] > -2.8) & (concatenate['pt'] <= -2.7)    )]\n",
    "#bin28 = concatenate.loc[(concatenate['pt'] < 2.8) & (concatenate['pt'] >= 2.7)]\n",
    "list1.append(bin28.shape[0])\n",
    "list2.append( sum((bin28.predict == 0))/(bin28.shape[0]) )"
   ]
  },
  {
   "cell_type": "code",
   "execution_count": 31,
   "id": "1f97abf0",
   "metadata": {},
   "outputs": [],
   "source": [
    "bin29 = concatenate.loc[   ( (concatenate['pt'] > -2.9) & (concatenate['pt'] <= -2.8)    )]\n",
    "#bin29 = concatenate.loc[(concatenate['pt'] < 2.9) & (concatenate['pt'] >= 2.8)]\n",
    "list1.append(bin29.shape[0])\n",
    "list2.append( sum((bin29.predict == 0))/(bin29.shape[0]) )"
   ]
  },
  {
   "cell_type": "code",
   "execution_count": 32,
   "id": "9ff6155b",
   "metadata": {},
   "outputs": [],
   "source": [
    "bin30 = concatenate.loc[  ( (concatenate['pt'] > -3.0) & (concatenate['pt'] <= -2.9)    )]\n",
    "#bin30 = concatenate.loc[(concatenate['pt'] < 3.0) & (concatenate['pt'] >= 2.9)]\n",
    "list1.append(bin30.shape[0])\n",
    "list2.append( sum((bin30.predict == 0))/(bin30.shape[0]) )"
   ]
  },
  {
   "cell_type": "code",
   "execution_count": 33,
   "id": "681ff24e",
   "metadata": {},
   "outputs": [],
   "source": [
    "bin31 = concatenate.loc[  ( (concatenate['pt'] > -3.1) & (concatenate['pt'] <= -3.0)    )]\n",
    "bin32 = concatenate.loc[  ( (concatenate['pt'] > -3.2) & (concatenate['pt'] <= -3.1)    )]\n",
    "bin33 = concatenate.loc[   ( (concatenate['pt'] > -3.3) & (concatenate['pt'] <= -3.2)    )]\n",
    "bin34 = concatenate.loc[  ( (concatenate['pt'] > -3.4) & (concatenate['pt'] <= -3.3)    )]\n",
    "bin35 = concatenate.loc[  ( (concatenate['pt'] > -3.5) & (concatenate['pt'] <= -3.4)    )]\n",
    "bin31_35 = bin31.shape[0] + bin32.shape[0]+ bin33.shape[0] + bin34.shape[0]+ bin35.shape[0]\n",
    "list1.append(bin31_35)\n",
    "list2.append((sum(bin31.predict == 0) +sum(bin32.predict == 0) + sum(bin33.predict == 0) + sum(bin34.predict == 0) + sum(bin35.predict == 0))/bin31_35 ) "
   ]
  },
  {
   "cell_type": "code",
   "execution_count": 34,
   "id": "41cfbc82",
   "metadata": {},
   "outputs": [],
   "source": [
    "bin36 = concatenate.loc[  ( (concatenate['pt'] > -3.6) & (concatenate['pt'] <= -3.5)    )]\n",
    "bin37 = concatenate.loc[  ( (concatenate['pt'] > -3.7) & (concatenate['pt'] <= -3.6)    )]\n",
    "bin38 = concatenate.loc[ ( (concatenate['pt'] > -3.8) & (concatenate['pt'] <= -3.7)    )]\n",
    "bin39 = concatenate.loc[   ( (concatenate['pt'] > -3.9) & (concatenate['pt'] <= -3.8)    )]\n",
    "bin40 = concatenate.loc[ ( (concatenate['pt'] > -4.0) & (concatenate['pt'] <= -3.9)    )]\n",
    "bin36_40 = bin36.shape[0] + bin37.shape[0]+ bin38.shape[0] + bin39.shape[0]+ bin40.shape[0]\n",
    "list1.append(bin36_40)\n",
    "list2.append((sum(bin36.predict == 0) +sum(bin37.predict == 0) + sum(bin38.predict == 0) + sum(bin39.predict == 0) + sum(bin40.predict == 0))/bin36_40 ) "
   ]
  },
  {
   "cell_type": "code",
   "execution_count": 35,
   "id": "fa2258a9",
   "metadata": {},
   "outputs": [],
   "source": [
    "bin41 = concatenate.loc[  ( (concatenate['pt'] > -4.1) & (concatenate['pt'] <= -4.0)    )]\n",
    "bin42 = concatenate.loc[   ( (concatenate['pt'] > -4.2) & (concatenate['pt'] <= -4.1)    )]\n",
    "bin43 = concatenate.loc[   ( (concatenate['pt'] > -4.3) & (concatenate['pt'] <= -4.2)    )]\n",
    "bin44 = concatenate.loc[   ( (concatenate['pt'] > -4.4) & (concatenate['pt'] <= -4.3)  )]\n",
    "bin45 = concatenate.loc[   ( (concatenate['pt'] > -4.5) & (concatenate['pt'] <= -4.4)    )]\n",
    "bin41_45 = bin41.shape[0] + bin42.shape[0]+ bin43.shape[0] + bin44.shape[0]+ bin45.shape[0] \n",
    "list1.append(bin41_45)\n",
    "list2.append((sum(bin41.predict == 0) +sum(bin42.predict == 0) + sum(bin43.predict == 0) + sum(bin44.predict == 0) + sum(bin45.predict == 0))/bin41_45 ) "
   ]
  },
  {
   "cell_type": "code",
   "execution_count": 36,
   "id": "16d4e096",
   "metadata": {},
   "outputs": [],
   "source": [
    "bin46 = concatenate.loc[   ( (concatenate['pt'] > -4.6) & (concatenate['pt'] <= -4.5)    )]\n",
    "bin47 = concatenate.loc[  ( (concatenate['pt'] > -4.7) & (concatenate['pt'] <= -4.6)    )]\n",
    "bin48 = concatenate.loc[   ( (concatenate['pt'] > -4.8) & (concatenate['pt'] <= -4.7)    )]\n",
    "bin49 = concatenate.loc[   ( (concatenate['pt'] > -4.9) & (concatenate['pt'] <= -4.8)    )]\n",
    "bin50 = concatenate.loc[ ( (concatenate['pt'] > -5.0) & (concatenate['pt'] <= -4.9)    )]\n",
    "bin46_50 = bin46.shape[0] + bin47.shape[0]+ bin48.shape[0] + bin49.shape[0]+ bin50.shape[0]  \n",
    "list1.append(bin46_50)\n",
    "list2.append((sum(bin46.predict == 0) +sum(bin47.predict == 0) + sum(bin48.predict == 0) + sum(bin49.predict == 0) + sum(bin50.predict == 0))/bin46_50 ) "
   ]
  },
  {
   "cell_type": "code",
   "execution_count": 37,
   "id": "dd8c3d29-e39d-4c05-93d0-22919abdc838",
   "metadata": {},
   "outputs": [],
   "source": [
    "reversed_list2 = list2[::-1]\n",
    "#reversed_list2"
   ]
  },
  {
   "cell_type": "code",
   "execution_count": 38,
   "id": "53a6720b",
   "metadata": {},
   "outputs": [
    {
     "data": {
      "text/plain": [
       "34"
      ]
     },
     "execution_count": 38,
     "metadata": {},
     "output_type": "execute_result"
    }
   ],
   "source": [
    "len(reversed_list2)"
   ]
  },
  {
   "cell_type": "code",
   "execution_count": 39,
   "id": "c18d2ae2",
   "metadata": {},
   "outputs": [],
   "source": [
    "xvalues = [-0.1,-0.2,-0.3,-0.4,-0.5,-0.6,-0.7,-0.8,-0.9,-1.0,-1.1,-1.2,-1.3,-1.4,-1.5,-1.6,-1.7,-1.8,-1.9,-2.0,-2.1,-2.2,-2.3,-2.4,-2.5,-2.6,-2.7,-2.8,-2.9,-3.0,-3.5,-4.0,-4.5,-4.9]"
   ]
  },
  {
   "cell_type": "code",
   "execution_count": 40,
   "id": "b3196327-698f-4cc4-b170-a8b2f237691b",
   "metadata": {},
   "outputs": [
    {
     "data": {
      "text/plain": [
       "34"
      ]
     },
     "execution_count": 40,
     "metadata": {},
     "output_type": "execute_result"
    }
   ],
   "source": [
    "len(xvalues)"
   ]
  },
  {
   "cell_type": "code",
   "execution_count": 41,
   "id": "1aa5dbaf-a39d-42e3-9faa-d6a355359e37",
   "metadata": {},
   "outputs": [],
   "source": [
    "reversed_list = list1[::-1]"
   ]
  },
  {
   "cell_type": "code",
   "execution_count": 42,
   "id": "289ba9a6-c771-4693-a81f-35eee6bd8408",
   "metadata": {},
   "outputs": [
    {
     "data": {
      "text/plain": [
       "array([[0.81538462, 0.83928571, 0.93069307, 0.8974359 , 0.88034188,\n",
       "        0.86363636, 0.88957055, 0.90721649, 0.91866029, 0.91353383,\n",
       "        0.93602694, 0.88685015, 0.87700535, 0.8907563 , 0.89208633,\n",
       "        0.90202177, 0.90594059, 0.88925439, 0.89478114, 0.88992806,\n",
       "        0.89582107, 0.88801572, 0.88932651, 0.87637185, 0.8757515 ,\n",
       "        0.86485071, 0.84401817, 0.8379641 , 0.79846743, 0.75663495,\n",
       "        0.68045977, 0.48398385, 0.24499788, 0.1       ]])"
      ]
     },
     "execution_count": 42,
     "metadata": {},
     "output_type": "execute_result"
    }
   ],
   "source": [
    "y_values=np.array([reversed_list2])\n",
    "y_values"
   ]
  },
  {
   "cell_type": "code",
   "execution_count": 43,
   "id": "1076cf36-99c1-4b28-8154-31444dc7a5cd",
   "metadata": {},
   "outputs": [
    {
     "data": {
      "text/plain": [
       "array([[  65,  112,  202,  390,  117,  110,  163,  194,  209,  266,  297,\n",
       "         327,  374,  476,  556,  643,  808,  912, 1188, 1390, 1699, 2036,\n",
       "        2539, 3098, 3992, 3818, 3962, 4067, 3915, 3994, 3915, 3715,  120,\n",
       "         120]])"
      ]
     },
     "execution_count": 43,
     "metadata": {},
     "output_type": "execute_result"
    }
   ],
   "source": [
    "x_values=np.array([reversed_list])\n",
    "x_values"
   ]
  },
  {
   "cell_type": "code",
   "execution_count": 44,
   "id": "f605d4b6-fa95-457b-8100-cd7e52077a7c",
   "metadata": {},
   "outputs": [
    {
     "data": {
      "text/plain": [
       "array([[0.04812365, 0.03470349, 0.01786964, 0.01536268, 0.03000571,\n",
       "        0.03272038, 0.02454928, 0.02083003, 0.01890844, 0.01723235,\n",
       "        0.01419922, 0.01751775, 0.01698277, 0.01429796, 0.01315844,\n",
       "        0.01172378, 0.01026941, 0.01039151, 0.00890219, 0.00839476,\n",
       "        0.00741146, 0.00698876, 0.00622617, 0.00591374, 0.00522084,\n",
       "        0.00553299, 0.00576442, 0.00577805, 0.00641114, 0.00678998,\n",
       "        0.00745243, 0.00819913, 0.0392613 , 0.02738613]])"
      ]
     },
     "execution_count": 44,
     "metadata": {},
     "output_type": "execute_result"
    }
   ],
   "source": [
    "first = y_values*(1-y_values)\n",
    "second = first/x_values\n",
    "errors = np.sqrt(second)\n",
    "errors"
   ]
  },
  {
   "cell_type": "code",
   "execution_count": 45,
   "id": "a5007ddc-ada0-40f0-a47a-04c0482d8eb5",
   "metadata": {},
   "outputs": [],
   "source": [
    "np.savetxt('NegativeYValues.out',y_values, delimiter=',')\n",
    "np.savetxt('errorsNegative.out', errors, delimiter=',')"
   ]
  }
 ],
 "metadata": {
  "kernelspec": {
   "display_name": "Python 3 (ipykernel)",
   "language": "python",
   "name": "py3-preamble"
  },
  "language_info": {
   "codemirror_mode": {
    "name": "ipython",
    "version": 3
   },
   "file_extension": ".py",
   "mimetype": "text/x-python",
   "name": "python",
   "nbconvert_exporter": "python",
   "pygments_lexer": "ipython3",
   "version": "3.9.13"
  }
 },
 "nbformat": 4,
 "nbformat_minor": 5
}
