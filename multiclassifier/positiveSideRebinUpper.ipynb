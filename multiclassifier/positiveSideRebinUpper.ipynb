{
 "cells": [
  {
   "cell_type": "code",
   "execution_count": 1,
   "id": "bdb78c8b",
   "metadata": {},
   "outputs": [],
   "source": [
    "import matplotlib.pyplot as plt\n",
    "import numpy as np\n",
    "import pandas as pd\n",
    "from pandas import read_csv\n",
    "import math\n",
    "import seaborn as sns"
   ]
  },
  {
   "cell_type": "code",
   "execution_count": 2,
   "id": "f3ae0760",
   "metadata": {},
   "outputs": [],
   "source": [
    "df1 = pd.read_csv('/home/jieun201/aug20_make3Classes_dataset/trainTestSamples/test/trueTestPT.csv')\n",
    "df2 = pd.read_csv('predictionsFiles.csv')\n",
    "df3 = pd.read_csv('aug22true.csv')\n",
    "df2.columns.values[0] = \"predict\"\n",
    "df3.columns.values[0] = \"true\"\n",
    "df2['predict'] = df2['predict'].astype(int)"
   ]
  },
  {
   "cell_type": "code",
   "execution_count": 3,
   "id": "1db413fb",
   "metadata": {},
   "outputs": [
    {
     "data": {
      "text/html": [
       "<div>\n",
       "<style scoped>\n",
       "    .dataframe tbody tr th:only-of-type {\n",
       "        vertical-align: middle;\n",
       "    }\n",
       "\n",
       "    .dataframe tbody tr th {\n",
       "        vertical-align: top;\n",
       "    }\n",
       "\n",
       "    .dataframe thead th {\n",
       "        text-align: right;\n",
       "    }\n",
       "</style>\n",
       "<table border=\"1\" class=\"dataframe\">\n",
       "  <thead>\n",
       "    <tr style=\"text-align: right;\">\n",
       "      <th></th>\n",
       "      <th>pt</th>\n",
       "      <th>predict</th>\n",
       "      <th>true</th>\n",
       "    </tr>\n",
       "  </thead>\n",
       "  <tbody>\n",
       "    <tr>\n",
       "      <th>0</th>\n",
       "      <td>0.178055</td>\n",
       "      <td>2</td>\n",
       "      <td>2</td>\n",
       "    </tr>\n",
       "    <tr>\n",
       "      <th>1</th>\n",
       "      <td>0.499588</td>\n",
       "      <td>0</td>\n",
       "      <td>0</td>\n",
       "    </tr>\n",
       "    <tr>\n",
       "      <th>2</th>\n",
       "      <td>-0.199521</td>\n",
       "      <td>1</td>\n",
       "      <td>1</td>\n",
       "    </tr>\n",
       "    <tr>\n",
       "      <th>3</th>\n",
       "      <td>-2.179800</td>\n",
       "      <td>0</td>\n",
       "      <td>0</td>\n",
       "    </tr>\n",
       "    <tr>\n",
       "      <th>4</th>\n",
       "      <td>-0.196326</td>\n",
       "      <td>1</td>\n",
       "      <td>1</td>\n",
       "    </tr>\n",
       "    <tr>\n",
       "      <th>...</th>\n",
       "      <td>...</td>\n",
       "      <td>...</td>\n",
       "      <td>...</td>\n",
       "    </tr>\n",
       "    <tr>\n",
       "      <th>198191</th>\n",
       "      <td>-0.196402</td>\n",
       "      <td>1</td>\n",
       "      <td>1</td>\n",
       "    </tr>\n",
       "    <tr>\n",
       "      <th>198192</th>\n",
       "      <td>0.198409</td>\n",
       "      <td>0</td>\n",
       "      <td>2</td>\n",
       "    </tr>\n",
       "    <tr>\n",
       "      <th>198193</th>\n",
       "      <td>0.198085</td>\n",
       "      <td>2</td>\n",
       "      <td>2</td>\n",
       "    </tr>\n",
       "    <tr>\n",
       "      <th>198194</th>\n",
       "      <td>0.168638</td>\n",
       "      <td>0</td>\n",
       "      <td>2</td>\n",
       "    </tr>\n",
       "    <tr>\n",
       "      <th>198195</th>\n",
       "      <td>0.171551</td>\n",
       "      <td>2</td>\n",
       "      <td>2</td>\n",
       "    </tr>\n",
       "  </tbody>\n",
       "</table>\n",
       "<p>198196 rows × 3 columns</p>\n",
       "</div>"
      ],
      "text/plain": [
       "              pt  predict  true\n",
       "0       0.178055        2     2\n",
       "1       0.499588        0     0\n",
       "2      -0.199521        1     1\n",
       "3      -2.179800        0     0\n",
       "4      -0.196326        1     1\n",
       "...          ...      ...   ...\n",
       "198191 -0.196402        1     1\n",
       "198192  0.198409        0     2\n",
       "198193  0.198085        2     2\n",
       "198194  0.168638        0     2\n",
       "198195  0.171551        2     2\n",
       "\n",
       "[198196 rows x 3 columns]"
      ]
     },
     "execution_count": 3,
     "metadata": {},
     "output_type": "execute_result"
    }
   ],
   "source": [
    "concatenate = pd.concat([df1,df2, df3], axis=1)\n",
    "concatenate"
   ]
  },
  {
   "cell_type": "code",
   "execution_count": 4,
   "id": "e69f0330",
   "metadata": {},
   "outputs": [],
   "source": [
    "list1 = []\n",
    "list2 = []"
   ]
  },
  {
   "cell_type": "code",
   "execution_count": 5,
   "id": "5c31c469-a428-479f-bca6-85d3619a4c04",
   "metadata": {},
   "outputs": [],
   "source": [
    "binValidate1 = concatenate.loc[(concatenate['pt'] < 0.1) & (concatenate['pt'] >= 0.0)]\n",
    "list1.append(binValidate1.shape[0])\n",
    "list2.append( sum((binValidate1.predict == 0))/(binValidate1.shape[0]) )\n",
    "\n",
    "binValidate2 = concatenate.loc[(concatenate['pt'] < 0.2) & (concatenate['pt'] >= 0.1)]\n",
    "list1.append(binValidate1.shape[0])\n",
    "list2.append( sum((binValidate2.predict == 0))/(binValidate2.shape[0]) )\n",
    "\n",
    "binValidate3 = concatenate.loc[(concatenate['pt'] < 0.3) & (concatenate['pt'] >= 0.2)]\n",
    "list1.append( binValidate3.shape[0])\n",
    "list2.append( sum((binValidate3.predict == 0))/(binValidate3.shape[0]) )"
   ]
  },
  {
   "cell_type": "code",
   "execution_count": 6,
   "id": "c988ddd2-4f0d-4580-be48-01d8b9a11db7",
   "metadata": {},
   "outputs": [],
   "source": [
    "bin4 = concatenate.loc[  ((concatenate['pt'] < 0.4) & (concatenate['pt'] >= 0.3)  )       ]\n",
    "list1.append(bin4.shape[0])\n",
    "list2.append( sum((bin4.predict == 0))/(bin4.shape[0]))"
   ]
  },
  {
   "cell_type": "code",
   "execution_count": 7,
   "id": "588d3559",
   "metadata": {},
   "outputs": [],
   "source": [
    "bin5 = concatenate.loc[  ((concatenate['pt'] < 0.5) & (concatenate['pt'] >= 0.4)  )] \n",
    "list1.append(bin5.shape[0])\n",
    "list2.append( sum((bin5.predict == 0))/(bin5.shape[0]))"
   ]
  },
  {
   "cell_type": "code",
   "execution_count": 8,
   "id": "e02d5ad2",
   "metadata": {},
   "outputs": [],
   "source": [
    "#bin6 = concatenate.loc[  ((concatenate['pt'] < 0.6) & (concatenate['pt'] >= 0.5) ) | ( (concatenate['pt'] > -0.6) & (concatenate['pt'] <= -0.5)   )]\n",
    "bin6 = concatenate.loc[(concatenate['pt'] < 0.6) & (concatenate['pt'] >= 0.5)]\n",
    "list1.append(bin6.shape[0])\n",
    "list2.append( sum((bin6.predict == 0))/(bin6.shape[0]) )"
   ]
  },
  {
   "cell_type": "code",
   "execution_count": 9,
   "id": "c4bd0f56",
   "metadata": {},
   "outputs": [],
   "source": [
    "#bin7 = concatenate.loc[  ((concatenate['pt'] < 0.7) & (concatenate['pt'] >= 0.6) ) | ( (concatenate['pt'] > -0.7) & (concatenate['pt'] <= -0.6)   )] \n",
    "bin7 = concatenate.loc[(concatenate['pt'] < 0.7) & (concatenate['pt'] >= 0.6)]\n",
    "list1.append(bin7.shape[0])\n",
    "list2.append( sum((bin7.predict == 0))/(bin7.shape[0]) )"
   ]
  },
  {
   "cell_type": "code",
   "execution_count": 10,
   "id": "aa019235",
   "metadata": {},
   "outputs": [],
   "source": [
    "#bin8 = concatenate.loc[  ((concatenate['pt'] < 0.8) & (concatenate['pt'] >= 0.7) ) | ( (concatenate['pt'] > -0.8) & (concatenate['pt'] <= -0.7)    )]\n",
    "bin8 = concatenate.loc[(concatenate['pt'] < 0.8) & (concatenate['pt'] >= 0.7)]\n",
    "list1.append(bin8.shape[0])\n",
    "list2.append( sum((bin8.predict == 0))/(bin8.shape[0]) )"
   ]
  },
  {
   "cell_type": "code",
   "execution_count": 11,
   "id": "b4aadb30",
   "metadata": {},
   "outputs": [],
   "source": [
    "#bin9 = concatenate.loc[  ((concatenate['pt'] < 0.9) & (concatenate['pt'] >= 0.8) ) | ( (concatenate['pt'] > -0.9) & (concatenate['pt'] <= -0.8)   )] \n",
    "bin9 = concatenate.loc[(concatenate['pt'] < 0.9) & (concatenate['pt'] >= 0.8)]\n",
    "list1.append(bin9.shape[0])\n",
    "list2.append( sum((bin9.predict == 0))/(bin9.shape[0]) )"
   ]
  },
  {
   "cell_type": "code",
   "execution_count": 12,
   "id": "4cd51008",
   "metadata": {},
   "outputs": [],
   "source": [
    "#bin10 = concatenate.loc[  ((concatenate['pt'] < 1.0) & (concatenate['pt'] >= 0.9) ) | ( (concatenate['pt'] > -1.0) & (concatenate['pt'] <= -0.9)    )]\n",
    "bin10 = concatenate.loc[(concatenate['pt'] < 1.0) & (concatenate['pt'] >= 0.9)]\n",
    "list1.append(bin10.shape[0])\n",
    "list2.append( sum((bin10.predict == 0))/(bin10.shape[0]) )"
   ]
  },
  {
   "cell_type": "code",
   "execution_count": 13,
   "id": "a4100412",
   "metadata": {},
   "outputs": [],
   "source": [
    "#bin11 = concatenate.loc[  ((concatenate['pt'] < 1.1) & (concatenate['pt'] >= 1.0) ) | ( (concatenate['pt'] > -1.1) & (concatenate['pt'] <= -1.0)    )]\n",
    "bin11 = concatenate.loc[(concatenate['pt'] < 1.1) & (concatenate['pt'] >= 1.0)]\n",
    "list1.append(bin11.shape[0])\n",
    "list2.append( sum((bin11.predict == 0))/(bin11.shape[0]) )"
   ]
  },
  {
   "cell_type": "code",
   "execution_count": 14,
   "id": "0aa13844",
   "metadata": {},
   "outputs": [],
   "source": [
    "#bin12 = concatenate.loc[  ((concatenate['pt'] < 1.2) & (concatenate['pt'] >= 1.1) ) | ( (concatenate['pt'] > -1.2) & (concatenate['pt'] <= -1.1)    )]\n",
    "bin12 = concatenate.loc[(concatenate['pt'] < 1.2) & (concatenate['pt'] >= 1.1)]\n",
    "list1.append(bin12.shape[0])\n",
    "list2.append( sum((bin12.predict == 0))/(bin12.shape[0]) )"
   ]
  },
  {
   "cell_type": "code",
   "execution_count": 15,
   "id": "d19d024a",
   "metadata": {},
   "outputs": [],
   "source": [
    "#bin13 = concatenate.loc[  ((concatenate['pt'] < 1.3) & (concatenate['pt'] >= 1.2) ) | ( (concatenate['pt'] > -1.3) & (concatenate['pt'] <= -1.2)    )]\n",
    "bin13 = concatenate.loc[(concatenate['pt'] < 1.3) & (concatenate['pt'] >= 1.2)]\n",
    "list1.append(bin13.shape[0])\n",
    "list2.append( sum((bin13.predict == 0))/(bin13.shape[0]) )"
   ]
  },
  {
   "cell_type": "code",
   "execution_count": 16,
   "id": "486ddfc8",
   "metadata": {},
   "outputs": [],
   "source": [
    "#bin14 = concatenate.loc[  ((concatenate['pt'] < 1.4) & (concatenate['pt'] >= 1.3) ) | ( (concatenate['pt'] > -1.4) & (concatenate['pt'] <= -1.3)    )]\n",
    "bin14 = concatenate.loc[(concatenate['pt'] < 1.4) & (concatenate['pt'] >= 1.3)]\n",
    "list1.append(bin14.shape[0])\n",
    "list2.append( sum((bin14.predict == 0))/(bin14.shape[0]) )"
   ]
  },
  {
   "cell_type": "code",
   "execution_count": 17,
   "id": "54acccab",
   "metadata": {},
   "outputs": [],
   "source": [
    "#bin15 = concatenate.loc[  ((concatenate['pt'] < 1.5) & (concatenate['pt'] >= 1.4) ) | ( (concatenate['pt'] > -1.5) & (concatenate['pt'] <= -1.4)   )] \n",
    "bin15 = concatenate.loc[(concatenate['pt'] < 1.5) & (concatenate['pt'] >= 1.4)]\n",
    "list1.append(bin15.shape[0])\n",
    "list2.append( sum((bin15.predict == 0))/(bin15.shape[0]) )"
   ]
  },
  {
   "cell_type": "code",
   "execution_count": 18,
   "id": "848dddd1",
   "metadata": {},
   "outputs": [],
   "source": [
    "#bin16 = concatenate.loc[  ((concatenate['pt'] < 1.6) & (concatenate['pt'] >= 1.5) ) | ( (concatenate['pt'] > -1.6) & (concatenate['pt'] <= -1.5)   )] \n",
    "bin16 = concatenate.loc[(concatenate['pt'] < 1.6) & (concatenate['pt'] >= 1.5)]\n",
    "list1.append(bin16.shape[0])\n",
    "list2.append( sum((bin16.predict == 0))/(bin16.shape[0]) )"
   ]
  },
  {
   "cell_type": "code",
   "execution_count": 19,
   "id": "7cbdca93",
   "metadata": {},
   "outputs": [],
   "source": [
    "#bin17 = concatenate.loc[  ((concatenate['pt'] < 1.7) & (concatenate['pt'] >= 1.6) ) | ( (concatenate['pt'] > -1.7) & (concatenate['pt'] <= -1.6)    )]\n",
    "bin17 = concatenate.loc[(concatenate['pt'] < 1.7) & (concatenate['pt'] >= 1.6)]\n",
    "list1.append(bin17.shape[0])\n",
    "list2.append( sum((bin17.predict == 0))/(bin17.shape[0]) )"
   ]
  },
  {
   "cell_type": "code",
   "execution_count": 20,
   "id": "9e938f8d",
   "metadata": {},
   "outputs": [],
   "source": [
    "#bin18 = concatenate.loc[  ((concatenate['pt'] < 1.8) & (concatenate['pt'] >= 1.7) ) | ( (concatenate['pt'] > -1.8) & (concatenate['pt'] <= -1.7)    )]\n",
    "bin18 = concatenate.loc[(concatenate['pt'] < 1.8) & (concatenate['pt'] >= 1.7)]\n",
    "list1.append(bin18.shape[0])\n",
    "list2.append( sum((bin18.predict == 0))/(bin18.shape[0]) )"
   ]
  },
  {
   "cell_type": "code",
   "execution_count": 21,
   "id": "5a38e2e2",
   "metadata": {},
   "outputs": [],
   "source": [
    "#bin19 = concatenate.loc[  ((concatenate['pt'] < 1.9) & (concatenate['pt'] >= 1.8) ) | ( (concatenate['pt'] > -1.9) & (concatenate['pt'] <= -1.8)   )] \n",
    "bin19 = concatenate.loc[(concatenate['pt'] < 1.9) & (concatenate['pt'] >= 1.8)]\n",
    "list1.append(bin19.shape[0])\n",
    "list2.append( sum((bin19.predict == 0))/(bin19.shape[0]) )"
   ]
  },
  {
   "cell_type": "code",
   "execution_count": 22,
   "id": "616b9d08",
   "metadata": {},
   "outputs": [],
   "source": [
    "#bin20 = concatenate.loc[  ((concatenate['pt'] < 2.0) & (concatenate['pt'] >= 1.9) ) | ( (concatenate['pt'] > -2.0) & (concatenate['pt'] <= -1.9)    )]\n",
    "bin20 = concatenate.loc[(concatenate['pt'] < 2.0) & (concatenate['pt'] >= 1.9)]\n",
    "list1.append(bin20.shape[0])\n",
    "list2.append( sum((bin20.predict == 0))/(bin20.shape[0]) )"
   ]
  },
  {
   "cell_type": "code",
   "execution_count": 23,
   "id": "3c5b4fe4",
   "metadata": {},
   "outputs": [],
   "source": [
    "#bin21 = concatenate.loc[  ((concatenate['pt'] < 2.1) & (concatenate['pt'] >= 2.0) ) | ( (concatenate['pt'] > -2.1) & (concatenate['pt'] <= -2.0)    )]\n",
    "bin21 = concatenate.loc[(concatenate['pt'] < 2.1) & (concatenate['pt'] >= 2.0)]\n",
    "list1.append(bin21.shape[0])\n",
    "list2.append( sum((bin21.predict == 0))/(bin21.shape[0]) )"
   ]
  },
  {
   "cell_type": "code",
   "execution_count": 24,
   "id": "6adff419",
   "metadata": {},
   "outputs": [],
   "source": [
    "#bin22 = concatenate.loc[  ((concatenate['pt'] < 2.2) & (concatenate['pt'] >= 2.1) ) | ( (concatenate['pt'] > -2.2) & (concatenate['pt'] <= -2.1)    )]\n",
    "bin22 = concatenate.loc[(concatenate['pt'] < 2.2) & (concatenate['pt'] >= 2.1)]\n",
    "list1.append(bin22.shape[0])\n",
    "list2.append( sum((bin22.predict == 0))/(bin22.shape[0]) )"
   ]
  },
  {
   "cell_type": "code",
   "execution_count": 25,
   "id": "a33abf95",
   "metadata": {},
   "outputs": [],
   "source": [
    "#bin23 = concatenate.loc[  ((concatenate['pt'] < 2.3) & (concatenate['pt'] >= 2.2) ) | ( (concatenate['pt'] > -2.3) & (concatenate['pt'] <= -2.2)    )]\n",
    "bin23 = concatenate.loc[(concatenate['pt'] < 2.3) & (concatenate['pt'] >= 2.2)]\n",
    "list1.append(bin23.shape[0])\n",
    "list2.append( sum((bin23.predict == 0))/(bin23.shape[0]) )"
   ]
  },
  {
   "cell_type": "code",
   "execution_count": 26,
   "id": "a97f0784",
   "metadata": {},
   "outputs": [],
   "source": [
    "#bin24 = concatenate.loc[  ((concatenate['pt'] < 2.4) & (concatenate['pt'] >= 2.3) ) | ( (concatenate['pt'] > -2.4) & (concatenate['pt'] <= -2.3)    )]\n",
    "bin24 = concatenate.loc[(concatenate['pt'] < 2.4) & (concatenate['pt'] >= 2.3)]\n",
    "list1.append(bin24.shape[0])\n",
    "list2.append( sum((bin24.predict == 0))/(bin24.shape[0]) )"
   ]
  },
  {
   "cell_type": "code",
   "execution_count": 27,
   "id": "75638980",
   "metadata": {},
   "outputs": [],
   "source": [
    "#bin25 = concatenate.loc[  ((concatenate['pt'] < 2.5) & (concatenate['pt'] >= 2.4) ) | ( (concatenate['pt'] > -2.5) & (concatenate['pt'] <= -2.4)    )]\n",
    "bin25 = concatenate.loc[(concatenate['pt'] < 2.5) & (concatenate['pt'] >= 2.4)]\n",
    "list1.append(bin25.shape[0])\n",
    "list2.append( sum((bin25.predict == 0))/(bin25.shape[0]) )"
   ]
  },
  {
   "cell_type": "code",
   "execution_count": 28,
   "id": "c484f364",
   "metadata": {},
   "outputs": [],
   "source": [
    "#bin26 = concatenate.loc[  ((concatenate['pt'] < 2.6) & (concatenate['pt'] >= 2.5) ) | ( (concatenate['pt'] > -2.6) & (concatenate['pt'] <= -2.5)    )]\n",
    "bin26 = concatenate.loc[(concatenate['pt'] < 2.6) & (concatenate['pt'] >= 2.5)]\n",
    "list1.append(bin26.shape[0])\n",
    "list2.append( sum((bin26.predict == 0))/(bin26.shape[0]) )"
   ]
  },
  {
   "cell_type": "code",
   "execution_count": 29,
   "id": "1e624d6c",
   "metadata": {},
   "outputs": [],
   "source": [
    "#bin27 = concatenate.loc[  ((concatenate['pt'] < 2.7) & (concatenate['pt'] >= 2.6) ) | ( (concatenate['pt'] > -2.7) & (concatenate['pt'] <= -2.6)    )]\n",
    "bin27 = concatenate.loc[(concatenate['pt'] < 2.7) & (concatenate['pt'] >= 2.6)]\n",
    "list1.append(bin27.shape[0])\n",
    "list2.append( sum((bin27.predict == 0))/(bin27.shape[0]) )"
   ]
  },
  {
   "cell_type": "code",
   "execution_count": 30,
   "id": "c4336d6c",
   "metadata": {},
   "outputs": [],
   "source": [
    "#bin28 = concatenate.loc[  ((concatenate['pt'] < 2.8) & (concatenate['pt'] >= 2.7) ) | ( (concatenate['pt'] > -2.8) & (concatenate['pt'] <= -2.7)    )]\n",
    "bin28 = concatenate.loc[(concatenate['pt'] < 2.8) & (concatenate['pt'] >= 2.7)]\n",
    "list1.append(bin28.shape[0])\n",
    "list2.append( sum((bin28.predict == 0))/(bin28.shape[0]) )"
   ]
  },
  {
   "cell_type": "code",
   "execution_count": 31,
   "id": "1f97abf0",
   "metadata": {},
   "outputs": [],
   "source": [
    "#bin29 = concatenate.loc[  ((concatenate['pt'] < 2.9) & (concatenate['pt'] >= 2.8) ) | ( (concatenate['pt'] > -2.9) & (concatenate['pt'] <= -2.8)    )]\n",
    "bin29 = concatenate.loc[(concatenate['pt'] < 2.9) & (concatenate['pt'] >= 2.8)]\n",
    "list1.append(bin29.shape[0])\n",
    "list2.append( sum((bin29.predict == 0))/(bin29.shape[0]) )"
   ]
  },
  {
   "cell_type": "code",
   "execution_count": 32,
   "id": "9ff6155b",
   "metadata": {},
   "outputs": [],
   "source": [
    "#bin30 = concatenate.loc[  ((concatenate['pt'] < 3.0) & (concatenate['pt'] >= 2.9) ) | ( (concatenate['pt'] > -3.0) & (concatenate['pt'] <= -2.9)    )]\n",
    "bin30 = concatenate.loc[(concatenate['pt'] < 3.0) & (concatenate['pt'] >= 2.9)]\n",
    "list1.append(bin30.shape[0])\n",
    "list2.append( sum((bin30.predict == 0))/(bin30.shape[0]) )"
   ]
  },
  {
   "cell_type": "code",
   "execution_count": 33,
   "id": "43e96428-d01c-4f6b-86bd-b466955e621e",
   "metadata": {},
   "outputs": [],
   "source": [
    "bin31 = concatenate.loc[(concatenate['pt'] < 3.1) & (concatenate['pt'] >= 3.0)]\n",
    "bin32 = concatenate.loc[(concatenate['pt'] < 3.2) & (concatenate['pt'] >= 3.1)]\n",
    "bin33 = concatenate.loc[(concatenate['pt'] < 3.3) & (concatenate['pt'] >= 3.2)]\n",
    "bin34 = concatenate.loc[(concatenate['pt'] < 3.4) & (concatenate['pt'] >= 3.3)]\n",
    "bin35 = concatenate.loc[(concatenate['pt'] < 3.5) & (concatenate['pt'] >= 3.4)]\n",
    "bin31_35 = bin31.shape[0] + bin32.shape[0]+ bin33.shape[0] + bin34.shape[0]+ bin35.shape[0]\n",
    "list1.append(bin31_35)\n",
    "list2.append((sum(bin31.predict == 0) +sum(bin32.predict == 0) + sum(bin33.predict == 0) + sum(bin34.predict == 0) + sum(bin35.predict == 0))/bin31_35 ) "
   ]
  },
  {
   "cell_type": "code",
   "execution_count": 34,
   "id": "12133e8d",
   "metadata": {},
   "outputs": [],
   "source": [
    "bin36 = concatenate.loc[(concatenate['pt'] < 3.6) & (concatenate['pt'] >= 3.5)]\n",
    "bin37 = concatenate.loc[(concatenate['pt'] < 3.7) & (concatenate['pt'] >= 3.6)]\n",
    "bin38 = concatenate.loc[(concatenate['pt'] < 3.8) & (concatenate['pt'] >= 3.7)]\n",
    "bin39 = concatenate.loc[(concatenate['pt'] < 3.9) & (concatenate['pt'] >= 3.8)]\n",
    "bin40 = concatenate.loc[(concatenate['pt'] < 4.0) & (concatenate['pt'] >= 3.9)]\n",
    "bin36_40 = bin36.shape[0] + bin37.shape[0]+ bin38.shape[0] + bin39.shape[0]+ bin40.shape[0]\n",
    "list1.append(bin36_40)\n",
    "list2.append((sum(bin36.predict == 0) +sum(bin37.predict == 0) + sum(bin38.predict == 0) + sum(bin39.predict == 0) + sum(bin40.predict == 0))/bin36_40 ) "
   ]
  },
  {
   "cell_type": "code",
   "execution_count": 35,
   "id": "16d4e096",
   "metadata": {},
   "outputs": [],
   "source": [
    "bin41 = concatenate.loc[(concatenate['pt'] < 4.1) & (concatenate['pt'] >= 4.0)]\n",
    "bin42 = concatenate.loc[(concatenate['pt'] < 4.2) & (concatenate['pt'] >= 4.1)]\n",
    "bin43 = concatenate.loc[(concatenate['pt'] < 4.3) & (concatenate['pt'] >= 4.2)]\n",
    "bin44 = concatenate.loc[(concatenate['pt'] < 4.4) & (concatenate['pt'] >= 4.3)]\n",
    "bin45 = concatenate.loc[(concatenate['pt'] < 4.5) & (concatenate['pt'] >= 4.4)]\n",
    "bin41_45 = bin41.shape[0] + bin42.shape[0]+ bin43.shape[0] + bin44.shape[0]+ bin45.shape[0] \n",
    "list1.append(bin41_45)\n",
    "list2.append((sum(bin41.predict == 0) +sum(bin42.predict == 0) + sum(bin43.predict == 0) + sum(bin44.predict == 0) + sum(bin45.predict == 0))/bin41_45 ) "
   ]
  },
  {
   "cell_type": "code",
   "execution_count": 36,
   "id": "9ff662f6-6461-4521-a4ba-abe69e9f4e43",
   "metadata": {},
   "outputs": [],
   "source": [
    "bin46 = concatenate.loc[(concatenate['pt'] < 4.6) & (concatenate['pt'] >= 4.5)]\n",
    "bin47 = concatenate.loc[(concatenate['pt'] < 4.7) & (concatenate['pt'] >= 4.6)]\n",
    "bin48 = concatenate.loc[(concatenate['pt'] < 4.8) & (concatenate['pt'] >= 4.7)]\n",
    "bin49 = concatenate.loc[(concatenate['pt'] < 4.9) & (concatenate['pt'] >= 4.8)]\n",
    "bin50 = concatenate.loc[(concatenate['pt'] < 5.0) & (concatenate['pt'] >= 4.9)]\n",
    "bin46_50 = bin46.shape[0] + bin47.shape[0]+ bin48.shape[0] + bin49.shape[0]+ bin50.shape[0]  \n",
    "list1.append(bin46_50)\n",
    "list2.append((sum(bin46.predict == 0) +sum(bin47.predict == 0) + sum(bin48.predict == 0) + sum(bin49.predict == 0) + sum(bin50.predict == 0))/bin46_50 ) "
   ]
  },
  {
   "cell_type": "code",
   "execution_count": 37,
   "id": "53a6720b",
   "metadata": {},
   "outputs": [
    {
     "data": {
      "text/plain": [
       "34"
      ]
     },
     "execution_count": 37,
     "metadata": {},
     "output_type": "execute_result"
    }
   ],
   "source": [
    "len(list2)"
   ]
  },
  {
   "cell_type": "code",
   "execution_count": 38,
   "id": "1226dcbf-6f37-4af7-beca-083432722c90",
   "metadata": {},
   "outputs": [
    {
     "data": {
      "text/plain": [
       "array([[0.03603604, 0.21505724, 0.46501014, 0.66322678, 0.7742915 ,\n",
       "        0.82888661, 0.85035569, 0.86977824, 0.87583376, 0.88117589,\n",
       "        0.89335828, 0.89230156, 0.89602446, 0.9085044 , 0.90450726,\n",
       "        0.90869183, 0.9005291 , 0.91327913, 0.91366906, 0.92227979,\n",
       "        0.90413943, 0.92307692, 0.91916168, 0.90298507, 0.91699605,\n",
       "        0.94618834, 0.91860465, 0.92567568, 0.9352518 , 0.94354839,\n",
       "        0.89918256, 0.93478261, 0.88349515, 0.91666667]])"
      ]
     },
     "execution_count": 38,
     "metadata": {},
     "output_type": "execute_result"
    }
   ],
   "source": [
    "y_values=np.array([list2])\n",
    "y_values"
   ]
  },
  {
   "cell_type": "code",
   "execution_count": 39,
   "id": "55987a53-1b86-4183-8d7f-7c9483602f00",
   "metadata": {},
   "outputs": [
    {
     "data": {
      "text/plain": [
       "array([[ 111,  111, 3944, 3973, 3952, 3898, 3936, 3878, 3898, 4048, 3207,\n",
       "        2507, 1962, 1705, 1309, 1139,  945,  738,  695,  579,  459,  390,\n",
       "         334,  268,  253,  223,  172,  148,  139,  124,  367,  184,  103,\n",
       "          72]])"
      ]
     },
     "execution_count": 39,
     "metadata": {},
     "output_type": "execute_result"
    }
   ],
   "source": [
    "x_values=np.array([list1])\n",
    "x_values"
   ]
  },
  {
   "cell_type": "code",
   "execution_count": 40,
   "id": "afe981a3-1c27-4b86-9954-6bd7d8c0b11b",
   "metadata": {},
   "outputs": [
    {
     "data": {
      "text/plain": [
       "array([[0.01769039, 0.0389973 , 0.0079421 , 0.00749792, 0.00664994,\n",
       "        0.0060321 , 0.00568595, 0.00540433, 0.00528192, 0.00508585,\n",
       "        0.00545038, 0.00619132, 0.0068909 , 0.00698235, 0.00812309,\n",
       "        0.00853496, 0.00973601, 0.01035942, 0.01065333, 0.01112651,\n",
       "        0.01374141, 0.0134932 , 0.01491528, 0.01807974, 0.01734494,\n",
       "        0.01511035, 0.0208497 , 0.02156076, 0.02087232, 0.02072571,\n",
       "        0.0157166 , 0.01820238, 0.03161226, 0.03257233]])"
      ]
     },
     "execution_count": 40,
     "metadata": {},
     "output_type": "execute_result"
    }
   ],
   "source": [
    "first = y_values*(1-y_values)\n",
    "second = first/x_values\n",
    "errors = np.sqrt(second)\n",
    "errors"
   ]
  },
  {
   "cell_type": "code",
   "execution_count": 41,
   "id": "de22f256-41c1-4318-9faf-09219463c856",
   "metadata": {},
   "outputs": [],
   "source": [
    "np.savetxt('PositiveYValues.out',y_values, delimiter=',')\n",
    "np.savetxt('errorsPositive.out', errors, delimiter=',')"
   ]
  }
 ],
 "metadata": {
  "kernelspec": {
   "display_name": "Python 3 (ipykernel)",
   "language": "python",
   "name": "py3-preamble"
  },
  "language_info": {
   "codemirror_mode": {
    "name": "ipython",
    "version": 3
   },
   "file_extension": ".py",
   "mimetype": "text/x-python",
   "name": "python",
   "nbconvert_exporter": "python",
   "pygments_lexer": "ipython3",
   "version": "3.9.13"
  }
 },
 "nbformat": 4,
 "nbformat_minor": 5
}
