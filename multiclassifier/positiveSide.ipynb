{
 "cells": [
  {
   "cell_type": "code",
   "execution_count": 1,
   "id": "bdb78c8b",
   "metadata": {},
   "outputs": [],
   "source": [
    "import matplotlib.pyplot as plt\n",
    "import numpy as np\n",
    "import pandas as pd\n",
    "from pandas import read_csv\n",
    "import math\n",
    "import seaborn as sns"
   ]
  },
  {
   "cell_type": "code",
   "execution_count": 2,
   "id": "f3ae0760",
   "metadata": {},
   "outputs": [],
   "source": [
    "df1 = pd.read_csv('/home/jieun201/aug20_make3Classes_dataset/trainTestSamples/test/trueTestPT.csv')\n",
    "df2 = pd.read_csv('predictionsFiles.csv')\n",
    "df3 = pd.read_csv('true.csv')\n",
    "df2.columns.values[0] = \"predict\"\n",
    "df3.columns.values[0] = \"true\"\n",
    "df2['predict'] = df2['predict'].astype(int)"
   ]
  },
  {
   "cell_type": "code",
   "execution_count": 3,
   "id": "1db413fb",
   "metadata": {},
   "outputs": [
    {
     "data": {
      "text/html": [
       "<div>\n",
       "<style scoped>\n",
       "    .dataframe tbody tr th:only-of-type {\n",
       "        vertical-align: middle;\n",
       "    }\n",
       "\n",
       "    .dataframe tbody tr th {\n",
       "        vertical-align: top;\n",
       "    }\n",
       "\n",
       "    .dataframe thead th {\n",
       "        text-align: right;\n",
       "    }\n",
       "</style>\n",
       "<table border=\"1\" class=\"dataframe\">\n",
       "  <thead>\n",
       "    <tr style=\"text-align: right;\">\n",
       "      <th></th>\n",
       "      <th>pt</th>\n",
       "      <th>predict</th>\n",
       "      <th>true</th>\n",
       "    </tr>\n",
       "  </thead>\n",
       "  <tbody>\n",
       "    <tr>\n",
       "      <th>0</th>\n",
       "      <td>0.178055</td>\n",
       "      <td>2</td>\n",
       "      <td>2</td>\n",
       "    </tr>\n",
       "    <tr>\n",
       "      <th>1</th>\n",
       "      <td>0.499588</td>\n",
       "      <td>0</td>\n",
       "      <td>0</td>\n",
       "    </tr>\n",
       "    <tr>\n",
       "      <th>2</th>\n",
       "      <td>-0.199521</td>\n",
       "      <td>1</td>\n",
       "      <td>1</td>\n",
       "    </tr>\n",
       "    <tr>\n",
       "      <th>3</th>\n",
       "      <td>-2.179800</td>\n",
       "      <td>0</td>\n",
       "      <td>0</td>\n",
       "    </tr>\n",
       "    <tr>\n",
       "      <th>4</th>\n",
       "      <td>-0.196326</td>\n",
       "      <td>1</td>\n",
       "      <td>1</td>\n",
       "    </tr>\n",
       "    <tr>\n",
       "      <th>...</th>\n",
       "      <td>...</td>\n",
       "      <td>...</td>\n",
       "      <td>...</td>\n",
       "    </tr>\n",
       "    <tr>\n",
       "      <th>198191</th>\n",
       "      <td>-0.196402</td>\n",
       "      <td>1</td>\n",
       "      <td>1</td>\n",
       "    </tr>\n",
       "    <tr>\n",
       "      <th>198192</th>\n",
       "      <td>0.198409</td>\n",
       "      <td>2</td>\n",
       "      <td>2</td>\n",
       "    </tr>\n",
       "    <tr>\n",
       "      <th>198193</th>\n",
       "      <td>0.198085</td>\n",
       "      <td>2</td>\n",
       "      <td>2</td>\n",
       "    </tr>\n",
       "    <tr>\n",
       "      <th>198194</th>\n",
       "      <td>0.168638</td>\n",
       "      <td>0</td>\n",
       "      <td>2</td>\n",
       "    </tr>\n",
       "    <tr>\n",
       "      <th>198195</th>\n",
       "      <td>0.171551</td>\n",
       "      <td>2</td>\n",
       "      <td>2</td>\n",
       "    </tr>\n",
       "  </tbody>\n",
       "</table>\n",
       "<p>198196 rows × 3 columns</p>\n",
       "</div>"
      ],
      "text/plain": [
       "              pt  predict  true\n",
       "0       0.178055        2     2\n",
       "1       0.499588        0     0\n",
       "2      -0.199521        1     1\n",
       "3      -2.179800        0     0\n",
       "4      -0.196326        1     1\n",
       "...          ...      ...   ...\n",
       "198191 -0.196402        1     1\n",
       "198192  0.198409        2     2\n",
       "198193  0.198085        2     2\n",
       "198194  0.168638        0     2\n",
       "198195  0.171551        2     2\n",
       "\n",
       "[198196 rows x 3 columns]"
      ]
     },
     "execution_count": 3,
     "metadata": {},
     "output_type": "execute_result"
    }
   ],
   "source": [
    "concatenate = pd.concat([df1,df2, df3], axis=1)\n",
    "concatenate"
   ]
  },
  {
   "cell_type": "code",
   "execution_count": 4,
   "id": "e69f0330",
   "metadata": {},
   "outputs": [],
   "source": [
    "list1 = []\n",
    "list2 = []"
   ]
  },
  {
   "cell_type": "code",
   "execution_count": 5,
   "id": "5c31c469-a428-479f-bca6-85d3619a4c04",
   "metadata": {},
   "outputs": [],
   "source": [
    "binValidate1 = concatenate.loc[(concatenate['pt'] < 0.1) & (concatenate['pt'] >= 0.0)]\n",
    "list1.append(binValidate1.shape[0])\n",
    "list2.append( sum((binValidate1.predict == 0))/(binValidate1.shape[0]) )\n",
    "\n",
    "binValidate2 = concatenate.loc[(concatenate['pt'] < 0.2) & (concatenate['pt'] >= 0.1)]\n",
    "list1.append(binValidate1.shape[0])\n",
    "list2.append( sum((binValidate2.predict == 0))/(binValidate2.shape[0]) )\n",
    "\n",
    "binValidate3 = concatenate.loc[(concatenate['pt'] < 0.3) & (concatenate['pt'] >= 0.2)]\n",
    "list1.append( binValidate3.shape[0])\n",
    "list2.append( sum((binValidate3.predict == 0))/(binValidate3.shape[0]) )"
   ]
  },
  {
   "cell_type": "code",
   "execution_count": 6,
   "id": "c988ddd2-4f0d-4580-be48-01d8b9a11db7",
   "metadata": {},
   "outputs": [],
   "source": [
    "bin4 = concatenate.loc[  ((concatenate['pt'] < 0.4) & (concatenate['pt'] >= 0.3)  )       ]\n",
    "list1.append(bin4.shape[0])\n",
    "list2.append( sum((bin4.predict == 0))/(bin4.shape[0]))"
   ]
  },
  {
   "cell_type": "code",
   "execution_count": 7,
   "id": "588d3559",
   "metadata": {},
   "outputs": [],
   "source": [
    "bin5 = concatenate.loc[  ((concatenate['pt'] < 0.5) & (concatenate['pt'] >= 0.4)  )] \n",
    "list1.append(bin5.shape[0])\n",
    "list2.append( sum((bin5.predict == 0))/(bin5.shape[0]))"
   ]
  },
  {
   "cell_type": "code",
   "execution_count": 8,
   "id": "e02d5ad2",
   "metadata": {},
   "outputs": [],
   "source": [
    "#bin6 = concatenate.loc[  ((concatenate['pt'] < 0.6) & (concatenate['pt'] >= 0.5) ) | ( (concatenate['pt'] > -0.6) & (concatenate['pt'] <= -0.5)   )]\n",
    "bin6 = concatenate.loc[(concatenate['pt'] < 0.6) & (concatenate['pt'] >= 0.5)]\n",
    "list1.append(bin6.shape[0])\n",
    "list2.append( sum((bin6.predict == 0))/(bin6.shape[0]) )"
   ]
  },
  {
   "cell_type": "code",
   "execution_count": 9,
   "id": "c4bd0f56",
   "metadata": {},
   "outputs": [],
   "source": [
    "#bin7 = concatenate.loc[  ((concatenate['pt'] < 0.7) & (concatenate['pt'] >= 0.6) ) | ( (concatenate['pt'] > -0.7) & (concatenate['pt'] <= -0.6)   )] \n",
    "bin7 = concatenate.loc[(concatenate['pt'] < 0.7) & (concatenate['pt'] >= 0.6)]\n",
    "list1.append(bin7.shape[0])\n",
    "list2.append( sum((bin7.predict == 0))/(bin7.shape[0]) )"
   ]
  },
  {
   "cell_type": "code",
   "execution_count": 10,
   "id": "aa019235",
   "metadata": {},
   "outputs": [],
   "source": [
    "#bin8 = concatenate.loc[  ((concatenate['pt'] < 0.8) & (concatenate['pt'] >= 0.7) ) | ( (concatenate['pt'] > -0.8) & (concatenate['pt'] <= -0.7)    )]\n",
    "bin8 = concatenate.loc[(concatenate['pt'] < 0.8) & (concatenate['pt'] >= 0.7)]\n",
    "list1.append(bin8.shape[0])\n",
    "list2.append( sum((bin8.predict == 0))/(bin8.shape[0]) )"
   ]
  },
  {
   "cell_type": "code",
   "execution_count": 11,
   "id": "b4aadb30",
   "metadata": {},
   "outputs": [],
   "source": [
    "#bin9 = concatenate.loc[  ((concatenate['pt'] < 0.9) & (concatenate['pt'] >= 0.8) ) | ( (concatenate['pt'] > -0.9) & (concatenate['pt'] <= -0.8)   )] \n",
    "bin9 = concatenate.loc[(concatenate['pt'] < 0.9) & (concatenate['pt'] >= 0.8)]\n",
    "list1.append(bin9.shape[0])\n",
    "list2.append( sum((bin9.predict == 0))/(bin9.shape[0]) )"
   ]
  },
  {
   "cell_type": "code",
   "execution_count": 12,
   "id": "4cd51008",
   "metadata": {},
   "outputs": [],
   "source": [
    "#bin10 = concatenate.loc[  ((concatenate['pt'] < 1.0) & (concatenate['pt'] >= 0.9) ) | ( (concatenate['pt'] > -1.0) & (concatenate['pt'] <= -0.9)    )]\n",
    "bin10 = concatenate.loc[(concatenate['pt'] < 1.0) & (concatenate['pt'] >= 0.9)]\n",
    "list1.append(bin10.shape[0])\n",
    "list2.append( sum((bin10.predict == 0))/(bin10.shape[0]) )"
   ]
  },
  {
   "cell_type": "code",
   "execution_count": 13,
   "id": "a4100412",
   "metadata": {},
   "outputs": [],
   "source": [
    "#bin11 = concatenate.loc[  ((concatenate['pt'] < 1.1) & (concatenate['pt'] >= 1.0) ) | ( (concatenate['pt'] > -1.1) & (concatenate['pt'] <= -1.0)    )]\n",
    "bin11 = concatenate.loc[(concatenate['pt'] < 1.1) & (concatenate['pt'] >= 1.0)]\n",
    "list1.append(bin11.shape[0])\n",
    "list2.append( sum((bin11.predict == 0))/(bin11.shape[0]) )"
   ]
  },
  {
   "cell_type": "code",
   "execution_count": 14,
   "id": "0aa13844",
   "metadata": {},
   "outputs": [],
   "source": [
    "#bin12 = concatenate.loc[  ((concatenate['pt'] < 1.2) & (concatenate['pt'] >= 1.1) ) | ( (concatenate['pt'] > -1.2) & (concatenate['pt'] <= -1.1)    )]\n",
    "bin12 = concatenate.loc[(concatenate['pt'] < 1.2) & (concatenate['pt'] >= 1.1)]\n",
    "list1.append(bin12.shape[0])\n",
    "list2.append( sum((bin12.predict == 0))/(bin12.shape[0]) )"
   ]
  },
  {
   "cell_type": "code",
   "execution_count": 15,
   "id": "d19d024a",
   "metadata": {},
   "outputs": [],
   "source": [
    "#bin13 = concatenate.loc[  ((concatenate['pt'] < 1.3) & (concatenate['pt'] >= 1.2) ) | ( (concatenate['pt'] > -1.3) & (concatenate['pt'] <= -1.2)    )]\n",
    "bin13 = concatenate.loc[(concatenate['pt'] < 1.3) & (concatenate['pt'] >= 1.2)]\n",
    "list1.append(bin13.shape[0])\n",
    "list2.append( sum((bin13.predict == 0))/(bin13.shape[0]) )"
   ]
  },
  {
   "cell_type": "code",
   "execution_count": 16,
   "id": "486ddfc8",
   "metadata": {},
   "outputs": [],
   "source": [
    "#bin14 = concatenate.loc[  ((concatenate['pt'] < 1.4) & (concatenate['pt'] >= 1.3) ) | ( (concatenate['pt'] > -1.4) & (concatenate['pt'] <= -1.3)    )]\n",
    "bin14 = concatenate.loc[(concatenate['pt'] < 1.4) & (concatenate['pt'] >= 1.3)]\n",
    "list1.append(bin14.shape[0])\n",
    "list2.append( sum((bin14.predict == 0))/(bin14.shape[0]) )"
   ]
  },
  {
   "cell_type": "code",
   "execution_count": 17,
   "id": "54acccab",
   "metadata": {},
   "outputs": [],
   "source": [
    "#bin15 = concatenate.loc[  ((concatenate['pt'] < 1.5) & (concatenate['pt'] >= 1.4) ) | ( (concatenate['pt'] > -1.5) & (concatenate['pt'] <= -1.4)   )] \n",
    "bin15 = concatenate.loc[(concatenate['pt'] < 1.5) & (concatenate['pt'] >= 1.4)]\n",
    "list1.append(bin15.shape[0])\n",
    "list2.append( sum((bin15.predict == 0))/(bin15.shape[0]) )"
   ]
  },
  {
   "cell_type": "code",
   "execution_count": 18,
   "id": "848dddd1",
   "metadata": {},
   "outputs": [],
   "source": [
    "#bin16 = concatenate.loc[  ((concatenate['pt'] < 1.6) & (concatenate['pt'] >= 1.5) ) | ( (concatenate['pt'] > -1.6) & (concatenate['pt'] <= -1.5)   )] \n",
    "bin16 = concatenate.loc[(concatenate['pt'] < 1.6) & (concatenate['pt'] >= 1.5)]\n",
    "list1.append(bin16.shape[0])\n",
    "list2.append( sum((bin16.predict == 0))/(bin16.shape[0]) )"
   ]
  },
  {
   "cell_type": "code",
   "execution_count": 19,
   "id": "7cbdca93",
   "metadata": {},
   "outputs": [],
   "source": [
    "#bin17 = concatenate.loc[  ((concatenate['pt'] < 1.7) & (concatenate['pt'] >= 1.6) ) | ( (concatenate['pt'] > -1.7) & (concatenate['pt'] <= -1.6)    )]\n",
    "bin17 = concatenate.loc[(concatenate['pt'] < 1.7) & (concatenate['pt'] >= 1.6)]\n",
    "list1.append(bin17.shape[0])\n",
    "list2.append( sum((bin17.predict == 0))/(bin17.shape[0]) )"
   ]
  },
  {
   "cell_type": "code",
   "execution_count": 20,
   "id": "9e938f8d",
   "metadata": {},
   "outputs": [],
   "source": [
    "#bin18 = concatenate.loc[  ((concatenate['pt'] < 1.8) & (concatenate['pt'] >= 1.7) ) | ( (concatenate['pt'] > -1.8) & (concatenate['pt'] <= -1.7)    )]\n",
    "bin18 = concatenate.loc[(concatenate['pt'] < 1.8) & (concatenate['pt'] >= 1.7)]\n",
    "list1.append(bin18.shape[0])\n",
    "list2.append( sum((bin18.predict == 0))/(bin18.shape[0]) )"
   ]
  },
  {
   "cell_type": "code",
   "execution_count": 21,
   "id": "5a38e2e2",
   "metadata": {},
   "outputs": [],
   "source": [
    "#bin19 = concatenate.loc[  ((concatenate['pt'] < 1.9) & (concatenate['pt'] >= 1.8) ) | ( (concatenate['pt'] > -1.9) & (concatenate['pt'] <= -1.8)   )] \n",
    "bin19 = concatenate.loc[(concatenate['pt'] < 1.9) & (concatenate['pt'] >= 1.8)]\n",
    "list1.append(bin19.shape[0])\n",
    "list2.append( sum((bin19.predict == 0))/(bin19.shape[0]) )"
   ]
  },
  {
   "cell_type": "code",
   "execution_count": 22,
   "id": "616b9d08",
   "metadata": {},
   "outputs": [],
   "source": [
    "#bin20 = concatenate.loc[  ((concatenate['pt'] < 2.0) & (concatenate['pt'] >= 1.9) ) | ( (concatenate['pt'] > -2.0) & (concatenate['pt'] <= -1.9)    )]\n",
    "bin20 = concatenate.loc[(concatenate['pt'] < 2.0) & (concatenate['pt'] >= 1.9)]\n",
    "list1.append(bin20.shape[0])\n",
    "list2.append( sum((bin20.predict == 0))/(bin20.shape[0]) )"
   ]
  },
  {
   "cell_type": "code",
   "execution_count": 23,
   "id": "3c5b4fe4",
   "metadata": {},
   "outputs": [],
   "source": [
    "#bin21 = concatenate.loc[  ((concatenate['pt'] < 2.1) & (concatenate['pt'] >= 2.0) ) | ( (concatenate['pt'] > -2.1) & (concatenate['pt'] <= -2.0)    )]\n",
    "bin21 = concatenate.loc[(concatenate['pt'] < 2.1) & (concatenate['pt'] >= 2.0)]\n",
    "list1.append(bin21.shape[0])\n",
    "list2.append( sum((bin21.predict == 0))/(bin21.shape[0]) )"
   ]
  },
  {
   "cell_type": "code",
   "execution_count": 24,
   "id": "6adff419",
   "metadata": {},
   "outputs": [],
   "source": [
    "#bin22 = concatenate.loc[  ((concatenate['pt'] < 2.2) & (concatenate['pt'] >= 2.1) ) | ( (concatenate['pt'] > -2.2) & (concatenate['pt'] <= -2.1)    )]\n",
    "bin22 = concatenate.loc[(concatenate['pt'] < 2.2) & (concatenate['pt'] >= 2.1)]\n",
    "list1.append(bin22.shape[0])\n",
    "list2.append( sum((bin22.predict == 0))/(bin22.shape[0]) )"
   ]
  },
  {
   "cell_type": "code",
   "execution_count": 25,
   "id": "a33abf95",
   "metadata": {},
   "outputs": [],
   "source": [
    "#bin23 = concatenate.loc[  ((concatenate['pt'] < 2.3) & (concatenate['pt'] >= 2.2) ) | ( (concatenate['pt'] > -2.3) & (concatenate['pt'] <= -2.2)    )]\n",
    "bin23 = concatenate.loc[(concatenate['pt'] < 2.3) & (concatenate['pt'] >= 2.2)]\n",
    "list1.append(bin23.shape[0])\n",
    "list2.append( sum((bin23.predict == 0))/(bin23.shape[0]) )"
   ]
  },
  {
   "cell_type": "code",
   "execution_count": 26,
   "id": "a97f0784",
   "metadata": {},
   "outputs": [],
   "source": [
    "#bin24 = concatenate.loc[  ((concatenate['pt'] < 2.4) & (concatenate['pt'] >= 2.3) ) | ( (concatenate['pt'] > -2.4) & (concatenate['pt'] <= -2.3)    )]\n",
    "bin24 = concatenate.loc[(concatenate['pt'] < 2.4) & (concatenate['pt'] >= 2.3)]\n",
    "list1.append(bin24.shape[0])\n",
    "list2.append( sum((bin24.predict == 0))/(bin24.shape[0]) )"
   ]
  },
  {
   "cell_type": "code",
   "execution_count": 27,
   "id": "75638980",
   "metadata": {},
   "outputs": [],
   "source": [
    "#bin25 = concatenate.loc[  ((concatenate['pt'] < 2.5) & (concatenate['pt'] >= 2.4) ) | ( (concatenate['pt'] > -2.5) & (concatenate['pt'] <= -2.4)    )]\n",
    "bin25 = concatenate.loc[(concatenate['pt'] < 2.5) & (concatenate['pt'] >= 2.4)]\n",
    "list1.append(bin25.shape[0])\n",
    "list2.append( sum((bin25.predict == 0))/(bin25.shape[0]) )"
   ]
  },
  {
   "cell_type": "code",
   "execution_count": 28,
   "id": "c484f364",
   "metadata": {},
   "outputs": [],
   "source": [
    "#bin26 = concatenate.loc[  ((concatenate['pt'] < 2.6) & (concatenate['pt'] >= 2.5) ) | ( (concatenate['pt'] > -2.6) & (concatenate['pt'] <= -2.5)    )]\n",
    "bin26 = concatenate.loc[(concatenate['pt'] < 2.6) & (concatenate['pt'] >= 2.5)]\n",
    "list1.append(bin26.shape[0])\n",
    "list2.append( sum((bin26.predict == 0))/(bin26.shape[0]) )"
   ]
  },
  {
   "cell_type": "code",
   "execution_count": 29,
   "id": "1e624d6c",
   "metadata": {},
   "outputs": [],
   "source": [
    "#bin27 = concatenate.loc[  ((concatenate['pt'] < 2.7) & (concatenate['pt'] >= 2.6) ) | ( (concatenate['pt'] > -2.7) & (concatenate['pt'] <= -2.6)    )]\n",
    "bin27 = concatenate.loc[(concatenate['pt'] < 2.7) & (concatenate['pt'] >= 2.6)]\n",
    "list1.append(bin27.shape[0])\n",
    "list2.append( sum((bin27.predict == 0))/(bin27.shape[0]) )"
   ]
  },
  {
   "cell_type": "code",
   "execution_count": 30,
   "id": "c4336d6c",
   "metadata": {},
   "outputs": [],
   "source": [
    "#bin28 = concatenate.loc[  ((concatenate['pt'] < 2.8) & (concatenate['pt'] >= 2.7) ) | ( (concatenate['pt'] > -2.8) & (concatenate['pt'] <= -2.7)    )]\n",
    "bin28 = concatenate.loc[(concatenate['pt'] < 2.8) & (concatenate['pt'] >= 2.7)]\n",
    "list1.append(bin28.shape[0])\n",
    "list2.append( sum((bin28.predict == 0))/(bin28.shape[0]) )"
   ]
  },
  {
   "cell_type": "code",
   "execution_count": 31,
   "id": "1f97abf0",
   "metadata": {},
   "outputs": [],
   "source": [
    "#bin29 = concatenate.loc[  ((concatenate['pt'] < 2.9) & (concatenate['pt'] >= 2.8) ) | ( (concatenate['pt'] > -2.9) & (concatenate['pt'] <= -2.8)    )]\n",
    "bin29 = concatenate.loc[(concatenate['pt'] < 2.9) & (concatenate['pt'] >= 2.8)]\n",
    "list1.append(bin29.shape[0])\n",
    "list2.append( sum((bin29.predict == 0))/(bin29.shape[0]) )"
   ]
  },
  {
   "cell_type": "code",
   "execution_count": 32,
   "id": "9ff6155b",
   "metadata": {},
   "outputs": [],
   "source": [
    "#bin30 = concatenate.loc[  ((concatenate['pt'] < 3.0) & (concatenate['pt'] >= 2.9) ) | ( (concatenate['pt'] > -3.0) & (concatenate['pt'] <= -2.9)    )]\n",
    "bin30 = concatenate.loc[(concatenate['pt'] < 3.0) & (concatenate['pt'] >= 2.9)]\n",
    "list1.append(bin30.shape[0])\n",
    "list2.append( sum((bin30.predict == 0))/(bin30.shape[0]) )"
   ]
  },
  {
   "cell_type": "code",
   "execution_count": 33,
   "id": "681ff24e",
   "metadata": {},
   "outputs": [],
   "source": [
    "#bin31 = concatenate.loc[  ((concatenate['pt'] < 3.1) & (concatenate['pt'] >= 3.0) ) | ( (concatenate['pt'] > -3.1) & (concatenate['pt'] <= -3.0)    )]\n",
    "bin31 = concatenate.loc[(concatenate['pt'] < 3.1) & (concatenate['pt'] >= 3.0)]\n",
    "list1.append(bin31.shape[0])\n",
    "list2.append( sum((bin31.predict == 0))/(bin31.shape[0]) )"
   ]
  },
  {
   "cell_type": "code",
   "execution_count": 34,
   "id": "30faa122",
   "metadata": {},
   "outputs": [],
   "source": [
    "#bin32 = concatenate.loc[  ((concatenate['pt'] < 3.2) & (concatenate['pt'] >= 3.1) ) | ( (concatenate['pt'] > -3.2) & (concatenate['pt'] <= -3.1)    )]\n",
    "bin32 = concatenate.loc[(concatenate['pt'] < 3.2) & (concatenate['pt'] >= 3.1)]\n",
    "list1.append(bin32.shape[0])\n",
    "list2.append( sum((bin32.predict == 0))/(bin32.shape[0]) )"
   ]
  },
  {
   "cell_type": "code",
   "execution_count": 35,
   "id": "d443c236",
   "metadata": {},
   "outputs": [],
   "source": [
    "#bin33 = concatenate.loc[  ((concatenate['pt'] < 3.3) & (concatenate['pt'] >= 3.2) ) | ( (concatenate['pt'] > -3.3) & (concatenate['pt'] <= -3.2)    )]\n",
    "bin33 = concatenate.loc[(concatenate['pt'] < 3.3) & (concatenate['pt'] >= 3.2)]\n",
    "list1.append(bin33.shape[0])\n",
    "list2.append( sum((bin33.predict == 0))/(bin33.shape[0]) )"
   ]
  },
  {
   "cell_type": "code",
   "execution_count": 36,
   "id": "05c943af",
   "metadata": {},
   "outputs": [],
   "source": [
    "#bin34 = concatenate.loc[  ((concatenate['pt'] < 3.4) & (concatenate['pt'] >= 3.3) ) | ( (concatenate['pt'] > -3.4) & (concatenate['pt'] <= -3.3)    )]\n",
    "bin34 = concatenate.loc[(concatenate['pt'] < 3.4) & (concatenate['pt'] >= 3.3)]\n",
    "list1.append(bin34.shape[0])\n",
    "list2.append( sum((bin34.predict == 0))/(bin34.shape[0]) )"
   ]
  },
  {
   "cell_type": "code",
   "execution_count": 37,
   "id": "7da84192",
   "metadata": {},
   "outputs": [],
   "source": [
    "#bin35 = concatenate.loc[  ((concatenate['pt'] < 3.5) & (concatenate['pt'] >= 3.4) ) | ( (concatenate['pt'] > -3.5) & (concatenate['pt'] <= -3.4)    )]\n",
    "bin35 = concatenate.loc[(concatenate['pt'] < 3.5) & (concatenate['pt'] >= 3.4)]\n",
    "list1.append(bin35.shape[0])\n",
    "list2.append( sum((bin35.predict == 0))/(bin35.shape[0]) )"
   ]
  },
  {
   "cell_type": "code",
   "execution_count": 38,
   "id": "41cfbc82",
   "metadata": {},
   "outputs": [],
   "source": [
    "#bin36 = concatenate.loc[  ((concatenate['pt'] < 3.6) & (concatenate['pt'] >= 3.5) ) | ( (concatenate['pt'] > -3.6) & (concatenate['pt'] <= -3.5)    )]\n",
    "bin36 = concatenate.loc[(concatenate['pt'] < 3.6) & (concatenate['pt'] >= 3.5)]\n",
    "list1.append(bin36.shape[0])\n",
    "list2.append( sum((bin36.predict == 0))/(bin36.shape[0]) )"
   ]
  },
  {
   "cell_type": "code",
   "execution_count": 39,
   "id": "2c91e2f3",
   "metadata": {},
   "outputs": [],
   "source": [
    "#bin37 = concatenate.loc[  ((concatenate['pt'] < 3.7) & (concatenate['pt'] >= 3.6) ) | ( (concatenate['pt'] > -3.7) & (concatenate['pt'] <= -3.6)    )]\n",
    "bin37 = concatenate.loc[(concatenate['pt'] < 3.7) & (concatenate['pt'] >= 3.6)]\n",
    "list1.append(bin37.shape[0])\n",
    "list2.append( sum((bin37.predict == 0))/(bin37.shape[0]) )"
   ]
  },
  {
   "cell_type": "code",
   "execution_count": 40,
   "id": "fff90877",
   "metadata": {},
   "outputs": [],
   "source": [
    "#bin38 = concatenate.loc[  ((concatenate['pt'] < 3.8) & (concatenate['pt'] >= 3.7) ) | ( (concatenate['pt'] > -3.8) & (concatenate['pt'] <= -3.7)    )]\n",
    "bin38 = concatenate.loc[(concatenate['pt'] < 3.8) & (concatenate['pt'] >= 3.7)]\n",
    "list1.append(bin38.shape[0])\n",
    "list2.append( sum((bin38.predict == 0))/(bin38.shape[0]) )"
   ]
  },
  {
   "cell_type": "code",
   "execution_count": 41,
   "id": "1ad33b2d",
   "metadata": {},
   "outputs": [],
   "source": [
    "#bin39 = concatenate.loc[  ((concatenate['pt'] < 3.9) & (concatenate['pt'] >= 3.8) ) | ( (concatenate['pt'] > -3.9) & (concatenate['pt'] <= -3.8)    )]\n",
    "bin39 = concatenate.loc[(concatenate['pt'] < 3.9) & (concatenate['pt'] >= 3.8)]\n",
    "list1.append(bin39.shape[0])\n",
    "list2.append( sum((bin39.predict == 0))/(bin39.shape[0]) )"
   ]
  },
  {
   "cell_type": "code",
   "execution_count": 42,
   "id": "12133e8d",
   "metadata": {},
   "outputs": [],
   "source": [
    "#bin40 = concatenate.loc[  ((concatenate['pt'] < 4.0) & (concatenate['pt'] >= 3.9) ) | ( (concatenate['pt'] > -4.0) & (concatenate['pt'] <= -3.9)    )]\n",
    "bin40 = concatenate.loc[(concatenate['pt'] < 4.0) & (concatenate['pt'] >= 3.9)]\n",
    "list1.append(bin40.shape[0])\n",
    "list2.append( sum((bin40.predict == 0))/(bin40.shape[0]) )"
   ]
  },
  {
   "cell_type": "code",
   "execution_count": 43,
   "id": "fa2258a9",
   "metadata": {},
   "outputs": [],
   "source": [
    "#bin41 = concatenate.loc[  ((concatenate['pt'] < 4.1) & (concatenate['pt'] >= 4.0) ) | ( (concatenate['pt'] > -4.1) & (concatenate['pt'] <= -4.0)    )]\n",
    "bin41 = concatenate.loc[(concatenate['pt'] < 4.1) & (concatenate['pt'] >= 4.0)]\n",
    "list1.append(bin41.shape[0])\n",
    "list2.append( sum((bin41.predict == 0))/(bin41.shape[0]) )"
   ]
  },
  {
   "cell_type": "code",
   "execution_count": 44,
   "id": "f23297f8",
   "metadata": {},
   "outputs": [],
   "source": [
    "#bin42 = concatenate.loc[  ((concatenate['pt'] < 4.2) & (concatenate['pt'] >= 4.1) ) | ( (concatenate['pt'] > -4.2) & (concatenate['pt'] <= -4.1)    )]\n",
    "bin42 = concatenate.loc[(concatenate['pt'] < 4.2) & (concatenate['pt'] >= 4.1)]\n",
    "list1.append(bin42.shape[0])\n",
    "list2.append( sum((bin42.predict == 0))/(bin42.shape[0]) )"
   ]
  },
  {
   "cell_type": "code",
   "execution_count": 45,
   "id": "b135f29f",
   "metadata": {},
   "outputs": [],
   "source": [
    "#bin43 = concatenate.loc[  ((concatenate['pt'] < 4.3) & (concatenate['pt'] >= 4.2) ) | ( (concatenate['pt'] > -4.3) & (concatenate['pt'] <= -4.2)    )]\n",
    "bin43 = concatenate.loc[(concatenate['pt'] < 4.3) & (concatenate['pt'] >= 4.2)]\n",
    "list1.append(bin43.shape[0])\n",
    "list2.append( sum((bin43.predict == 0))/(bin43.shape[0]) )"
   ]
  },
  {
   "cell_type": "code",
   "execution_count": 46,
   "id": "bbe9c3f1",
   "metadata": {},
   "outputs": [],
   "source": [
    "#bin44 = concatenate.loc[  ((concatenate['pt'] < 4.4) & (concatenate['pt'] >= 4.3) ) | ( (concatenate['pt'] > -4.4) & (concatenate['pt'] <= -4.3)  )]\n",
    "bin44 = concatenate.loc[(concatenate['pt'] < 4.4) & (concatenate['pt'] >= 4.3)]\n",
    "list1.append(bin44.shape[0])\n",
    "list2.append( sum((bin44.predict == 0))/(bin44.shape[0]) )"
   ]
  },
  {
   "cell_type": "code",
   "execution_count": 47,
   "id": "b65e5b1f",
   "metadata": {},
   "outputs": [],
   "source": [
    "#bin45 = concatenate.loc[  ((concatenate['pt'] < 4.5) & (concatenate['pt'] >= 4.4) ) | ( (concatenate['pt'] > -4.5) & (concatenate['pt'] <= -4.4)    )]\n",
    "bin45 = concatenate.loc[(concatenate['pt'] < 4.5) & (concatenate['pt'] >= 4.4)]\n",
    "list1.append(bin45.shape[0])\n",
    "list2.append( sum((bin45.predict == 0))/(bin45.shape[0]) )"
   ]
  },
  {
   "cell_type": "code",
   "execution_count": 48,
   "id": "16d4e096",
   "metadata": {},
   "outputs": [],
   "source": [
    "#bin46 = concatenate.loc[  ((concatenate['pt'] < 4.6) & (concatenate['pt'] >= 4.5) ) | ( (concatenate['pt'] > -4.6) & (concatenate['pt'] <= -4.5)    )]\n",
    "bin46 = concatenate.loc[(concatenate['pt'] < 4.6) & (concatenate['pt'] >= 4.5)]\n",
    "list1.append(bin46.shape[0])\n",
    "list2.append( sum((bin46.predict == 0))/(bin46.shape[0]) )"
   ]
  },
  {
   "cell_type": "code",
   "execution_count": 49,
   "id": "9d529060",
   "metadata": {},
   "outputs": [],
   "source": [
    "#bin47 = concatenate.loc[  ((concatenate['pt'] < 4.7) & (concatenate['pt'] >= 4.6) ) | ( (concatenate['pt'] > -4.7) & (concatenate['pt'] <= -4.6)    )]\n",
    "bin47 = concatenate.loc[(concatenate['pt'] < 4.7) & (concatenate['pt'] >= 4.6)]\n",
    "list1.append(bin47.shape[0])\n",
    "list2.append( sum((bin47.predict == 0))/(bin47.shape[0]) )"
   ]
  },
  {
   "cell_type": "code",
   "execution_count": 50,
   "id": "ebfe6a27",
   "metadata": {},
   "outputs": [],
   "source": [
    "#bin48 = concatenate.loc[  ((concatenate['pt'] < 4.8) & (concatenate['pt'] >= 4.7) ) | ( (concatenate['pt'] > -4.8) & (concatenate['pt'] <= -4.7)    )]\n",
    "bin48 = concatenate.loc[(concatenate['pt'] < 4.8) & (concatenate['pt'] >= 4.7)]\n",
    "list1.append(bin48.shape[0])\n",
    "list2.append( sum((bin48.predict == 0))/(bin48.shape[0]) )"
   ]
  },
  {
   "cell_type": "code",
   "execution_count": 51,
   "id": "f00ce7da",
   "metadata": {},
   "outputs": [],
   "source": [
    "#bin49 = concatenate.loc[  ((concatenate['pt'] < 4.9) & (concatenate['pt'] >= 4.8) ) | ( (concatenate['pt'] > -4.9) & (concatenate['pt'] <= -4.8)    )]\n",
    "bin49 = concatenate.loc[(concatenate['pt'] < 4.9) & (concatenate['pt'] >= 4.8)]\n",
    "list1.append(bin49.shape[0])\n",
    "list2.append( sum((bin49.predict == 0))/(bin49.shape[0]) )"
   ]
  },
  {
   "cell_type": "code",
   "execution_count": 52,
   "id": "1135172b",
   "metadata": {},
   "outputs": [],
   "source": [
    "#bin50 = concatenate.loc[  ((concatenate['pt'] < 5.0) & (concatenate['pt'] >= 4.9) ) | ( (concatenate['pt'] > -5.0) & (concatenate['pt'] <= -4.9)    )]\n",
    "bin50 = concatenate.loc[(concatenate['pt'] < 5.0) & (concatenate['pt'] >= 4.9)]\n",
    "list1.append(bin50.shape[0])\n",
    "list2.append( sum((bin50.predict == 0))/(bin50.shape[0]) )"
   ]
  },
  {
   "cell_type": "code",
   "execution_count": 53,
   "id": "53a6720b",
   "metadata": {},
   "outputs": [
    {
     "data": {
      "text/plain": [
       "50"
      ]
     },
     "execution_count": 53,
     "metadata": {},
     "output_type": "execute_result"
    }
   ],
   "source": [
    "len(list2)"
   ]
  },
  {
   "cell_type": "code",
   "execution_count": 54,
   "id": "c18d2ae2",
   "metadata": {},
   "outputs": [],
   "source": [
    "#xvalues = [0,0.1,0.2,0.3,0.4,0.5,0.6,0.7,0.8,0.9,1.0,1.1,1.2,1.3,1.4,1.5,1.6,1.7,1.8,1.9,2.0,2.1,2.2,2.3,2.4,2.5,2.6,2.7,2.8,2.9,3.0,3.1,3.2,3.3,3.4,3.5,3.6,3.7,3.8,3.9,4.0,4.1,4.2,4.3,4.4,4.5,4.6,4.7,4.8,4.9]"
   ]
  },
  {
   "cell_type": "code",
   "execution_count": 55,
   "id": "1226dcbf-6f37-4af7-beca-083432722c90",
   "metadata": {},
   "outputs": [
    {
     "data": {
      "text/plain": [
       "array([[0.01801802, 0.20401311, 0.44066937, 0.6340297 , 0.7555668 ,\n",
       "        0.8134941 , 0.83917683, 0.86281588, 0.86916367, 0.87351779,\n",
       "        0.88618647, 0.89190267, 0.89092762, 0.90029326, 0.90068755,\n",
       "        0.90254609, 0.8984127 , 0.91192412, 0.89640288, 0.92055268,\n",
       "        0.91067538, 0.92051282, 0.91616766, 0.89179104, 0.90513834,\n",
       "        0.95964126, 0.93023256, 0.93918919, 0.94244604, 0.9516129 ,\n",
       "        0.94505495, 0.89772727, 0.91428571, 0.95522388, 0.8627451 ,\n",
       "        0.93181818, 0.89189189, 0.9       , 0.93548387, 0.96875   ,\n",
       "        0.96296296, 0.88888889, 0.82352941, 0.81818182, 0.9       ,\n",
       "        1.        , 0.88235294, 0.90909091, 1.        , 0.92307692]])"
      ]
     },
     "execution_count": 55,
     "metadata": {},
     "output_type": "execute_result"
    }
   ],
   "source": [
    "y_values=np.array([list2])\n",
    "y_values"
   ]
  },
  {
   "cell_type": "code",
   "execution_count": 56,
   "id": "55987a53-1b86-4183-8d7f-7c9483602f00",
   "metadata": {},
   "outputs": [
    {
     "data": {
      "text/plain": [
       "array([[ 111,  111, 3944, 3973, 3952, 3898, 3936, 3878, 3898, 4048, 3207,\n",
       "        2507, 1962, 1705, 1309, 1139,  945,  738,  695,  579,  459,  390,\n",
       "         334,  268,  253,  223,  172,  148,  139,  124,   91,   88,   70,\n",
       "          67,   51,   44,   37,   40,   31,   32,   27,   27,   17,   22,\n",
       "          10,   13,   17,   11,   18,   13]])"
      ]
     },
     "execution_count": 56,
     "metadata": {},
     "output_type": "execute_result"
    }
   ],
   "source": [
    "x_values=np.array([list1])\n",
    "x_values"
   ]
  },
  {
   "cell_type": "code",
   "execution_count": 57,
   "id": "afe981a3-1c27-4b86-9954-6bd7d8c0b11b",
   "metadata": {},
   "outputs": [
    {
     "data": {
      "text/plain": [
       "array([[0.01262536, 0.03824904, 0.00790537, 0.0076422 , 0.00683609,\n",
       "        0.00623882, 0.00585563, 0.00552468, 0.00540125, 0.00522433,\n",
       "        0.00560803, 0.00620139, 0.00703767, 0.00725591, 0.00826645,\n",
       "        0.00878764, 0.00982747, 0.01043229, 0.01155934, 0.01123892,\n",
       "        0.01331254, 0.01369718, 0.01516422, 0.01897561, 0.01842225,\n",
       "        0.01317865, 0.01942486, 0.01964428, 0.01975415, 0.01927011,\n",
       "        0.02388758, 0.03230062, 0.03345943, 0.02526611, 0.04818591,\n",
       "        0.03799912, 0.05104866, 0.04743416, 0.04412365, 0.03075784,\n",
       "        0.03634469, 0.06048123, 0.09245944, 0.08223037, 0.09486833,\n",
       "        0.        , 0.07814249, 0.08667842, 0.        , 0.0739053 ]])"
      ]
     },
     "execution_count": 57,
     "metadata": {},
     "output_type": "execute_result"
    }
   ],
   "source": [
    "first = y_values*(1-y_values)\n",
    "second = first/x_values\n",
    "errors = np.sqrt(second)\n",
    "errors"
   ]
  },
  {
   "cell_type": "code",
   "execution_count": 58,
   "id": "de22f256-41c1-4318-9faf-09219463c856",
   "metadata": {},
   "outputs": [],
   "source": [
    "np.savetxt('PositiveYValues.out',y_values, delimiter=',')\n",
    "np.savetxt('errorsPositive.out', errors, delimiter=',')"
   ]
  }
 ],
 "metadata": {
  "kernelspec": {
   "display_name": "Python 3 (ipykernel)",
   "language": "python",
   "name": "py3-preamble"
  },
  "language_info": {
   "codemirror_mode": {
    "name": "ipython",
    "version": 3
   },
   "file_extension": ".py",
   "mimetype": "text/x-python",
   "name": "python",
   "nbconvert_exporter": "python",
   "pygments_lexer": "ipython3",
   "version": "3.9.13"
  }
 },
 "nbformat": 4,
 "nbformat_minor": 5
}
