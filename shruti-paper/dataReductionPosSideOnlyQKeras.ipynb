{
 "cells": [
  {
   "cell_type": "code",
   "execution_count": 1,
   "id": "6680cbec-9c42-4716-ba8f-a8ef2031438d",
   "metadata": {},
   "outputs": [],
   "source": [
    "import matplotlib\n",
    "import matplotlib.pyplot as plt\n",
    "#from labellines import labelLine, labelLines\n",
    "import seaborn as sns\n",
    "import os\n",
    "import pandas as pd\n",
    "import glob\n",
    "import numpy as np"
   ]
  },
  {
   "cell_type": "code",
   "execution_count": 2,
   "id": "f0b0240c-f48b-4edb-8d70-3e2e34e106a7",
   "metadata": {},
   "outputs": [],
   "source": [
    "path = '/uscms/home/jieun201/nobackup/YOURWORKINGAREA/june23_ds8_labelsOnly'\n",
    "csv_files = glob.glob(path + \"/*.csv\")\n",
    "df_labels = (pd.read_csv(file) for file in csv_files)\n",
    "big_df_labels   = pd.concat(df_labels, ignore_index=True)"
   ]
  },
  {
   "cell_type": "code",
   "execution_count": 3,
   "id": "deac7d64-98d0-47a6-a194-7d671f059993",
   "metadata": {},
   "outputs": [
    {
     "data": {
      "text/html": [
       "<div>\n",
       "<style scoped>\n",
       "    .dataframe tbody tr th:only-of-type {\n",
       "        vertical-align: middle;\n",
       "    }\n",
       "\n",
       "    .dataframe tbody tr th {\n",
       "        vertical-align: top;\n",
       "    }\n",
       "\n",
       "    .dataframe thead th {\n",
       "        text-align: right;\n",
       "    }\n",
       "</style>\n",
       "<table border=\"1\" class=\"dataframe\">\n",
       "  <thead>\n",
       "    <tr style=\"text-align: right;\">\n",
       "      <th></th>\n",
       "      <th>x-entry</th>\n",
       "      <th>y-entry</th>\n",
       "      <th>z-entry</th>\n",
       "      <th>n_x</th>\n",
       "      <th>n_y</th>\n",
       "      <th>n_z</th>\n",
       "      <th>number_eh_pairs</th>\n",
       "      <th>y-local</th>\n",
       "      <th>pt</th>\n",
       "      <th>cotAlpha</th>\n",
       "      <th>cotBeta</th>\n",
       "      <th>y-midplane</th>\n",
       "      <th>x-midplane</th>\n",
       "    </tr>\n",
       "  </thead>\n",
       "  <tbody>\n",
       "    <tr>\n",
       "      <th>0</th>\n",
       "      <td>12.063666</td>\n",
       "      <td>30.923424</td>\n",
       "      <td>100.0</td>\n",
       "      <td>0.768970</td>\n",
       "      <td>-0.160933</td>\n",
       "      <td>-0.634940</td>\n",
       "      <td>10034.0</td>\n",
       "      <td>-6.94104</td>\n",
       "      <td>0.656019</td>\n",
       "      <td>-1.211091</td>\n",
       "      <td>0.253462</td>\n",
       "      <td>18.250337</td>\n",
       "      <td>72.618207</td>\n",
       "    </tr>\n",
       "    <tr>\n",
       "      <th>1</th>\n",
       "      <td>67.455246</td>\n",
       "      <td>4.533963</td>\n",
       "      <td>100.0</td>\n",
       "      <td>-1.205132</td>\n",
       "      <td>-0.087774</td>\n",
       "      <td>-0.635886</td>\n",
       "      <td>15383.0</td>\n",
       "      <td>-4.33669</td>\n",
       "      <td>0.637776</td>\n",
       "      <td>1.895201</td>\n",
       "      <td>0.138034</td>\n",
       "      <td>-2.367746</td>\n",
       "      <td>-27.304821</td>\n",
       "    </tr>\n",
       "    <tr>\n",
       "      <th>2</th>\n",
       "      <td>-225.239441</td>\n",
       "      <td>13.836857</td>\n",
       "      <td>100.0</td>\n",
       "      <td>1.451834</td>\n",
       "      <td>-0.039285</td>\n",
       "      <td>-0.467361</td>\n",
       "      <td>26680.0</td>\n",
       "      <td>-2.67448</td>\n",
       "      <td>0.468860</td>\n",
       "      <td>-3.106451</td>\n",
       "      <td>0.084057</td>\n",
       "      <td>9.634003</td>\n",
       "      <td>-69.916896</td>\n",
       "    </tr>\n",
       "    <tr>\n",
       "      <th>3</th>\n",
       "      <td>-2.914946</td>\n",
       "      <td>11.285143</td>\n",
       "      <td>100.0</td>\n",
       "      <td>-0.110369</td>\n",
       "      <td>-0.034764</td>\n",
       "      <td>-0.554253</td>\n",
       "      <td>8183.0</td>\n",
       "      <td>-2.11685</td>\n",
       "      <td>0.555289</td>\n",
       "      <td>0.199131</td>\n",
       "      <td>0.062722</td>\n",
       "      <td>8.149030</td>\n",
       "      <td>-12.871500</td>\n",
       "    </tr>\n",
       "    <tr>\n",
       "      <th>4</th>\n",
       "      <td>286.367920</td>\n",
       "      <td>-9.845788</td>\n",
       "      <td>100.0</td>\n",
       "      <td>-3.201757</td>\n",
       "      <td>-0.015797</td>\n",
       "      <td>-0.738721</td>\n",
       "      <td>27677.0</td>\n",
       "      <td>-0.96378</td>\n",
       "      <td>0.740845</td>\n",
       "      <td>4.334190</td>\n",
       "      <td>0.021384</td>\n",
       "      <td>-10.915001</td>\n",
       "      <td>69.658432</td>\n",
       "    </tr>\n",
       "    <tr>\n",
       "      <th>...</th>\n",
       "      <td>...</td>\n",
       "      <td>...</td>\n",
       "      <td>...</td>\n",
       "      <td>...</td>\n",
       "      <td>...</td>\n",
       "      <td>...</td>\n",
       "      <td>...</td>\n",
       "      <td>...</td>\n",
       "      <td>...</td>\n",
       "      <td>...</td>\n",
       "      <td>...</td>\n",
       "      <td>...</td>\n",
       "      <td>...</td>\n",
       "    </tr>\n",
       "    <tr>\n",
       "      <th>4054839</th>\n",
       "      <td>-79.113602</td>\n",
       "      <td>7.351277</td>\n",
       "      <td>100.0</td>\n",
       "      <td>0.146580</td>\n",
       "      <td>-0.038023</td>\n",
       "      <td>-0.205342</td>\n",
       "      <td>7226.0</td>\n",
       "      <td>-3.13432</td>\n",
       "      <td>0.209310</td>\n",
       "      <td>-0.713834</td>\n",
       "      <td>0.185169</td>\n",
       "      <td>-1.907180</td>\n",
       "      <td>-43.421927</td>\n",
       "    </tr>\n",
       "    <tr>\n",
       "      <th>4054840</th>\n",
       "      <td>83.020744</td>\n",
       "      <td>13.864967</td>\n",
       "      <td>100.0</td>\n",
       "      <td>-0.943910</td>\n",
       "      <td>0.025917</td>\n",
       "      <td>-0.367944</td>\n",
       "      <td>27249.0</td>\n",
       "      <td>5.03778</td>\n",
       "      <td>0.369755</td>\n",
       "      <td>2.565363</td>\n",
       "      <td>-0.070437</td>\n",
       "      <td>17.386834</td>\n",
       "      <td>-45.247416</td>\n",
       "    </tr>\n",
       "    <tr>\n",
       "      <th>4054841</th>\n",
       "      <td>-47.450962</td>\n",
       "      <td>26.444847</td>\n",
       "      <td>100.0</td>\n",
       "      <td>-0.148263</td>\n",
       "      <td>-0.086394</td>\n",
       "      <td>-0.386804</td>\n",
       "      <td>9051.0</td>\n",
       "      <td>-5.19666</td>\n",
       "      <td>0.395818</td>\n",
       "      <td>0.383303</td>\n",
       "      <td>0.223353</td>\n",
       "      <td>15.277176</td>\n",
       "      <td>-66.616095</td>\n",
       "    </tr>\n",
       "    <tr>\n",
       "      <th>4054842</th>\n",
       "      <td>-212.548859</td>\n",
       "      <td>-10.588823</td>\n",
       "      <td>100.0</td>\n",
       "      <td>1.341313</td>\n",
       "      <td>0.009282</td>\n",
       "      <td>-0.394129</td>\n",
       "      <td>26483.0</td>\n",
       "      <td>1.97901</td>\n",
       "      <td>0.398485</td>\n",
       "      <td>-3.403233</td>\n",
       "      <td>-0.023551</td>\n",
       "      <td>-9.411290</td>\n",
       "      <td>-42.387186</td>\n",
       "    </tr>\n",
       "    <tr>\n",
       "      <th>4054843</th>\n",
       "      <td>-296.235229</td>\n",
       "      <td>-6.661979</td>\n",
       "      <td>100.0</td>\n",
       "      <td>1.546676</td>\n",
       "      <td>0.029554</td>\n",
       "      <td>-0.324567</td>\n",
       "      <td>44416.0</td>\n",
       "      <td>4.48073</td>\n",
       "      <td>0.326700</td>\n",
       "      <td>-4.765352</td>\n",
       "      <td>-0.091057</td>\n",
       "      <td>-2.109144</td>\n",
       "      <td>-57.967629</td>\n",
       "    </tr>\n",
       "  </tbody>\n",
       "</table>\n",
       "<p>4054844 rows × 13 columns</p>\n",
       "</div>"
      ],
      "text/plain": [
       "            x-entry    y-entry  z-entry       n_x       n_y       n_z  \\\n",
       "0         12.063666  30.923424    100.0  0.768970 -0.160933 -0.634940   \n",
       "1         67.455246   4.533963    100.0 -1.205132 -0.087774 -0.635886   \n",
       "2       -225.239441  13.836857    100.0  1.451834 -0.039285 -0.467361   \n",
       "3         -2.914946  11.285143    100.0 -0.110369 -0.034764 -0.554253   \n",
       "4        286.367920  -9.845788    100.0 -3.201757 -0.015797 -0.738721   \n",
       "...             ...        ...      ...       ...       ...       ...   \n",
       "4054839  -79.113602   7.351277    100.0  0.146580 -0.038023 -0.205342   \n",
       "4054840   83.020744  13.864967    100.0 -0.943910  0.025917 -0.367944   \n",
       "4054841  -47.450962  26.444847    100.0 -0.148263 -0.086394 -0.386804   \n",
       "4054842 -212.548859 -10.588823    100.0  1.341313  0.009282 -0.394129   \n",
       "4054843 -296.235229  -6.661979    100.0  1.546676  0.029554 -0.324567   \n",
       "\n",
       "         number_eh_pairs  y-local        pt  cotAlpha   cotBeta  y-midplane  \\\n",
       "0                10034.0 -6.94104  0.656019 -1.211091  0.253462   18.250337   \n",
       "1                15383.0 -4.33669  0.637776  1.895201  0.138034   -2.367746   \n",
       "2                26680.0 -2.67448  0.468860 -3.106451  0.084057    9.634003   \n",
       "3                 8183.0 -2.11685  0.555289  0.199131  0.062722    8.149030   \n",
       "4                27677.0 -0.96378  0.740845  4.334190  0.021384  -10.915001   \n",
       "...                  ...      ...       ...       ...       ...         ...   \n",
       "4054839           7226.0 -3.13432  0.209310 -0.713834  0.185169   -1.907180   \n",
       "4054840          27249.0  5.03778  0.369755  2.565363 -0.070437   17.386834   \n",
       "4054841           9051.0 -5.19666  0.395818  0.383303  0.223353   15.277176   \n",
       "4054842          26483.0  1.97901  0.398485 -3.403233 -0.023551   -9.411290   \n",
       "4054843          44416.0  4.48073  0.326700 -4.765352 -0.091057   -2.109144   \n",
       "\n",
       "         x-midplane  \n",
       "0         72.618207  \n",
       "1        -27.304821  \n",
       "2        -69.916896  \n",
       "3        -12.871500  \n",
       "4         69.658432  \n",
       "...             ...  \n",
       "4054839  -43.421927  \n",
       "4054840  -45.247416  \n",
       "4054841  -66.616095  \n",
       "4054842  -42.387186  \n",
       "4054843  -57.967629  \n",
       "\n",
       "[4054844 rows x 13 columns]"
      ]
     },
     "execution_count": 3,
     "metadata": {},
     "output_type": "execute_result"
    }
   ],
   "source": [
    "big_df_labels"
   ]
  },
  {
   "cell_type": "code",
   "execution_count": 4,
   "id": "23e36860-2f7b-498b-b942-486e0be21d3d",
   "metadata": {},
   "outputs": [],
   "source": [
    "#path = '/uscms/home/jieun201/nobackup/YOURWORKINGAREA/june23_ds8_negativeLabelsOnly'\n",
    "#csv_files2 = glob.glob(path + \"/*.csv\")\n",
    "#df_labels2 = (pd.read_csv(file) for file in csv_files2)\n",
    "#big_df_labels2   = pd.concat(df_labels2, ignore_index=True)\n",
    "#big_df_labels2"
   ]
  },
  {
   "cell_type": "code",
   "execution_count": 5,
   "id": "eba70e94-ed69-4da8-8536-74e4b1d9efb1",
   "metadata": {},
   "outputs": [],
   "source": [
    "#mergePosNeg = pd.concat([big_df_labels, big_df_labels2])\n",
    "#mergePosNeg"
   ]
  },
  {
   "cell_type": "code",
   "execution_count": 6,
   "id": "a3286cf0-a405-4de2-9851-08130a6642b9",
   "metadata": {},
   "outputs": [],
   "source": [
    "#plt.hist(mergePosNeg['pt'],bins=np.linspace(-5,5,50),histtype='stepfilled');\n",
    "#plt.xlabel(r'$p_T$ [GeV]')\n",
    "#plt.ylabel('Tracks')"
   ]
  },
  {
   "cell_type": "code",
   "execution_count": 7,
   "id": "16a657d7-ee32-4a66-824b-fe5212903165",
   "metadata": {},
   "outputs": [],
   "source": [
    "#nearZeroPT = mergePosNeg[   (mergePosNeg['pt'] > 0) & (mergePosNeg['pt'] < 0.1)]\n",
    "#nearZeroPT2 = mergePosNeg[   (mergePosNeg['pt'] > -0.1) & (mergePosNeg['pt'] < 0)]\n",
    "\n",
    "s = pd.Series(big_df_labels['pt'])\n",
    "BigSampleValueCounts = s.value_counts(bins=[0,0.1,0.2,0.3,0.4,0.5,0.6,0.7,0.8,0.9,1.0,1.1,1.2,1.3,1.4,\n",
    "                                              1.5,1.6,1.7,1.8,1.9,2.0,10]).sort_index()\n"
   ]
  },
  {
   "cell_type": "code",
   "execution_count": 8,
   "id": "d9bee647-28ed-4e34-b932-fce99b835d3c",
   "metadata": {},
   "outputs": [
    {
     "data": {
      "text/plain": [
       "4054844"
      ]
     },
     "execution_count": 8,
     "metadata": {},
     "output_type": "execute_result"
    }
   ],
   "source": [
    "TruthTotalCounts = np.array(BigSampleValueCounts)\n",
    "np.sum(TruthTotalCounts)\n",
    "\n",
    "#printed out below and saved so the early cells don't need to be run\n",
    "\n",
    "#TruthTotalCounts"
   ]
  },
  {
   "cell_type": "code",
   "execution_count": 9,
   "id": "f2f48f6d-7867-4e63-8287-95002873e432",
   "metadata": {},
   "outputs": [
    {
     "data": {
      "text/plain": [
       "array([   380, 216509, 623085, 592413, 505111, 408333, 326467, 259269,\n",
       "       200540, 166169, 131131, 105435,  85022,  69922,  57426,  47443,\n",
       "        39366,  32326,  27757,  22776, 137964])"
      ]
     },
     "execution_count": 9,
     "metadata": {},
     "output_type": "execute_result"
    }
   ],
   "source": [
    "TruthTotalCounts"
   ]
  },
  {
   "cell_type": "code",
   "execution_count": 10,
   "id": "32d997fe-6048-4161-8bbd-eee1b50986eb",
   "metadata": {},
   "outputs": [],
   "source": [
    "#df1 = pd.read_csv('/uscms/home/jieun201/nobackup/YOURWORKINGAREA/dec6_ds8/TestSetTruePT.csv')\n",
    "df1 = pd.read_csv('/uscms/home/jieun201/nobackup/YOURWORKINGAREA/shruti2/TestSetTruePT.csv')\n",
    "df2 = pd.read_csv('predictionsFiles.csv')\n",
    "df3 = pd.read_csv('true.csv')\n",
    "df2.columns.values[0] = \"predict\"\n",
    "df3.columns.values[0] = \"true\"\n",
    "df2['predict'] = df2['predict'].astype(int)\n",
    "concatenate = pd.concat([df1,df2, df3], axis=1)\n",
    "#concatenate"
   ]
  },
  {
   "cell_type": "code",
   "execution_count": 11,
   "id": "8eb5eeb6-0731-4a7a-9e49-dfd1143009fc",
   "metadata": {},
   "outputs": [
    {
     "data": {
      "text/plain": [
       "array([   82, 40678,  6706,  6404,  5383,  4182,  3395,  2762,  2133,\n",
       "        1759,  1396,  1123,   906,   781,   610,   495,   442,   349,\n",
       "         303,   254,  1377])"
      ]
     },
     "execution_count": 11,
     "metadata": {},
     "output_type": "execute_result"
    }
   ],
   "source": [
    "s2 = pd.Series(concatenate['pt'])\n",
    "BigSampleValueCounts2 = s2.value_counts(bins=[0,0.1,0.2,0.3,0.4,0.5,0.6,0.7,0.8,0.9,1.0,1.1,1.2,1.3,1.4,\n",
    "                                              1.5,1.6,1.7,1.8,1.9,2.0,10]).sort_index()\n",
    "testSetTotalCounts = np.array(BigSampleValueCounts2)\n",
    "testSetTotalCounts"
   ]
  },
  {
   "cell_type": "code",
   "execution_count": 12,
   "id": "f563ac3a-9639-4412-b005-d18fae07d2fe",
   "metadata": {},
   "outputs": [
    {
     "data": {
      "text/html": [
       "<div>\n",
       "<style scoped>\n",
       "    .dataframe tbody tr th:only-of-type {\n",
       "        vertical-align: middle;\n",
       "    }\n",
       "\n",
       "    .dataframe tbody tr th {\n",
       "        vertical-align: top;\n",
       "    }\n",
       "\n",
       "    .dataframe thead th {\n",
       "        text-align: right;\n",
       "    }\n",
       "</style>\n",
       "<table border=\"1\" class=\"dataframe\">\n",
       "  <thead>\n",
       "    <tr style=\"text-align: right;\">\n",
       "      <th></th>\n",
       "      <th>pt</th>\n",
       "      <th>predict</th>\n",
       "      <th>true</th>\n",
       "    </tr>\n",
       "  </thead>\n",
       "  <tbody>\n",
       "    <tr>\n",
       "      <th>0</th>\n",
       "      <td>0.186930</td>\n",
       "      <td>1</td>\n",
       "      <td>1</td>\n",
       "    </tr>\n",
       "    <tr>\n",
       "      <th>3</th>\n",
       "      <td>0.516073</td>\n",
       "      <td>1</td>\n",
       "      <td>0</td>\n",
       "    </tr>\n",
       "    <tr>\n",
       "      <th>4</th>\n",
       "      <td>0.353187</td>\n",
       "      <td>1</td>\n",
       "      <td>0</td>\n",
       "    </tr>\n",
       "    <tr>\n",
       "      <th>5</th>\n",
       "      <td>0.199539</td>\n",
       "      <td>1</td>\n",
       "      <td>1</td>\n",
       "    </tr>\n",
       "    <tr>\n",
       "      <th>7</th>\n",
       "      <td>0.159515</td>\n",
       "      <td>1</td>\n",
       "      <td>1</td>\n",
       "    </tr>\n",
       "    <tr>\n",
       "      <th>...</th>\n",
       "      <td>...</td>\n",
       "      <td>...</td>\n",
       "      <td>...</td>\n",
       "    </tr>\n",
       "    <tr>\n",
       "      <th>81511</th>\n",
       "      <td>0.159317</td>\n",
       "      <td>1</td>\n",
       "      <td>1</td>\n",
       "    </tr>\n",
       "    <tr>\n",
       "      <th>81512</th>\n",
       "      <td>0.197112</td>\n",
       "      <td>1</td>\n",
       "      <td>1</td>\n",
       "    </tr>\n",
       "    <tr>\n",
       "      <th>81513</th>\n",
       "      <td>0.176577</td>\n",
       "      <td>1</td>\n",
       "      <td>1</td>\n",
       "    </tr>\n",
       "    <tr>\n",
       "      <th>81515</th>\n",
       "      <td>0.144134</td>\n",
       "      <td>1</td>\n",
       "      <td>1</td>\n",
       "    </tr>\n",
       "    <tr>\n",
       "      <th>81518</th>\n",
       "      <td>0.191594</td>\n",
       "      <td>1</td>\n",
       "      <td>1</td>\n",
       "    </tr>\n",
       "  </tbody>\n",
       "</table>\n",
       "<p>39307 rows × 3 columns</p>\n",
       "</div>"
      ],
      "text/plain": [
       "             pt  predict  true\n",
       "0      0.186930        1     1\n",
       "3      0.516073        1     0\n",
       "4      0.353187        1     0\n",
       "5      0.199539        1     1\n",
       "7      0.159515        1     1\n",
       "...         ...      ...   ...\n",
       "81511  0.159317        1     1\n",
       "81512  0.197112        1     1\n",
       "81513  0.176577        1     1\n",
       "81515  0.144134        1     1\n",
       "81518  0.191594        1     1\n",
       "\n",
       "[39307 rows x 3 columns]"
      ]
     },
     "execution_count": 12,
     "metadata": {},
     "output_type": "execute_result"
    }
   ],
   "source": [
    "concatPosPredictRight1 = concatenate[(concatenate['predict'] ==1) | (concatenate['predict'] ==2)]\n",
    "concatPosPredictRight1"
   ]
  },
  {
   "cell_type": "code",
   "execution_count": 13,
   "id": "47f9b63a-8ef2-4027-958b-69c01d35f8d8",
   "metadata": {},
   "outputs": [
    {
     "data": {
      "text/plain": [
       "array([   80, 29794,  3268,  2049,  1209,   782,   502,   375,   265,\n",
       "         185,   158,   121,    98,    85,    49,    45,    36,    38,\n",
       "          25,    29,   114])"
      ]
     },
     "execution_count": 13,
     "metadata": {},
     "output_type": "execute_result"
    }
   ],
   "source": [
    "s3 = pd.Series(concatPosPredictRight1['pt'])\n",
    "BigSampleValueCounts3 = s3.value_counts(bins=[0,0.1,0.2,0.3,0.4,0.5,0.6,0.7,0.8,0.9,1.0,1.1,1.2,1.3,1.4,\n",
    "                                              1.5,1.6,1.7,1.8,1.9,2.0,10]).sort_index()\n",
    "testSetAs12 = np.array(BigSampleValueCounts3)\n",
    "testSetAs12"
   ]
  },
  {
   "cell_type": "code",
   "execution_count": 14,
   "id": "69093e73-c1a5-454e-80a1-13c3d6b93cae",
   "metadata": {},
   "outputs": [
    {
     "data": {
      "text/plain": [
       "array([  4.63414634,   5.32250848,  92.91455413,  92.50671455,\n",
       "        93.83447892,  97.64060258,  96.16111929,  93.87002172,\n",
       "        94.01781528,  94.46787948,  93.93338109,  93.88691006,\n",
       "        93.84326711,  89.52880922,  94.14098361,  95.84444444,\n",
       "        89.06334842,  92.62464183,  91.60726073,  89.66929134,\n",
       "       100.19172113])"
      ]
     },
     "execution_count": 14,
     "metadata": {},
     "output_type": "execute_result"
    }
   ],
   "source": [
    "makeRatio = TruthTotalCounts/testSetTotalCounts\n",
    "makeRatio"
   ]
  },
  {
   "cell_type": "code",
   "execution_count": 15,
   "id": "854b67cf-cd07-4f96-87d8-15a72609d365",
   "metadata": {},
   "outputs": [
    {
     "data": {
      "text/plain": [
       "1042779.5770242644"
      ]
     },
     "execution_count": 15,
     "metadata": {},
     "output_type": "execute_result"
    }
   ],
   "source": [
    "Sum = np.dot(testSetAs12,makeRatio)\n",
    "Sum"
   ]
  },
  {
   "cell_type": "code",
   "execution_count": 16,
   "id": "1bd7a5f6-e91f-4f9f-bf2e-bae302256617",
   "metadata": {},
   "outputs": [
    {
     "data": {
      "text/plain": [
       "0.2571688521245859"
      ]
     },
     "execution_count": 16,
     "metadata": {},
     "output_type": "execute_result"
    }
   ],
   "source": [
    "totalTracksTruthSet = 4054844\n",
    "Sum/totalTracksTruthSet"
   ]
  }
 ],
 "metadata": {
  "kernelspec": {
   "display_name": "Python 3 (ipykernel)",
   "language": "python",
   "name": "py3-preamble"
  },
  "language_info": {
   "codemirror_mode": {
    "name": "ipython",
    "version": 3
   },
   "file_extension": ".py",
   "mimetype": "text/x-python",
   "name": "python",
   "nbconvert_exporter": "python",
   "pygments_lexer": "ipython3",
   "version": "3.9.15"
  }
 },
 "nbformat": 4,
 "nbformat_minor": 5
}
